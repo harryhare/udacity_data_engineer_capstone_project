{
 "cells": [
  {
   "cell_type": "markdown",
   "metadata": {
    "editable": true
   },
   "source": [
    "# Project Title\n",
    "### Data Engineering Capstone Project\n",
    "\n",
    "#### Project Summary\n",
    "\n",
    "The project uses spark to load and do etl with U.S. immigration data. \n",
    "\n",
    "The project saves the processed result locally with parquet format.\n",
    "\n",
    "The project follows the follow steps:\n",
    "* Step 1: Scope the Project and Gather Data\n",
    "* Step 2: Explore and Assess the Data\n",
    "* Step 3: Define the Data Model\n",
    "* Step 4: Run ETL to Model the Data\n",
    "* Step 5: Complete Project Write Up"
   ]
  },
  {
   "cell_type": "code",
   "execution_count": 71,
   "metadata": {
    "editable": true
   },
   "outputs": [],
   "source": [
    "import pandas as pd\n",
    "from pyspark.sql import SparkSession\n",
    "from pyspark.sql.functions import udf, col\n",
    "from pyspark.sql.functions import year, month, dayofmonth, hour, weekofyear, date_format,dayofweek\n",
    "from pyspark.sql.functions import expr\n",
    "from pyspark.sql.functions import unix_timestamp,from_unixtime\n",
    "from pyspark.sql.types import StructType,StructField,StringType,IntegerType,DoubleType,DecimalType,TimestampType,ArrayType"
   ]
  },
  {
   "cell_type": "code",
   "execution_count": 4,
   "metadata": {
    "editable": true
   },
   "outputs": [],
   "source": [
    "spark = SparkSession.builder.\\\n",
    "config(\"spark.jars.packages\",\"saurfang:spark-sas7bdat:2.0.0-s_2.11\")\\\n",
    ".enableHiveSupport().getOrCreate()\n"
   ]
  },
  {
   "cell_type": "markdown",
   "metadata": {
    "editable": true
   },
   "source": [
    "### Step 1: Scope the Project and Gather Data\n",
    "\n",
    "#### Scope \n",
    "\n",
    "* goals: processed the date to fact tables and dimesion tables \n",
    "\n",
    "* tools: Spark\n",
    "\n",
    "#### Describe and Gather Data \n",
    "\n",
    "| data | from | local dir | link |   \n",
    "|:---|:---|:---|:---|\n",
    "| I94 Immigration Data | US National Tourism and Trade Office |/data/18-83510-I94-Data-2016/ | https://travel.trade.gov/research/reports/i94/historical/2016.html |\n",
    "| World Temperature Data | Kaggle | /data2/GlobalLandTemperaturesByCity.csv | https://www.kaggle.com/berkeleyearth/climate-change-earth-surface-temperature-data |\n",
    "| U.S. City Demographic Data | OpenSoft| /home/workspace/us-cities-demographics.csv  | https://public.opendatasoft.com/explore/dataset/us-cities-demographics/export/ |\n",
    "| Airport Code Table | datahub.io | /home/workspace/airport-codes_csv.csv  | https://datahub.io/core/airport-codes#data |\n"
   ]
  },
  {
   "cell_type": "code",
   "execution_count": 93,
   "metadata": {
    "editable": true
   },
   "outputs": [],
   "source": [
    "airport_file = \"../data/airport-codes_csv.csv\"\n",
    "city_fiele = \"../data/us-cities-demographics.csv\"\n",
    "temperature_file = \"/data2/GlobalLandTemperaturesByCity.csv\"\n",
    "immigration_dir = \"/data/18-83510-I94-Data-2016/\"\n",
    "immigration_dimesions= \"../data/I94_SAS_Labels_Descriptions.SAS\"\n",
    "immigration_sample =\"../data/immigration_data_sample.csv\"\n",
    "\n",
    "i94addrl_file=\"../output/i94addrl.csv\"\n",
    "i94cntyl_file=\"../output/i94cntyl.csv\"\n",
    "i94model_file=\"../output/i94model.csv\"\n",
    "i94prtl_file=\"../output/i94prtl.csv\"\n",
    "i94visa_file=\"../output/i94visa.csv\""
   ]
  },
  {
   "cell_type": "code",
   "execution_count": 7,
   "metadata": {
    "editable": true
   },
   "outputs": [
    {
     "data": {
      "text/html": [
       "<div>\n",
       "<style scoped>\n",
       "    .dataframe tbody tr th:only-of-type {\n",
       "        vertical-align: middle;\n",
       "    }\n",
       "\n",
       "    .dataframe tbody tr th {\n",
       "        vertical-align: top;\n",
       "    }\n",
       "\n",
       "    .dataframe thead th {\n",
       "        text-align: right;\n",
       "    }\n",
       "</style>\n",
       "<table border=\"1\" class=\"dataframe\">\n",
       "  <thead>\n",
       "    <tr style=\"text-align: right;\">\n",
       "      <th></th>\n",
       "      <th>Unnamed: 0</th>\n",
       "      <th>cicid</th>\n",
       "      <th>i94yr</th>\n",
       "      <th>i94mon</th>\n",
       "      <th>i94cit</th>\n",
       "      <th>i94res</th>\n",
       "      <th>i94port</th>\n",
       "      <th>arrdate</th>\n",
       "      <th>i94mode</th>\n",
       "      <th>i94addr</th>\n",
       "      <th>...</th>\n",
       "      <th>entdepu</th>\n",
       "      <th>matflag</th>\n",
       "      <th>biryear</th>\n",
       "      <th>dtaddto</th>\n",
       "      <th>gender</th>\n",
       "      <th>insnum</th>\n",
       "      <th>airline</th>\n",
       "      <th>admnum</th>\n",
       "      <th>fltno</th>\n",
       "      <th>visatype</th>\n",
       "    </tr>\n",
       "  </thead>\n",
       "  <tbody>\n",
       "    <tr>\n",
       "      <th>0</th>\n",
       "      <td>2027561</td>\n",
       "      <td>4084316.0</td>\n",
       "      <td>2016.0</td>\n",
       "      <td>4.0</td>\n",
       "      <td>209.0</td>\n",
       "      <td>209.0</td>\n",
       "      <td>HHW</td>\n",
       "      <td>20566.0</td>\n",
       "      <td>1.0</td>\n",
       "      <td>HI</td>\n",
       "      <td>...</td>\n",
       "      <td>NaN</td>\n",
       "      <td>M</td>\n",
       "      <td>1955.0</td>\n",
       "      <td>07202016</td>\n",
       "      <td>F</td>\n",
       "      <td>NaN</td>\n",
       "      <td>JL</td>\n",
       "      <td>5.658267e+10</td>\n",
       "      <td>00782</td>\n",
       "      <td>WT</td>\n",
       "    </tr>\n",
       "    <tr>\n",
       "      <th>1</th>\n",
       "      <td>2171295</td>\n",
       "      <td>4422636.0</td>\n",
       "      <td>2016.0</td>\n",
       "      <td>4.0</td>\n",
       "      <td>582.0</td>\n",
       "      <td>582.0</td>\n",
       "      <td>MCA</td>\n",
       "      <td>20567.0</td>\n",
       "      <td>1.0</td>\n",
       "      <td>TX</td>\n",
       "      <td>...</td>\n",
       "      <td>NaN</td>\n",
       "      <td>M</td>\n",
       "      <td>1990.0</td>\n",
       "      <td>10222016</td>\n",
       "      <td>M</td>\n",
       "      <td>NaN</td>\n",
       "      <td>*GA</td>\n",
       "      <td>9.436200e+10</td>\n",
       "      <td>XBLNG</td>\n",
       "      <td>B2</td>\n",
       "    </tr>\n",
       "    <tr>\n",
       "      <th>2</th>\n",
       "      <td>589494</td>\n",
       "      <td>1195600.0</td>\n",
       "      <td>2016.0</td>\n",
       "      <td>4.0</td>\n",
       "      <td>148.0</td>\n",
       "      <td>112.0</td>\n",
       "      <td>OGG</td>\n",
       "      <td>20551.0</td>\n",
       "      <td>1.0</td>\n",
       "      <td>FL</td>\n",
       "      <td>...</td>\n",
       "      <td>NaN</td>\n",
       "      <td>M</td>\n",
       "      <td>1940.0</td>\n",
       "      <td>07052016</td>\n",
       "      <td>M</td>\n",
       "      <td>NaN</td>\n",
       "      <td>LH</td>\n",
       "      <td>5.578047e+10</td>\n",
       "      <td>00464</td>\n",
       "      <td>WT</td>\n",
       "    </tr>\n",
       "    <tr>\n",
       "      <th>3</th>\n",
       "      <td>2631158</td>\n",
       "      <td>5291768.0</td>\n",
       "      <td>2016.0</td>\n",
       "      <td>4.0</td>\n",
       "      <td>297.0</td>\n",
       "      <td>297.0</td>\n",
       "      <td>LOS</td>\n",
       "      <td>20572.0</td>\n",
       "      <td>1.0</td>\n",
       "      <td>CA</td>\n",
       "      <td>...</td>\n",
       "      <td>NaN</td>\n",
       "      <td>M</td>\n",
       "      <td>1991.0</td>\n",
       "      <td>10272016</td>\n",
       "      <td>M</td>\n",
       "      <td>NaN</td>\n",
       "      <td>QR</td>\n",
       "      <td>9.478970e+10</td>\n",
       "      <td>00739</td>\n",
       "      <td>B2</td>\n",
       "    </tr>\n",
       "    <tr>\n",
       "      <th>4</th>\n",
       "      <td>3032257</td>\n",
       "      <td>985523.0</td>\n",
       "      <td>2016.0</td>\n",
       "      <td>4.0</td>\n",
       "      <td>111.0</td>\n",
       "      <td>111.0</td>\n",
       "      <td>CHM</td>\n",
       "      <td>20550.0</td>\n",
       "      <td>3.0</td>\n",
       "      <td>NY</td>\n",
       "      <td>...</td>\n",
       "      <td>NaN</td>\n",
       "      <td>M</td>\n",
       "      <td>1997.0</td>\n",
       "      <td>07042016</td>\n",
       "      <td>F</td>\n",
       "      <td>NaN</td>\n",
       "      <td>NaN</td>\n",
       "      <td>4.232257e+10</td>\n",
       "      <td>LAND</td>\n",
       "      <td>WT</td>\n",
       "    </tr>\n",
       "  </tbody>\n",
       "</table>\n",
       "<p>5 rows × 29 columns</p>\n",
       "</div>"
      ],
      "text/plain": [
       "   Unnamed: 0      cicid   i94yr  i94mon  i94cit  i94res i94port  arrdate  \\\n",
       "0     2027561  4084316.0  2016.0     4.0   209.0   209.0     HHW  20566.0   \n",
       "1     2171295  4422636.0  2016.0     4.0   582.0   582.0     MCA  20567.0   \n",
       "2      589494  1195600.0  2016.0     4.0   148.0   112.0     OGG  20551.0   \n",
       "3     2631158  5291768.0  2016.0     4.0   297.0   297.0     LOS  20572.0   \n",
       "4     3032257   985523.0  2016.0     4.0   111.0   111.0     CHM  20550.0   \n",
       "\n",
       "   i94mode i94addr    ...     entdepu  matflag  biryear   dtaddto  gender  \\\n",
       "0      1.0      HI    ...         NaN        M   1955.0  07202016       F   \n",
       "1      1.0      TX    ...         NaN        M   1990.0  10222016       M   \n",
       "2      1.0      FL    ...         NaN        M   1940.0  07052016       M   \n",
       "3      1.0      CA    ...         NaN        M   1991.0  10272016       M   \n",
       "4      3.0      NY    ...         NaN        M   1997.0  07042016       F   \n",
       "\n",
       "  insnum airline        admnum  fltno  visatype  \n",
       "0    NaN      JL  5.658267e+10  00782        WT  \n",
       "1    NaN     *GA  9.436200e+10  XBLNG        B2  \n",
       "2    NaN      LH  5.578047e+10  00464        WT  \n",
       "3    NaN      QR  9.478970e+10  00739        B2  \n",
       "4    NaN     NaN  4.232257e+10   LAND        WT  \n",
       "\n",
       "[5 rows x 29 columns]"
      ]
     },
     "execution_count": 7,
     "metadata": {},
     "output_type": "execute_result"
    }
   ],
   "source": [
    "pd_immigration=pd.read_csv(immigration_sample)\n",
    "pd_immigration.head()\n"
   ]
  },
  {
   "cell_type": "code",
   "execution_count": 8,
   "metadata": {
    "editable": true
   },
   "outputs": [
    {
     "data": {
      "text/html": [
       "<div>\n",
       "<style scoped>\n",
       "    .dataframe tbody tr th:only-of-type {\n",
       "        vertical-align: middle;\n",
       "    }\n",
       "\n",
       "    .dataframe tbody tr th {\n",
       "        vertical-align: top;\n",
       "    }\n",
       "\n",
       "    .dataframe thead th {\n",
       "        text-align: right;\n",
       "    }\n",
       "</style>\n",
       "<table border=\"1\" class=\"dataframe\">\n",
       "  <thead>\n",
       "    <tr style=\"text-align: right;\">\n",
       "      <th></th>\n",
       "      <th>ident</th>\n",
       "      <th>type</th>\n",
       "      <th>name</th>\n",
       "      <th>elevation_ft</th>\n",
       "      <th>continent</th>\n",
       "      <th>iso_country</th>\n",
       "      <th>iso_region</th>\n",
       "      <th>municipality</th>\n",
       "      <th>gps_code</th>\n",
       "      <th>iata_code</th>\n",
       "      <th>local_code</th>\n",
       "      <th>coordinates</th>\n",
       "    </tr>\n",
       "  </thead>\n",
       "  <tbody>\n",
       "    <tr>\n",
       "      <th>0</th>\n",
       "      <td>00A</td>\n",
       "      <td>heliport</td>\n",
       "      <td>Total Rf Heliport</td>\n",
       "      <td>11.0</td>\n",
       "      <td>NaN</td>\n",
       "      <td>US</td>\n",
       "      <td>US-PA</td>\n",
       "      <td>Bensalem</td>\n",
       "      <td>00A</td>\n",
       "      <td>NaN</td>\n",
       "      <td>00A</td>\n",
       "      <td>-74.93360137939453, 40.07080078125</td>\n",
       "    </tr>\n",
       "    <tr>\n",
       "      <th>1</th>\n",
       "      <td>00AA</td>\n",
       "      <td>small_airport</td>\n",
       "      <td>Aero B Ranch Airport</td>\n",
       "      <td>3435.0</td>\n",
       "      <td>NaN</td>\n",
       "      <td>US</td>\n",
       "      <td>US-KS</td>\n",
       "      <td>Leoti</td>\n",
       "      <td>00AA</td>\n",
       "      <td>NaN</td>\n",
       "      <td>00AA</td>\n",
       "      <td>-101.473911, 38.704022</td>\n",
       "    </tr>\n",
       "    <tr>\n",
       "      <th>2</th>\n",
       "      <td>00AK</td>\n",
       "      <td>small_airport</td>\n",
       "      <td>Lowell Field</td>\n",
       "      <td>450.0</td>\n",
       "      <td>NaN</td>\n",
       "      <td>US</td>\n",
       "      <td>US-AK</td>\n",
       "      <td>Anchor Point</td>\n",
       "      <td>00AK</td>\n",
       "      <td>NaN</td>\n",
       "      <td>00AK</td>\n",
       "      <td>-151.695999146, 59.94919968</td>\n",
       "    </tr>\n",
       "    <tr>\n",
       "      <th>3</th>\n",
       "      <td>00AL</td>\n",
       "      <td>small_airport</td>\n",
       "      <td>Epps Airpark</td>\n",
       "      <td>820.0</td>\n",
       "      <td>NaN</td>\n",
       "      <td>US</td>\n",
       "      <td>US-AL</td>\n",
       "      <td>Harvest</td>\n",
       "      <td>00AL</td>\n",
       "      <td>NaN</td>\n",
       "      <td>00AL</td>\n",
       "      <td>-86.77030181884766, 34.86479949951172</td>\n",
       "    </tr>\n",
       "    <tr>\n",
       "      <th>4</th>\n",
       "      <td>00AR</td>\n",
       "      <td>closed</td>\n",
       "      <td>Newport Hospital &amp; Clinic Heliport</td>\n",
       "      <td>237.0</td>\n",
       "      <td>NaN</td>\n",
       "      <td>US</td>\n",
       "      <td>US-AR</td>\n",
       "      <td>Newport</td>\n",
       "      <td>NaN</td>\n",
       "      <td>NaN</td>\n",
       "      <td>NaN</td>\n",
       "      <td>-91.254898, 35.6087</td>\n",
       "    </tr>\n",
       "  </tbody>\n",
       "</table>\n",
       "</div>"
      ],
      "text/plain": [
       "  ident           type                                name  elevation_ft  \\\n",
       "0   00A       heliport                   Total Rf Heliport          11.0   \n",
       "1  00AA  small_airport                Aero B Ranch Airport        3435.0   \n",
       "2  00AK  small_airport                        Lowell Field         450.0   \n",
       "3  00AL  small_airport                        Epps Airpark         820.0   \n",
       "4  00AR         closed  Newport Hospital & Clinic Heliport         237.0   \n",
       "\n",
       "  continent iso_country iso_region  municipality gps_code iata_code  \\\n",
       "0       NaN          US      US-PA      Bensalem      00A       NaN   \n",
       "1       NaN          US      US-KS         Leoti     00AA       NaN   \n",
       "2       NaN          US      US-AK  Anchor Point     00AK       NaN   \n",
       "3       NaN          US      US-AL       Harvest     00AL       NaN   \n",
       "4       NaN          US      US-AR       Newport      NaN       NaN   \n",
       "\n",
       "  local_code                            coordinates  \n",
       "0        00A     -74.93360137939453, 40.07080078125  \n",
       "1       00AA                 -101.473911, 38.704022  \n",
       "2       00AK            -151.695999146, 59.94919968  \n",
       "3       00AL  -86.77030181884766, 34.86479949951172  \n",
       "4        NaN                    -91.254898, 35.6087  "
      ]
     },
     "execution_count": 8,
     "metadata": {},
     "output_type": "execute_result"
    }
   ],
   "source": [
    "# Read in the data here\n",
    "pd_airport = pd.read_csv(airport_file,header=0)\n",
    "pd_airport.head()\n"
   ]
  },
  {
   "cell_type": "code",
   "execution_count": 97,
   "metadata": {
    "editable": true
   },
   "outputs": [
    {
     "name": "stdout",
     "output_type": "stream",
     "text": [
      "+----+-------------+--------------------+------------+---------+-----------+----------+----------------+--------+---------+----------+--------------------+\n",
      "|  id|         type|                name|elevation_ft|continent|iso_country|iso_region|    municipality|gps_code|iata_code|local_code|         coordinates|\n",
      "+----+-------------+--------------------+------------+---------+-----------+----------+----------------+--------+---------+----------+--------------------+\n",
      "| 00A|     heliport|   Total Rf Heliport|          11|       NA|         US|     US-PA|        Bensalem|     00A|     null|       00A|-74.9336013793945...|\n",
      "|00AA|small_airport|Aero B Ranch Airport|        3435|       NA|         US|     US-KS|           Leoti|    00AA|     null|      00AA|-101.473911, 38.7...|\n",
      "|00AK|small_airport|        Lowell Field|         450|       NA|         US|     US-AK|    Anchor Point|    00AK|     null|      00AK|-151.695999146, 5...|\n",
      "|00AL|small_airport|        Epps Airpark|         820|       NA|         US|     US-AL|         Harvest|    00AL|     null|      00AL|-86.7703018188476...|\n",
      "|00AR|       closed|Newport Hospital ...|         237|       NA|         US|     US-AR|         Newport|    null|     null|      null| -91.254898, 35.6087|\n",
      "|00AS|small_airport|      Fulton Airport|        1100|       NA|         US|     US-OK|            Alex|    00AS|     null|      00AS|-97.8180194, 34.9...|\n",
      "|00AZ|small_airport|      Cordes Airport|        3810|       NA|         US|     US-AZ|          Cordes|    00AZ|     null|      00AZ|-112.165000915527...|\n",
      "|00CA|small_airport|Goldstone /Gts/ A...|        3038|       NA|         US|     US-CA|         Barstow|    00CA|     null|      00CA|-116.888000488, 3...|\n",
      "|00CL|small_airport| Williams Ag Airport|          87|       NA|         US|     US-CA|           Biggs|    00CL|     null|      00CL|-121.763427, 39.4...|\n",
      "|00CN|     heliport|Kitchen Creek Hel...|        3350|       NA|         US|     US-CA|     Pine Valley|    00CN|     null|      00CN|-116.4597417, 32....|\n",
      "|00CO|       closed|          Cass Field|        4830|       NA|         US|     US-CO|      Briggsdale|    null|     null|      null|-104.344002, 40.6...|\n",
      "|00FA|small_airport| Grass Patch Airport|          53|       NA|         US|     US-FL|        Bushnell|    00FA|     null|      00FA|-82.2190017700195...|\n",
      "|00FD|     heliport|  Ringhaver Heliport|          25|       NA|         US|     US-FL|       Riverview|    00FD|     null|      00FD|-82.3453979492187...|\n",
      "|00FL|small_airport|   River Oak Airport|          35|       NA|         US|     US-FL|      Okeechobee|    00FL|     null|      00FL|-80.9692001342773...|\n",
      "|00GA|small_airport|    Lt World Airport|         700|       NA|         US|     US-GA|        Lithonia|    00GA|     null|      00GA|-84.0682983398437...|\n",
      "|00GE|     heliport|    Caffrey Heliport|         957|       NA|         US|     US-GA|           Hiram|    00GE|     null|      00GE|-84.7339019775390...|\n",
      "|00HI|     heliport|  Kaupulehu Heliport|          43|       NA|         US|     US-HI|     Kailua/Kona|    00HI|     null|      00HI|-155.980233, 19.8...|\n",
      "|00ID|small_airport|Delta Shores Airport|        2064|       NA|         US|     US-ID|      Clark Fork|    00ID|     null|      00ID|-116.213996887207...|\n",
      "|00IG|small_airport|       Goltl Airport|        3359|       NA|         US|     US-KS|        McDonald|    00IG|     null|      00IG|-101.395994, 39.7...|\n",
      "|00II|     heliport|Bailey Generation...|         600|       NA|         US|     US-IN|      Chesterton|    00II|     null|      00II|-87.122802734375,...|\n",
      "|00IL|small_airport|      Hammer Airport|         840|       NA|         US|     US-IL|            Polo|    00IL|     null|      00IL|-89.5604019165039...|\n",
      "|00IN|     heliport|St Mary Medical C...|         634|       NA|         US|     US-IN|          Hobart|    00IN|     null|      00IN|-87.2605972290039...|\n",
      "|00IS|small_airport|Hayenga's Cant Fi...|         820|       NA|         US|     US-IL|           Kings|    00IS|     null|      00IS|-89.1229019165039...|\n",
      "|00KS|small_airport| Hayden Farm Airport|        1100|       NA|         US|     US-KS|         Gardner|    00KS|     null|      00KS|-94.9304962158203...|\n",
      "|00KY|small_airport|Robbins Roost Air...|        1265|       NA|         US|     US-KY|        Stanford|    00KY|     null|      00KY|-84.6196975708007...|\n",
      "|00LA|     heliport|Shell Chemical Ea...|          15|       NA|         US|     US-LA|        Gonzales|    00LA|     null|      00LA|-90.980833, 30.19...|\n",
      "|00LL|     heliport|Ac & R Components...|         600|       NA|         US|     US-IL|         Chatham|    00LL|     null|      00LL|-89.7055969238281...|\n",
      "|00LS|small_airport|     Lejeune Airport|          12|       NA|         US|     US-LA|       Esterwood|    00LS|     null|      00LS|-92.4293975830078...|\n",
      "|00MD|small_airport|        Slater Field|          45|       NA|         US|     US-MD|    Federalsburg|    00MD|     null|      00MD|-75.7537994384765...|\n",
      "|00MI|     heliport|Dow Chemical Heli...|         588|       NA|         US|     US-MI|       Ludington|    00MI|     null|      00MI|-86.4167022705078...|\n",
      "|00MN|small_airport|Battle Lake Munic...|        1365|       NA|         US|     US-MN|     Battle Lake|    00MN|     null|      00MN|-95.7003021240234...|\n",
      "|00MO|small_airport|Cooper Flying Ser...|         970|       NA|         US|     US-MO|            Alba|    00MO|     null|      00MO|-94.412399291992,...|\n",
      "|00MT|       closed| Sands Ranch Airport|        2600|       NA|         US|     US-MT|           Havre|    null|     null|      null|-109.705002, 48.5...|\n",
      "| 00N|small_airport|       Bucks Airport|         105|       NA|         US|     US-NJ|       Bridgeton|     00N|     null|       00N|-75.1852035522461...|\n",
      "|00NC|small_airport|North Raleigh Air...|         348|       NA|         US|     US-NC|       Louisburg|    00NC|     null|      00NC|-78.3713989257812...|\n",
      "|00NJ|     heliport|Colgate-Piscatawa...|          78|       NA|         US|     US-NJ|   New Brunswick|    00NJ|     null|      00NJ|-74.4746017456054...|\n",
      "|00NK|seaplane_base|Cliche Cove Seapl...|          96|       NA|         US|     US-NY|     Beekmantown|    00NK|     null|      00NK|-73.3698057, 44.8...|\n",
      "|00NY|small_airport|      Weiss Airfield|        1000|       NA|         US|     US-NY| West Bloomfield|    00NY|     null|      00NY|-77.4997024536132...|\n",
      "|00OH|small_airport|      Exit 3 Airport|         785|       NA|         US|     US-OH|         Wauseon|    00OH|     null|      00OH|-84.1421966552734...|\n",
      "|00OI|     heliport|Miami Valley Hosp...|         905|       NA|         US|     US-OH|          Dayton|    00OI|     null|      00OI|-84.1874008178711...|\n",
      "|00OK|small_airport|Gull Bay Landing ...|         960|       NA|         US|     US-OK|     Sandsprings|    00OK|     null|      00OK|-96.217693, 36.19...|\n",
      "|00OR|     heliport|Steel Systems Hel...|         195|       NA|         US|     US-OR|           Salem|    00OR|     null|      00OR|-123.129997253417...|\n",
      "|00PA|     heliport|      R J D Heliport|         402|       NA|         US|     US-PA|     Coatesville|    00PA|     null|      00PA|-75.7469024658203...|\n",
      "|00PN|small_airport|       Ferrell Field|        1301|       NA|         US|     US-PA|          Mercer|    00PN|     null|      00PN| -80.211111, 41.2995|\n",
      "|00PS|       closed|        Thomas Field|         815|       NA|         US|     US-PA|       Loysville|    null|     null|      null| -77.365303, 40.3778|\n",
      "| 00S|small_airport|Mc Kenzie Bridge ...|        1620|       NA|         US|     US-OR|Mc Kenzie Bridge|     00S|     null|       00S|-122.088996887, 4...|\n",
      "|00SC|small_airport|    Flying O Airport|         150|       NA|         US|     US-SC|          Sumter|    00SC|     null|      00SC|-80.2671966552734...|\n",
      "|00SD|small_airport|         Homan Field|        1590|       NA|         US|     US-SD|            Gary|    00SD|     null|      00SD|-96.498897, 44.80...|\n",
      "|00TA|     heliport|Sw Region Faa Hel...|         598|       NA|         US|     US-TX|      Fort Worth|    00TA|     null|      00TA|-97.3058013916015...|\n",
      "|00TE|     heliport|Tcjc-Northeast Ca...|         600|       NA|         US|     US-TX|      Fort Worth|    00TE|     null|      00TE|-97.1894989013671...|\n",
      "+----+-------------+--------------------+------------+---------+-----------+----------+----------------+--------+---------+----------+--------------------+\n",
      "only showing top 50 rows\n",
      "\n"
     ]
    },
    {
     "data": {
      "text/plain": [
       "55075"
      ]
     },
     "execution_count": 97,
     "metadata": {},
     "output_type": "execute_result"
    }
   ],
   "source": [
    "coordinates = StructType([\n",
    "    StructField('x', StringType(), False),\n",
    "    StructField('y', StringType(), True),\n",
    "])\n",
    "schema = StructType([\n",
    "    StructField('id', StringType(), False),\n",
    "    StructField('type', StringType(), True),\n",
    "    StructField('name', StringType(), True),\n",
    "    StructField('elevation_ft', IntegerType(), True),\n",
    "    StructField('continent', StringType(), True),\n",
    "    StructField('iso_country', StringType(), True),\n",
    "    StructField('iso_region', StringType(), True),\n",
    "    StructField('municipality', StringType(), True),\n",
    "    StructField('gps_code',StringType(), True),\n",
    "    StructField('iata_code', StringType(), True),\n",
    "    StructField('local_code', StringType(), True),\n",
    "    StructField('coordinates', StringType() , True),\n",
    "])\n",
    "df_airport=spark.read.csv(airport_file, header=True, schema=schema)\n",
    "df_airport.show(50)\n",
    "df_airport.count()"
   ]
  },
  {
   "cell_type": "code",
   "execution_count": 64,
   "metadata": {
    "editable": true
   },
   "outputs": [
    {
     "name": "stdout",
     "output_type": "stream",
     "text": [
      "+----------------+-------------+----------+------+------+------+--------+------------+-----------------+----------+--------------------+-----+\n",
      "|            city|        state|median_age|  male|female| total|veterans|foreign_born|average_household|state_code|                race|count|\n",
      "+----------------+-------------+----------+------+------+------+--------+------------+-----------------+----------+--------------------+-----+\n",
      "|   Silver Spring|     Maryland|      33.8| 40601| 41862| 82463|    1562|       30908|             2.60|        MD|  Hispanic or Latino|25924|\n",
      "|          Quincy|Massachusetts|      41.0| 44129| 49500| 93629|    4147|       32935|             2.39|        MA|               White|58723|\n",
      "|          Hoover|      Alabama|      38.5| 38040| 46799| 84839|    4819|        8229|             2.58|        AL|               Asian| 4759|\n",
      "|Rancho Cucamonga|   California|      34.5| 88127| 87105|175232|    5821|       33878|             3.18|        CA|Black or African-...|24437|\n",
      "|          Newark|   New Jersey|      34.6|138040|143873|281913|    5829|       86253|             2.73|        NJ|               White|76402|\n",
      "+----------------+-------------+----------+------+------+------+--------+------------+-----------------+----------+--------------------+-----+\n",
      "only showing top 5 rows\n",
      "\n"
     ]
    },
    {
     "data": {
      "text/plain": [
       "2891"
      ]
     },
     "execution_count": 64,
     "metadata": {},
     "output_type": "execute_result"
    }
   ],
   "source": [
    "schema = StructType([\n",
    "    StructField('city', StringType(), False),\n",
    "    StructField('state', StringType(), True),\n",
    "    StructField('median_age', DecimalType(4,1), True),\n",
    "    StructField('male', IntegerType(), True),\n",
    "    StructField('female', IntegerType(), True),\n",
    "    StructField('total', IntegerType(), True),\n",
    "    StructField('veterans', IntegerType(), True),\n",
    "    StructField('foreign_born', IntegerType(), True),\n",
    "    StructField('average_household',DecimalType(4,2), True),\n",
    "    StructField('state_code', StringType(), True),\n",
    "    StructField('race', StringType(), True),\n",
    "    StructField('count', IntegerType(), True),\n",
    "])\n",
    "#df_city=spark.read.option(\"header\", True).option(\"delimiter\", \";\").csv(city_fiele)\n",
    "df_city=spark.read.csv(city_fiele,header=True,schema=schema,sep=\";\")\n",
    "df_city.show(5)\n",
    "df_city.count()"
   ]
  },
  {
   "cell_type": "code",
   "execution_count": 39,
   "metadata": {
    "editable": true
   },
   "outputs": [
    {
     "name": "stdout",
     "output_type": "stream",
     "text": [
      "+-------------------+-----------+------------------+-----+-------+--------+---------+\n",
      "|               date|temperature|       uncertainty| city|country|latitude|longitude|\n",
      "+-------------------+-----------+------------------+-----+-------+--------+---------+\n",
      "|1743-11-01 00:00:00|      6.068|1.7369999999999999|Århus|Denmark|  57.05N|   10.33E|\n",
      "|1743-12-01 00:00:00|       null|              null|Århus|Denmark|  57.05N|   10.33E|\n",
      "|1744-01-01 00:00:00|       null|              null|Århus|Denmark|  57.05N|   10.33E|\n",
      "|1744-02-01 00:00:00|       null|              null|Århus|Denmark|  57.05N|   10.33E|\n",
      "|1744-03-01 00:00:00|       null|              null|Århus|Denmark|  57.05N|   10.33E|\n",
      "+-------------------+-----------+------------------+-----+-------+--------+---------+\n",
      "only showing top 5 rows\n",
      "\n"
     ]
    },
    {
     "data": {
      "text/plain": [
       "8599212"
      ]
     },
     "execution_count": 39,
     "metadata": {},
     "output_type": "execute_result"
    }
   ],
   "source": [
    "schema = StructType([\n",
    "    StructField('date', TimestampType(), True),\n",
    "    StructField('temperature', DoubleType(), True),\n",
    "    StructField('uncertainty', DoubleType(), True),\n",
    "    StructField('city', StringType(), True),\n",
    "    StructField('country', StringType(), True),\n",
    "    StructField('latitude', StringType(), True),\n",
    "    StructField('longitude', StringType(), True),\n",
    "    \n",
    "])\n",
    "df_temperature=spark.read.option(\"header\", True).csv(temperature_file,schema=schema)\n",
    "df_temperature.show(5)\n",
    "df_temperature.count()\n"
   ]
  },
  {
   "cell_type": "code",
   "execution_count": 12,
   "metadata": {
    "editable": true
   },
   "outputs": [],
   "source": [
    "#write to parquet\n",
    "#df_spark =spark.read.format('com.github.saurfang.sas.spark').load('../../data/18-83510-I94-Data-2016/i94_apr16_sub.sas7bdat')\n",
    "#df_spark.write.parquet(\"output/sas_data\")"
   ]
  },
  {
   "cell_type": "code",
   "execution_count": 91,
   "metadata": {
    "editable": true
   },
   "outputs": [
    {
     "name": "stdout",
     "output_type": "stream",
     "text": [
      "root\n",
      " |-- cicid: double (nullable = true)\n",
      " |-- i94yr: double (nullable = true)\n",
      " |-- i94mon: double (nullable = true)\n",
      " |-- i94cit: double (nullable = true)\n",
      " |-- i94res: double (nullable = true)\n",
      " |-- i94port: string (nullable = true)\n",
      " |-- arrdate: double (nullable = true)\n",
      " |-- i94mode: double (nullable = true)\n",
      " |-- i94addr: string (nullable = true)\n",
      " |-- depdate: double (nullable = true)\n",
      " |-- i94bir: double (nullable = true)\n",
      " |-- i94visa: double (nullable = true)\n",
      " |-- count: double (nullable = true)\n",
      " |-- dtadfile: string (nullable = true)\n",
      " |-- visapost: string (nullable = true)\n",
      " |-- occup: string (nullable = true)\n",
      " |-- entdepa: string (nullable = true)\n",
      " |-- entdepd: string (nullable = true)\n",
      " |-- entdepu: string (nullable = true)\n",
      " |-- matflag: string (nullable = true)\n",
      " |-- biryear: double (nullable = true)\n",
      " |-- dtaddto: string (nullable = true)\n",
      " |-- gender: string (nullable = true)\n",
      " |-- insnum: string (nullable = true)\n",
      " |-- airline: string (nullable = true)\n",
      " |-- admnum: double (nullable = true)\n",
      " |-- fltno: string (nullable = true)\n",
      " |-- visatype: string (nullable = true)\n",
      "\n",
      "+---------+------+------+------+------+-------+-------+-------+-------+-------+------+-------+-----+--------+--------+-----+-------+-------+-------+-------+-------+--------+------+------+-------+--------------+-----+--------+\n",
      "|    cicid| i94yr|i94mon|i94cit|i94res|i94port|arrdate|i94mode|i94addr|depdate|i94bir|i94visa|count|dtadfile|visapost|occup|entdepa|entdepd|entdepu|matflag|biryear| dtaddto|gender|insnum|airline|        admnum|fltno|visatype|\n",
      "+---------+------+------+------+------+-------+-------+-------+-------+-------+------+-------+-----+--------+--------+-----+-------+-------+-------+-------+-------+--------+------+------+-------+--------------+-----+--------+\n",
      "|5748517.0|2016.0|   4.0| 245.0| 438.0|    LOS|20574.0|    1.0|     CA|20582.0|  40.0|    1.0|  1.0|20160430|     SYD| null|      G|      O|   null|      M| 1976.0|10292016|     F|  null|     QF|9.495387003E10|00011|      B1|\n",
      "|5748518.0|2016.0|   4.0| 245.0| 438.0|    LOS|20574.0|    1.0|     NV|20591.0|  32.0|    1.0|  1.0|20160430|     SYD| null|      G|      O|   null|      M| 1984.0|10292016|     F|  null|     VA|9.495562283E10|00007|      B1|\n",
      "|5748519.0|2016.0|   4.0| 245.0| 438.0|    LOS|20574.0|    1.0|     WA|20582.0|  29.0|    1.0|  1.0|20160430|     SYD| null|      G|      O|   null|      M| 1987.0|10292016|     M|  null|     DL|9.495640653E10|00040|      B1|\n",
      "|5748520.0|2016.0|   4.0| 245.0| 438.0|    LOS|20574.0|    1.0|     WA|20588.0|  29.0|    1.0|  1.0|20160430|     SYD| null|      G|      O|   null|      M| 1987.0|10292016|     F|  null|     DL|9.495645143E10|00040|      B1|\n",
      "|5748521.0|2016.0|   4.0| 245.0| 438.0|    LOS|20574.0|    1.0|     WA|20588.0|  28.0|    1.0|  1.0|20160430|     SYD| null|      G|      O|   null|      M| 1988.0|10292016|     M|  null|     DL|9.495638813E10|00040|      B1|\n",
      "+---------+------+------+------+------+-------+-------+-------+-------+-------+------+-------+-----+--------+--------+-----+-------+-------+-------+-------+-------+--------+------+------+-------+--------------+-----+--------+\n",
      "only showing top 5 rows\n",
      "\n"
     ]
    },
    {
     "data": {
      "text/plain": [
       "3096313"
      ]
     },
     "execution_count": 91,
     "metadata": {},
     "output_type": "execute_result"
    }
   ],
   "source": [
    "schema = StructType([\n",
    "    StructField('cicid', DoubleType(), False),\n",
    "    StructField('i94yr', DoubleType(), True),\n",
    "    StructField('i94mon', DoubleType(), True),\n",
    "    StructField('i94cit', DoubleType(), True),\n",
    "    StructField('i94res', DoubleType(), True),\n",
    "    StructField('i94port', StringType(), True),\n",
    "    StructField('arrdate', DoubleType(), True),\n",
    "    StructField('i94mode', DoubleType(), True),\n",
    "    StructField('i94addr', StringType(), True),\n",
    "    StructField('depdate', DoubleType(), True),\n",
    "    StructField('i94bir', DoubleType(), True),\n",
    "    StructField('i94visa', DoubleType(), True),\n",
    "    StructField('count', DoubleType(), True),\n",
    "    StructField('dtadfile', StringType(), True),\n",
    "    StructField('visapost', StringType(), True),\n",
    "    StructField('occup', StringType(), True),\n",
    "    StructField('entdepa', StringType(), True),\n",
    "    StructField('entdepd', StringType(), True),\n",
    "    StructField('entdepu', StringType(), True),\n",
    "    StructField('matflag', StringType(), True),\n",
    "    StructField('biryear', DoubleType(), True),\n",
    "    StructField('dtaddto', StringType(), True),\n",
    "    StructField('gender', StringType(), True),\n",
    "    StructField('insnum', StringType(), True),\n",
    "    StructField('airline', StringType(), True),\n",
    "    StructField('admnum', DoubleType(), True),\n",
    "    StructField('fltno', StringType(), True),\n",
    "    StructField('visatype', StringType(), True),\n",
    "])\n",
    "#df_spark=spark.read.schema(schema).parquet(\"../output/sas_data\")\n",
    "df_spark=spark.read.parquet(\"../output/sas_data\")\n",
    "df_spark.printSchema()\n",
    "df_spark.show(5)\n",
    "df_spark.count()\n"
   ]
  },
  {
   "cell_type": "code",
   "execution_count": 27,
   "metadata": {
    "editable": true
   },
   "outputs": [
    {
     "name": "stdout",
     "output_type": "stream",
     "text": [
      "+---+----------+\n",
      "| id|      name|\n",
      "+---+----------+\n",
      "| AL|   ALABAMA|\n",
      "| AK|    ALASKA|\n",
      "| AZ|   ARIZONA|\n",
      "| AR|  ARKANSAS|\n",
      "| CA|CALIFORNIA|\n",
      "+---+----------+\n",
      "only showing top 5 rows\n",
      "\n"
     ]
    },
    {
     "data": {
      "text/plain": [
       "55"
      ]
     },
     "execution_count": 27,
     "metadata": {},
     "output_type": "execute_result"
    }
   ],
   "source": [
    "schema = StructType([\n",
    "    StructField('id', StringType(), True),\n",
    "    StructField('state', StringType(), True),\n",
    "])\n",
    "df_i94addr=spark.read.csv(i94addrl_file,schema=schema,sep=\";\")\n",
    "df_i94addr.show(5)\n",
    "df_i94addr.count()"
   ]
  },
  {
   "cell_type": "code",
   "execution_count": 96,
   "metadata": {
    "editable": true
   },
   "outputs": [
    {
     "name": "stdout",
     "output_type": "stream",
     "text": [
      "+---+--------------------+\n",
      "| id|                city|\n",
      "+---+--------------------+\n",
      "|582|MEXICO Air Sea, a...|\n",
      "|236|         AFGHANISTAN|\n",
      "|101|             ALBANIA|\n",
      "|316|             ALGERIA|\n",
      "|102|             ANDORRA|\n",
      "+---+--------------------+\n",
      "only showing top 5 rows\n",
      "\n"
     ]
    },
    {
     "data": {
      "text/plain": [
       "289"
      ]
     },
     "execution_count": 96,
     "metadata": {},
     "output_type": "execute_result"
    }
   ],
   "source": [
    "schema = StructType([\n",
    "    StructField('id', IntegerType(), True),\n",
    "    StructField('city', StringType(), True),\n",
    "])\n",
    "df_i94city=spark.read.csv(i94cntyl_file,schema=schema,sep=\";\")\n",
    "df_i94city.show(5)\n",
    "df_i94city.count()"
   ]
  },
  {
   "cell_type": "code",
   "execution_count": 30,
   "metadata": {
    "editable": true
   },
   "outputs": [
    {
     "name": "stdout",
     "output_type": "stream",
     "text": [
      "+---+------------+\n",
      "| id|       model|\n",
      "+---+------------+\n",
      "|  1|         Air|\n",
      "|  2|         Sea|\n",
      "|  3|        Land|\n",
      "|  9|Not reported|\n",
      "+---+------------+\n",
      "\n"
     ]
    },
    {
     "data": {
      "text/plain": [
       "4"
      ]
     },
     "execution_count": 30,
     "metadata": {},
     "output_type": "execute_result"
    }
   ],
   "source": [
    "schema = StructType([\n",
    "    StructField('id', IntegerType(), True),\n",
    "    StructField('model', StringType(), True),\n",
    "])\n",
    "df_i94model=spark.read.csv(i94model_file,schema=schema,sep=\";\")\n",
    "df_i94model.show(5)\n",
    "df_i94model.count()"
   ]
  },
  {
   "cell_type": "code",
   "execution_count": 95,
   "metadata": {
    "editable": true
   },
   "outputs": [
    {
     "name": "stdout",
     "output_type": "stream",
     "text": [
      "+---+--------+\n",
      "| id|    visa|\n",
      "+---+--------+\n",
      "|  1|Business|\n",
      "|  2|Pleasure|\n",
      "|  3| Student|\n",
      "+---+--------+\n",
      "\n"
     ]
    },
    {
     "data": {
      "text/plain": [
       "3"
      ]
     },
     "execution_count": 95,
     "metadata": {},
     "output_type": "execute_result"
    }
   ],
   "source": [
    "schema = StructType([\n",
    "    StructField('id', IntegerType(), True),\n",
    "    StructField('visa', StringType(), True),\n",
    "])\n",
    "df_i94visa=spark.read.csv(i94visa_file,schema=schema)\n",
    "df_i94visa.show(5)\n",
    "df_i94visa.count()"
   ]
  },
  {
   "cell_type": "code",
   "execution_count": 33,
   "metadata": {
    "editable": true
   },
   "outputs": [
    {
     "name": "stdout",
     "output_type": "stream",
     "text": [
      "+---+--------------------+\n",
      "| id|                port|\n",
      "+---+--------------------+\n",
      "|ALC|ALCAN, AK        ...|\n",
      "|ANC|ANCHORAGE, AK    ...|\n",
      "|BAR|BAKER AAF - BAKER...|\n",
      "|DAC|DALTONS CACHE, AK...|\n",
      "|PIZ|DEW STATION PT LA...|\n",
      "+---+--------------------+\n",
      "only showing top 5 rows\n",
      "\n"
     ]
    },
    {
     "data": {
      "text/plain": [
       "659"
      ]
     },
     "execution_count": 33,
     "metadata": {},
     "output_type": "execute_result"
    }
   ],
   "source": [
    "schema = StructType([\n",
    "    StructField('id', StringType(), True),\n",
    "    StructField('port', StringType(), True),\n",
    "])\n",
    "df_i94port=spark.read.csv(i94prtl_file,schema=schema,sep=\";\")\n",
    "df_i94port.show(5)\n",
    "df_i94port.count()"
   ]
  },
  {
   "cell_type": "code",
   "execution_count": null,
   "metadata": {
    "editable": true
   },
   "outputs": [],
   "source": []
  },
  {
   "cell_type": "markdown",
   "metadata": {
    "editable": true
   },
   "source": [
    "### Step 2: Explore and Assess the Data\n",
    "#### Explore the Data \n",
    "\n",
    "[explore](explore_data.ipynb)\n",
    "\n",
    "* many field in immigration data shoule be int instead of double\n",
    "\n",
    "* many redundancy data\n",
    "\n",
    "#### Cleaning Steps\n",
    "\n"
   ]
  },
  {
   "cell_type": "code",
   "execution_count": null,
   "metadata": {
    "editable": true
   },
   "outputs": [],
   "source": [
    "\n",
    "\n",
    "\n"
   ]
  },
  {
   "cell_type": "markdown",
   "metadata": {
    "editable": true
   },
   "source": [
    "### Step 3: Define the Data Model\n",
    "#### 3.1 Conceptual Data Model\n",
    "Map out the conceptual data model and explain why you chose that model\n",
    "\n",
    "#### 3.2 Mapping Out Data Pipelines\n",
    "List the steps necessary to pipeline the data into the chosen data model"
   ]
  },
  {
   "cell_type": "markdown",
   "metadata": {
    "editable": true
   },
   "source": [
    "### Step 4: Run Pipelines to Model the Data \n",
    "#### 4.1 Create the data model\n",
    "Build the data pipelines to create the data model."
   ]
  },
  {
   "cell_type": "code",
   "execution_count": null,
   "metadata": {
    "editable": true
   },
   "outputs": [],
   "source": [
    "# Write code here"
   ]
  },
  {
   "cell_type": "markdown",
   "metadata": {
    "editable": true
   },
   "source": [
    "#### 4.2 Data Quality Checks\n",
    "Explain the data quality checks you'll perform to ensure the pipeline ran as expected. These could include:\n",
    " * Integrity constraints on the relational database (e.g., unique key, data type, etc.)\n",
    " * Unit tests for the scripts to ensure they are doing the right thing\n",
    " * Source/Count checks to ensure completeness\n",
    " \n",
    "Run Quality Checks"
   ]
  },
  {
   "cell_type": "code",
   "execution_count": null,
   "metadata": {
    "editable": true
   },
   "outputs": [],
   "source": [
    "# Perform quality checks here"
   ]
  },
  {
   "cell_type": "markdown",
   "metadata": {
    "editable": true
   },
   "source": [
    "#### 4.3 Data dictionary \n",
    "\n",
    "[data dicationary](data_dicationary.ipynb)"
   ]
  },
  {
   "cell_type": "markdown",
   "metadata": {
    "editable": true
   },
   "source": [
    "#### Step 5: Complete Project Write Up\n",
    "* Clearly state the rationale for the choice of tools and technologies for the project.\n",
    "* Propose how often the data should be updated and why.\n",
    "* Write a description of how you would approach the problem differently under the following scenarios:\n",
    " * The data was increased by 100x.\n",
    " * The data populates a dashboard that must be updated on a daily basis by 7am every day.\n",
    " * The database needed to be accessed by 100+ people."
   ]
  },
  {
   "cell_type": "code",
   "execution_count": null,
   "metadata": {
    "editable": true
   },
   "outputs": [],
   "source": []
  },
  {
   "cell_type": "code",
   "execution_count": null,
   "metadata": {
    "editable": true
   },
   "outputs": [],
   "source": []
  },
  {
   "cell_type": "code",
   "execution_count": null,
   "metadata": {
    "editable": true
   },
   "outputs": [],
   "source": []
  },
  {
   "cell_type": "code",
   "execution_count": null,
   "metadata": {
    "editable": true
   },
   "outputs": [],
   "source": []
  },
  {
   "cell_type": "code",
   "execution_count": null,
   "metadata": {
    "editable": true
   },
   "outputs": [],
   "source": []
  },
  {
   "cell_type": "code",
   "execution_count": null,
   "metadata": {
    "editable": true
   },
   "outputs": [],
   "source": []
  }
 ],
 "metadata": {
  "kernelspec": {
   "display_name": "Python 3",
   "language": "python",
   "name": "python3"
  },
  "language_info": {
   "codemirror_mode": {
    "name": "ipython",
    "version": 3
   },
   "file_extension": ".py",
   "mimetype": "text/x-python",
   "name": "python",
   "nbconvert_exporter": "python",
   "pygments_lexer": "ipython3",
   "version": "3.6.3"
  },
  "pycharm": {
   "stem_cell": {
    "cell_type": "raw",
    "metadata": {
     "collapsed": false
    },
    "source": []
   }
  }
 },
 "nbformat": 4,
 "nbformat_minor": 4
}
