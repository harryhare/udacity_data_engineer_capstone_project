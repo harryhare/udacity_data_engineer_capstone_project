{
 "cells": [
  {
   "cell_type": "markdown",
   "metadata": {
    "editable": true
   },
   "source": [
    "# Project Title\n",
    "### Data Engineering Capstone Project\n",
    "\n",
    "#### Project Summary\n",
    "\n",
    "The project uses spark to load and do etl with U.S. immigration data. \n",
    "\n",
    "The project saves the processed result locally with parquet format.\n",
    "\n",
    "The project follows the follow steps:\n",
    "* Step 1: Scope the Project and Gather Data\n",
    "* Step 2: Explore and Assess the Data\n",
    "* Step 3: Define the Data Model\n",
    "* Step 4: Run ETL to Model the Data\n",
    "* Step 5: Complete Project Write Up"
   ]
  },
  {
   "cell_type": "code",
   "execution_count": 1,
   "metadata": {
    "editable": true
   },
   "outputs": [],
   "source": [
    "import pandas as pd\n",
    "import datetime\n",
    "from pyspark.sql import SparkSession\n",
    "from pyspark.sql.functions import udf, col, round\n",
    "from pyspark.sql.functions import year, month, dayofmonth, hour, weekofyear, date_format,dayofweek\n",
    "from pyspark.sql.functions import expr\n",
    "from pyspark.sql.functions import unix_timestamp,from_unixtime\n",
    "from pyspark.sql.types import StructType,StructField,StringType,IntegerType,DoubleType,DecimalType,TimestampType,ArrayType"
   ]
  },
  {
   "cell_type": "code",
   "execution_count": 2,
   "metadata": {
    "editable": true
   },
   "outputs": [],
   "source": [
    "spark = SparkSession.builder.\\\n",
    "config(\"spark.jars.packages\",\"saurfang:spark-sas7bdat:2.0.0-s_2.11\")\\\n",
    ".enableHiveSupport().getOrCreate()"
   ]
  },
  {
   "cell_type": "markdown",
   "metadata": {
    "editable": true
   },
   "source": [
    "### Step 1: Scope the Project and Gather Data\n",
    "\n",
    "#### Scope \n",
    "\n",
    "* goals: processed the date to fact tables and dimesion tables \n",
    "\n",
    "* tools: Spark\n",
    "\n",
    "#### Describe and Gather Data \n",
    "\n",
    "| data | from | local dir | link |   \n",
    "|:---|:---|:---|:---|\n",
    "| I94 Immigration Data | US National Tourism and Trade Office |/data/18-83510-I94-Data-2016/ | https://travel.trade.gov/research/reports/i94/historical/2016.html |\n",
    "| World Temperature Data | Kaggle | /data2/GlobalLandTemperaturesByCity.csv | https://www.kaggle.com/berkeleyearth/climate-change-earth-surface-temperature-data |\n",
    "| U.S. City Demographic Data | OpenSoft| /home/workspace/us-cities-demographics.csv  | https://public.opendatasoft.com/explore/dataset/us-cities-demographics/export/ |\n",
    "| Airport Code Table | datahub.io | /home/workspace/airport-codes_csv.csv  | https://datahub.io/core/airport-codes#data |\n"
   ]
  },
  {
   "cell_type": "code",
   "execution_count": 3,
   "metadata": {
    "editable": true
   },
   "outputs": [],
   "source": [
    "airport_file = \"../data/airport-codes_csv.csv\"\n",
    "city_fiele = \"../data/us-cities-demographics.csv\"\n",
    "temperature_file = \"/data2/GlobalLandTemperaturesByCity.csv\"\n",
    "immigration_dir = \"/data/18-83510-I94-Data-2016/\"\n",
    "immigration_dimesions= \"../data/I94_SAS_Labels_Descriptions.SAS\"\n",
    "immigration_sample =\"../data/immigration_data_sample.csv\"\n",
    "\n",
    "i94addrl_file=\"../output/i94addrl.csv\"\n",
    "i94cntyl_file=\"../output/i94cntyl.csv\"\n",
    "i94model_file=\"../output/i94model.csv\"\n",
    "i94prtl_file=\"../output/i94prtl.csv\"\n",
    "i94visa_file=\"../output/i94visa.csv\""
   ]
  },
  {
   "cell_type": "code",
   "execution_count": 13,
   "metadata": {
    "editable": true
   },
   "outputs": [
    {
     "data": {
      "text/html": [
       "<div>\n",
       "<style scoped>\n",
       "    .dataframe tbody tr th:only-of-type {\n",
       "        vertical-align: middle;\n",
       "    }\n",
       "\n",
       "    .dataframe tbody tr th {\n",
       "        vertical-align: top;\n",
       "    }\n",
       "\n",
       "    .dataframe thead th {\n",
       "        text-align: right;\n",
       "    }\n",
       "</style>\n",
       "<table border=\"1\" class=\"dataframe\">\n",
       "  <thead>\n",
       "    <tr style=\"text-align: right;\">\n",
       "      <th></th>\n",
       "      <th>Unnamed: 0</th>\n",
       "      <th>cicid</th>\n",
       "      <th>i94yr</th>\n",
       "      <th>i94mon</th>\n",
       "      <th>i94cit</th>\n",
       "      <th>i94res</th>\n",
       "      <th>i94port</th>\n",
       "      <th>arrdate</th>\n",
       "      <th>i94mode</th>\n",
       "      <th>i94addr</th>\n",
       "      <th>...</th>\n",
       "      <th>entdepu</th>\n",
       "      <th>matflag</th>\n",
       "      <th>biryear</th>\n",
       "      <th>dtaddto</th>\n",
       "      <th>gender</th>\n",
       "      <th>insnum</th>\n",
       "      <th>airline</th>\n",
       "      <th>admnum</th>\n",
       "      <th>fltno</th>\n",
       "      <th>visatype</th>\n",
       "    </tr>\n",
       "  </thead>\n",
       "  <tbody>\n",
       "    <tr>\n",
       "      <th>0</th>\n",
       "      <td>2027561</td>\n",
       "      <td>4084316.0</td>\n",
       "      <td>2016.0</td>\n",
       "      <td>4.0</td>\n",
       "      <td>209.0</td>\n",
       "      <td>209.0</td>\n",
       "      <td>HHW</td>\n",
       "      <td>20566.0</td>\n",
       "      <td>1.0</td>\n",
       "      <td>HI</td>\n",
       "      <td>...</td>\n",
       "      <td>NaN</td>\n",
       "      <td>M</td>\n",
       "      <td>1955.0</td>\n",
       "      <td>07202016</td>\n",
       "      <td>F</td>\n",
       "      <td>NaN</td>\n",
       "      <td>JL</td>\n",
       "      <td>5.658267e+10</td>\n",
       "      <td>00782</td>\n",
       "      <td>WT</td>\n",
       "    </tr>\n",
       "    <tr>\n",
       "      <th>1</th>\n",
       "      <td>2171295</td>\n",
       "      <td>4422636.0</td>\n",
       "      <td>2016.0</td>\n",
       "      <td>4.0</td>\n",
       "      <td>582.0</td>\n",
       "      <td>582.0</td>\n",
       "      <td>MCA</td>\n",
       "      <td>20567.0</td>\n",
       "      <td>1.0</td>\n",
       "      <td>TX</td>\n",
       "      <td>...</td>\n",
       "      <td>NaN</td>\n",
       "      <td>M</td>\n",
       "      <td>1990.0</td>\n",
       "      <td>10222016</td>\n",
       "      <td>M</td>\n",
       "      <td>NaN</td>\n",
       "      <td>*GA</td>\n",
       "      <td>9.436200e+10</td>\n",
       "      <td>XBLNG</td>\n",
       "      <td>B2</td>\n",
       "    </tr>\n",
       "    <tr>\n",
       "      <th>2</th>\n",
       "      <td>589494</td>\n",
       "      <td>1195600.0</td>\n",
       "      <td>2016.0</td>\n",
       "      <td>4.0</td>\n",
       "      <td>148.0</td>\n",
       "      <td>112.0</td>\n",
       "      <td>OGG</td>\n",
       "      <td>20551.0</td>\n",
       "      <td>1.0</td>\n",
       "      <td>FL</td>\n",
       "      <td>...</td>\n",
       "      <td>NaN</td>\n",
       "      <td>M</td>\n",
       "      <td>1940.0</td>\n",
       "      <td>07052016</td>\n",
       "      <td>M</td>\n",
       "      <td>NaN</td>\n",
       "      <td>LH</td>\n",
       "      <td>5.578047e+10</td>\n",
       "      <td>00464</td>\n",
       "      <td>WT</td>\n",
       "    </tr>\n",
       "    <tr>\n",
       "      <th>3</th>\n",
       "      <td>2631158</td>\n",
       "      <td>5291768.0</td>\n",
       "      <td>2016.0</td>\n",
       "      <td>4.0</td>\n",
       "      <td>297.0</td>\n",
       "      <td>297.0</td>\n",
       "      <td>LOS</td>\n",
       "      <td>20572.0</td>\n",
       "      <td>1.0</td>\n",
       "      <td>CA</td>\n",
       "      <td>...</td>\n",
       "      <td>NaN</td>\n",
       "      <td>M</td>\n",
       "      <td>1991.0</td>\n",
       "      <td>10272016</td>\n",
       "      <td>M</td>\n",
       "      <td>NaN</td>\n",
       "      <td>QR</td>\n",
       "      <td>9.478970e+10</td>\n",
       "      <td>00739</td>\n",
       "      <td>B2</td>\n",
       "    </tr>\n",
       "    <tr>\n",
       "      <th>4</th>\n",
       "      <td>3032257</td>\n",
       "      <td>985523.0</td>\n",
       "      <td>2016.0</td>\n",
       "      <td>4.0</td>\n",
       "      <td>111.0</td>\n",
       "      <td>111.0</td>\n",
       "      <td>CHM</td>\n",
       "      <td>20550.0</td>\n",
       "      <td>3.0</td>\n",
       "      <td>NY</td>\n",
       "      <td>...</td>\n",
       "      <td>NaN</td>\n",
       "      <td>M</td>\n",
       "      <td>1997.0</td>\n",
       "      <td>07042016</td>\n",
       "      <td>F</td>\n",
       "      <td>NaN</td>\n",
       "      <td>NaN</td>\n",
       "      <td>4.232257e+10</td>\n",
       "      <td>LAND</td>\n",
       "      <td>WT</td>\n",
       "    </tr>\n",
       "  </tbody>\n",
       "</table>\n",
       "<p>5 rows × 29 columns</p>\n",
       "</div>"
      ],
      "text/plain": [
       "   Unnamed: 0      cicid   i94yr  i94mon  i94cit  i94res i94port  arrdate  \\\n",
       "0     2027561  4084316.0  2016.0     4.0   209.0   209.0     HHW  20566.0   \n",
       "1     2171295  4422636.0  2016.0     4.0   582.0   582.0     MCA  20567.0   \n",
       "2      589494  1195600.0  2016.0     4.0   148.0   112.0     OGG  20551.0   \n",
       "3     2631158  5291768.0  2016.0     4.0   297.0   297.0     LOS  20572.0   \n",
       "4     3032257   985523.0  2016.0     4.0   111.0   111.0     CHM  20550.0   \n",
       "\n",
       "   i94mode i94addr    ...     entdepu  matflag  biryear   dtaddto  gender  \\\n",
       "0      1.0      HI    ...         NaN        M   1955.0  07202016       F   \n",
       "1      1.0      TX    ...         NaN        M   1990.0  10222016       M   \n",
       "2      1.0      FL    ...         NaN        M   1940.0  07052016       M   \n",
       "3      1.0      CA    ...         NaN        M   1991.0  10272016       M   \n",
       "4      3.0      NY    ...         NaN        M   1997.0  07042016       F   \n",
       "\n",
       "  insnum airline        admnum  fltno  visatype  \n",
       "0    NaN      JL  5.658267e+10  00782        WT  \n",
       "1    NaN     *GA  9.436200e+10  XBLNG        B2  \n",
       "2    NaN      LH  5.578047e+10  00464        WT  \n",
       "3    NaN      QR  9.478970e+10  00739        B2  \n",
       "4    NaN     NaN  4.232257e+10   LAND        WT  \n",
       "\n",
       "[5 rows x 29 columns]"
      ]
     },
     "execution_count": 13,
     "metadata": {},
     "output_type": "execute_result"
    }
   ],
   "source": [
    "pd_immigration=pd.read_csv(immigration_sample)\n",
    "pd_immigration.head()\n"
   ]
  },
  {
   "cell_type": "code",
   "execution_count": 14,
   "metadata": {
    "editable": true
   },
   "outputs": [
    {
     "data": {
      "text/html": [
       "<div>\n",
       "<style scoped>\n",
       "    .dataframe tbody tr th:only-of-type {\n",
       "        vertical-align: middle;\n",
       "    }\n",
       "\n",
       "    .dataframe tbody tr th {\n",
       "        vertical-align: top;\n",
       "    }\n",
       "\n",
       "    .dataframe thead th {\n",
       "        text-align: right;\n",
       "    }\n",
       "</style>\n",
       "<table border=\"1\" class=\"dataframe\">\n",
       "  <thead>\n",
       "    <tr style=\"text-align: right;\">\n",
       "      <th></th>\n",
       "      <th>ident</th>\n",
       "      <th>type</th>\n",
       "      <th>name</th>\n",
       "      <th>elevation_ft</th>\n",
       "      <th>continent</th>\n",
       "      <th>iso_country</th>\n",
       "      <th>iso_region</th>\n",
       "      <th>municipality</th>\n",
       "      <th>gps_code</th>\n",
       "      <th>iata_code</th>\n",
       "      <th>local_code</th>\n",
       "      <th>coordinates</th>\n",
       "    </tr>\n",
       "  </thead>\n",
       "  <tbody>\n",
       "    <tr>\n",
       "      <th>0</th>\n",
       "      <td>00A</td>\n",
       "      <td>heliport</td>\n",
       "      <td>Total Rf Heliport</td>\n",
       "      <td>11.0</td>\n",
       "      <td>NaN</td>\n",
       "      <td>US</td>\n",
       "      <td>US-PA</td>\n",
       "      <td>Bensalem</td>\n",
       "      <td>00A</td>\n",
       "      <td>NaN</td>\n",
       "      <td>00A</td>\n",
       "      <td>-74.93360137939453, 40.07080078125</td>\n",
       "    </tr>\n",
       "    <tr>\n",
       "      <th>1</th>\n",
       "      <td>00AA</td>\n",
       "      <td>small_airport</td>\n",
       "      <td>Aero B Ranch Airport</td>\n",
       "      <td>3435.0</td>\n",
       "      <td>NaN</td>\n",
       "      <td>US</td>\n",
       "      <td>US-KS</td>\n",
       "      <td>Leoti</td>\n",
       "      <td>00AA</td>\n",
       "      <td>NaN</td>\n",
       "      <td>00AA</td>\n",
       "      <td>-101.473911, 38.704022</td>\n",
       "    </tr>\n",
       "    <tr>\n",
       "      <th>2</th>\n",
       "      <td>00AK</td>\n",
       "      <td>small_airport</td>\n",
       "      <td>Lowell Field</td>\n",
       "      <td>450.0</td>\n",
       "      <td>NaN</td>\n",
       "      <td>US</td>\n",
       "      <td>US-AK</td>\n",
       "      <td>Anchor Point</td>\n",
       "      <td>00AK</td>\n",
       "      <td>NaN</td>\n",
       "      <td>00AK</td>\n",
       "      <td>-151.695999146, 59.94919968</td>\n",
       "    </tr>\n",
       "    <tr>\n",
       "      <th>3</th>\n",
       "      <td>00AL</td>\n",
       "      <td>small_airport</td>\n",
       "      <td>Epps Airpark</td>\n",
       "      <td>820.0</td>\n",
       "      <td>NaN</td>\n",
       "      <td>US</td>\n",
       "      <td>US-AL</td>\n",
       "      <td>Harvest</td>\n",
       "      <td>00AL</td>\n",
       "      <td>NaN</td>\n",
       "      <td>00AL</td>\n",
       "      <td>-86.77030181884766, 34.86479949951172</td>\n",
       "    </tr>\n",
       "    <tr>\n",
       "      <th>4</th>\n",
       "      <td>00AR</td>\n",
       "      <td>closed</td>\n",
       "      <td>Newport Hospital &amp; Clinic Heliport</td>\n",
       "      <td>237.0</td>\n",
       "      <td>NaN</td>\n",
       "      <td>US</td>\n",
       "      <td>US-AR</td>\n",
       "      <td>Newport</td>\n",
       "      <td>NaN</td>\n",
       "      <td>NaN</td>\n",
       "      <td>NaN</td>\n",
       "      <td>-91.254898, 35.6087</td>\n",
       "    </tr>\n",
       "  </tbody>\n",
       "</table>\n",
       "</div>"
      ],
      "text/plain": [
       "  ident           type                                name  elevation_ft  \\\n",
       "0   00A       heliport                   Total Rf Heliport          11.0   \n",
       "1  00AA  small_airport                Aero B Ranch Airport        3435.0   \n",
       "2  00AK  small_airport                        Lowell Field         450.0   \n",
       "3  00AL  small_airport                        Epps Airpark         820.0   \n",
       "4  00AR         closed  Newport Hospital & Clinic Heliport         237.0   \n",
       "\n",
       "  continent iso_country iso_region  municipality gps_code iata_code  \\\n",
       "0       NaN          US      US-PA      Bensalem      00A       NaN   \n",
       "1       NaN          US      US-KS         Leoti     00AA       NaN   \n",
       "2       NaN          US      US-AK  Anchor Point     00AK       NaN   \n",
       "3       NaN          US      US-AL       Harvest     00AL       NaN   \n",
       "4       NaN          US      US-AR       Newport      NaN       NaN   \n",
       "\n",
       "  local_code                            coordinates  \n",
       "0        00A     -74.93360137939453, 40.07080078125  \n",
       "1       00AA                 -101.473911, 38.704022  \n",
       "2       00AK            -151.695999146, 59.94919968  \n",
       "3       00AL  -86.77030181884766, 34.86479949951172  \n",
       "4        NaN                    -91.254898, 35.6087  "
      ]
     },
     "execution_count": 14,
     "metadata": {},
     "output_type": "execute_result"
    }
   ],
   "source": [
    "# Read in the data here\n",
    "pd_airport = pd.read_csv(airport_file,header=0)\n",
    "pd_airport.head()\n"
   ]
  },
  {
   "cell_type": "code",
   "execution_count": 39,
   "metadata": {
    "editable": true
   },
   "outputs": [
    {
     "name": "stdout",
     "output_type": "stream",
     "text": [
      "+----+-------------+--------------------+------------+---------+-----------+----------+------------+--------+---------+----------+--------------------+\n",
      "|  id|         type|                name|elevation_ft|continent|iso_country|iso_region|municipality|gps_code|iata_code|local_code|         coordinates|\n",
      "+----+-------------+--------------------+------------+---------+-----------+----------+------------+--------+---------+----------+--------------------+\n",
      "| 00A|     heliport|   Total Rf Heliport|          11|       NA|         US|     US-PA|    Bensalem|     00A|     null|       00A|-74.9336013793945...|\n",
      "|00AA|small_airport|Aero B Ranch Airport|        3435|       NA|         US|     US-KS|       Leoti|    00AA|     null|      00AA|-101.473911, 38.7...|\n",
      "|00AK|small_airport|        Lowell Field|         450|       NA|         US|     US-AK|Anchor Point|    00AK|     null|      00AK|-151.695999146, 5...|\n",
      "|00AL|small_airport|        Epps Airpark|         820|       NA|         US|     US-AL|     Harvest|    00AL|     null|      00AL|-86.7703018188476...|\n",
      "|00AR|       closed|Newport Hospital ...|         237|       NA|         US|     US-AR|     Newport|    null|     null|      null| -91.254898, 35.6087|\n",
      "+----+-------------+--------------------+------------+---------+-----------+----------+------------+--------+---------+----------+--------------------+\n",
      "only showing top 5 rows\n",
      "\n"
     ]
    },
    {
     "data": {
      "text/plain": [
       "55075"
      ]
     },
     "execution_count": 39,
     "metadata": {},
     "output_type": "execute_result"
    }
   ],
   "source": [
    "coordinates = StructType([\n",
    "    StructField('x', StringType(), False),\n",
    "    StructField('y', StringType(), True),\n",
    "])\n",
    "schema = StructType([\n",
    "    StructField('id', StringType(), False),\n",
    "    StructField('type', StringType(), True),\n",
    "    StructField('name', StringType(), True),\n",
    "    StructField('elevation_ft', IntegerType(), True),\n",
    "    StructField('continent', StringType(), True),\n",
    "    StructField('iso_country', StringType(), True),\n",
    "    StructField('iso_region', StringType(), True),\n",
    "    StructField('municipality', StringType(), True),\n",
    "    StructField('gps_code',StringType(), True),\n",
    "    StructField('iata_code', StringType(), True),\n",
    "    StructField('local_code', StringType(), True),\n",
    "    StructField('coordinates', StringType() , True),\n",
    "])\n",
    "df_airport_raw=spark.read.csv(airport_file, header=True, schema=schema)\n",
    "df_airport_raw.show(5)\n",
    "df_airport_raw.count()"
   ]
  },
  {
   "cell_type": "code",
   "execution_count": 56,
   "metadata": {
    "editable": true
   },
   "outputs": [
    {
     "name": "stdout",
     "output_type": "stream",
     "text": [
      "+----------------+-------------+----------+------+------+------+--------+------------+-----------------+----------+--------------------+-----+\n",
      "|            city|        state|median_age|  male|female| total|veterans|foreign_born|average_household|state_code|                race|count|\n",
      "+----------------+-------------+----------+------+------+------+--------+------------+-----------------+----------+--------------------+-----+\n",
      "|   Silver Spring|     Maryland|      33.8| 40601| 41862| 82463|    1562|       30908|             2.60|        MD|  Hispanic or Latino|25924|\n",
      "|          Quincy|Massachusetts|      41.0| 44129| 49500| 93629|    4147|       32935|             2.39|        MA|               White|58723|\n",
      "|          Hoover|      Alabama|      38.5| 38040| 46799| 84839|    4819|        8229|             2.58|        AL|               Asian| 4759|\n",
      "|Rancho Cucamonga|   California|      34.5| 88127| 87105|175232|    5821|       33878|             3.18|        CA|Black or African-...|24437|\n",
      "|          Newark|   New Jersey|      34.6|138040|143873|281913|    5829|       86253|             2.73|        NJ|               White|76402|\n",
      "+----------------+-------------+----------+------+------+------+--------+------------+-----------------+----------+--------------------+-----+\n",
      "only showing top 5 rows\n",
      "\n"
     ]
    },
    {
     "data": {
      "text/plain": [
       "2891"
      ]
     },
     "execution_count": 56,
     "metadata": {},
     "output_type": "execute_result"
    }
   ],
   "source": [
    "schema = StructType([\n",
    "    StructField('city', StringType(), False),\n",
    "    StructField('state', StringType(), True),\n",
    "    StructField('median_age', DecimalType(4,1), True),\n",
    "    StructField('male', IntegerType(), True),\n",
    "    StructField('female', IntegerType(), True),\n",
    "    StructField('total', IntegerType(), True),\n",
    "    StructField('veterans', IntegerType(), True),\n",
    "    StructField('foreign_born', IntegerType(), True),\n",
    "    StructField('average_household',DecimalType(4,2), True),\n",
    "    StructField('state_code', StringType(), True),\n",
    "    StructField('race', StringType(), True),\n",
    "    StructField('count', IntegerType(), True),\n",
    "])\n",
    "#df_city=spark.read.option(\"header\", True).option(\"delimiter\", \";\").csv(city_fiele)\n",
    "df_city_raw=spark.read.csv(city_fiele,header=True,schema=schema,sep=\";\")\n",
    "df_city_raw.show(5)\n",
    "df_city_raw.count()"
   ]
  },
  {
   "cell_type": "code",
   "execution_count": 21,
   "metadata": {
    "editable": true
   },
   "outputs": [],
   "source": []
  },
  {
   "cell_type": "code",
   "execution_count": 13,
   "metadata": {
    "editable": true
   },
   "outputs": [
    {
     "name": "stdout",
     "output_type": "stream",
     "text": [
      "+-------------------+-----------+------------------+-----+-------+--------+---------+\n",
      "|               date|temperature|       uncertainty| city|country|latitude|longitude|\n",
      "+-------------------+-----------+------------------+-----+-------+--------+---------+\n",
      "|1743-11-01 00:00:00|      6.068|1.7369999999999999|Århus|Denmark|  57.05N|   10.33E|\n",
      "|1743-12-01 00:00:00|       null|              null|Århus|Denmark|  57.05N|   10.33E|\n",
      "|1744-01-01 00:00:00|       null|              null|Århus|Denmark|  57.05N|   10.33E|\n",
      "|1744-02-01 00:00:00|       null|              null|Århus|Denmark|  57.05N|   10.33E|\n",
      "|1744-03-01 00:00:00|       null|              null|Århus|Denmark|  57.05N|   10.33E|\n",
      "+-------------------+-----------+------------------+-----+-------+--------+---------+\n",
      "only showing top 5 rows\n",
      "\n"
     ]
    },
    {
     "data": {
      "text/plain": [
       "8599212"
      ]
     },
     "execution_count": 13,
     "metadata": {},
     "output_type": "execute_result"
    }
   ],
   "source": [
    "schema = StructType([\n",
    "    StructField('date', TimestampType(), True),\n",
    "    StructField('temperature', DoubleType(), True),\n",
    "    StructField('uncertainty', DoubleType(), True),\n",
    "    StructField('city', StringType(), True),\n",
    "    StructField('country', StringType(), True),\n",
    "    StructField('latitude', StringType(), True),\n",
    "    StructField('longitude', StringType(), True),\n",
    "    \n",
    "])\n",
    "df_temperature_raw=spark.read.option(\"header\", True).csv(temperature_file,schema=schema)\n",
    "df_temperature_raw.show(5)\n",
    "df_temperature_raw.count()\n"
   ]
  },
  {
   "cell_type": "code",
   "execution_count": 19,
   "metadata": {
    "editable": true
   },
   "outputs": [],
   "source": [
    "#write to parquet\n",
    "#df_spark =spark.read.format('com.github.saurfang.sas.spark').load('../../data/18-83510-I94-Data-2016/i94_apr16_sub.sas7bdat')\n",
    "#df_spark.write.parquet(\"output/sas_data\")"
   ]
  },
  {
   "cell_type": "code",
   "execution_count": 20,
   "metadata": {
    "editable": true
   },
   "outputs": [
    {
     "name": "stdout",
     "output_type": "stream",
     "text": [
      "root\n",
      " |-- cicid: double (nullable = true)\n",
      " |-- i94yr: double (nullable = true)\n",
      " |-- i94mon: double (nullable = true)\n",
      " |-- i94cit: double (nullable = true)\n",
      " |-- i94res: double (nullable = true)\n",
      " |-- i94port: string (nullable = true)\n",
      " |-- arrdate: double (nullable = true)\n",
      " |-- i94mode: double (nullable = true)\n",
      " |-- i94addr: string (nullable = true)\n",
      " |-- depdate: double (nullable = true)\n",
      " |-- i94bir: double (nullable = true)\n",
      " |-- i94visa: double (nullable = true)\n",
      " |-- count: double (nullable = true)\n",
      " |-- dtadfile: string (nullable = true)\n",
      " |-- visapost: string (nullable = true)\n",
      " |-- occup: string (nullable = true)\n",
      " |-- entdepa: string (nullable = true)\n",
      " |-- entdepd: string (nullable = true)\n",
      " |-- entdepu: string (nullable = true)\n",
      " |-- matflag: string (nullable = true)\n",
      " |-- biryear: double (nullable = true)\n",
      " |-- dtaddto: string (nullable = true)\n",
      " |-- gender: string (nullable = true)\n",
      " |-- insnum: string (nullable = true)\n",
      " |-- airline: string (nullable = true)\n",
      " |-- admnum: double (nullable = true)\n",
      " |-- fltno: string (nullable = true)\n",
      " |-- visatype: string (nullable = true)\n",
      "\n",
      "+---------+------+------+------+------+-------+-------+-------+-------+-------+------+-------+-----+--------+--------+-----+-------+-------+-------+-------+-------+--------+------+------+-------+--------------+-----+--------+\n",
      "|    cicid| i94yr|i94mon|i94cit|i94res|i94port|arrdate|i94mode|i94addr|depdate|i94bir|i94visa|count|dtadfile|visapost|occup|entdepa|entdepd|entdepu|matflag|biryear| dtaddto|gender|insnum|airline|        admnum|fltno|visatype|\n",
      "+---------+------+------+------+------+-------+-------+-------+-------+-------+------+-------+-----+--------+--------+-----+-------+-------+-------+-------+-------+--------+------+------+-------+--------------+-----+--------+\n",
      "|5748517.0|2016.0|   4.0| 245.0| 438.0|    LOS|20574.0|    1.0|     CA|20582.0|  40.0|    1.0|  1.0|20160430|     SYD| null|      G|      O|   null|      M| 1976.0|10292016|     F|  null|     QF|9.495387003E10|00011|      B1|\n",
      "|5748518.0|2016.0|   4.0| 245.0| 438.0|    LOS|20574.0|    1.0|     NV|20591.0|  32.0|    1.0|  1.0|20160430|     SYD| null|      G|      O|   null|      M| 1984.0|10292016|     F|  null|     VA|9.495562283E10|00007|      B1|\n",
      "|5748519.0|2016.0|   4.0| 245.0| 438.0|    LOS|20574.0|    1.0|     WA|20582.0|  29.0|    1.0|  1.0|20160430|     SYD| null|      G|      O|   null|      M| 1987.0|10292016|     M|  null|     DL|9.495640653E10|00040|      B1|\n",
      "|5748520.0|2016.0|   4.0| 245.0| 438.0|    LOS|20574.0|    1.0|     WA|20588.0|  29.0|    1.0|  1.0|20160430|     SYD| null|      G|      O|   null|      M| 1987.0|10292016|     F|  null|     DL|9.495645143E10|00040|      B1|\n",
      "|5748521.0|2016.0|   4.0| 245.0| 438.0|    LOS|20574.0|    1.0|     WA|20588.0|  28.0|    1.0|  1.0|20160430|     SYD| null|      G|      O|   null|      M| 1988.0|10292016|     M|  null|     DL|9.495638813E10|00040|      B1|\n",
      "+---------+------+------+------+------+-------+-------+-------+-------+-------+------+-------+-----+--------+--------+-----+-------+-------+-------+-------+-------+--------+------+------+-------+--------------+-----+--------+\n",
      "only showing top 5 rows\n",
      "\n"
     ]
    },
    {
     "data": {
      "text/plain": [
       "3096313"
      ]
     },
     "execution_count": 20,
     "metadata": {},
     "output_type": "execute_result"
    }
   ],
   "source": [
    "schema = StructType([\n",
    "    StructField('cicid', DoubleType(), False),\n",
    "    StructField('i94yr', DoubleType(), True),\n",
    "    StructField('i94mon', DoubleType(), True),\n",
    "    StructField('i94cit', DoubleType(), True),\n",
    "    StructField('i94res', DoubleType(), True),\n",
    "    StructField('i94port', StringType(), True),\n",
    "    StructField('arrdate', DoubleType(), True),\n",
    "    StructField('i94mode', DoubleType(), True),\n",
    "    StructField('i94addr', StringType(), True),\n",
    "    StructField('depdate', DoubleType(), True),\n",
    "    StructField('i94bir', DoubleType(), True),\n",
    "    StructField('i94visa', DoubleType(), True),\n",
    "    StructField('count', DoubleType(), True),\n",
    "    StructField('dtadfile', StringType(), True),\n",
    "    StructField('visapost', StringType(), True),\n",
    "    StructField('occup', StringType(), True),\n",
    "    StructField('entdepa', StringType(), True),\n",
    "    StructField('entdepd', StringType(), True),\n",
    "    StructField('entdepu', StringType(), True),\n",
    "    StructField('matflag', StringType(), True),\n",
    "    StructField('biryear', DoubleType(), True),\n",
    "    StructField('dtaddto', StringType(), True),\n",
    "    StructField('gender', StringType(), True),\n",
    "    StructField('insnum', StringType(), True),\n",
    "    StructField('airline', StringType(), True),\n",
    "    StructField('admnum', DoubleType(), True),\n",
    "    StructField('fltno', StringType(), True),\n",
    "    StructField('visatype', StringType(), True),\n",
    "])\n",
    "df_spark=spark.read.schema(schema).parquet(\"../output/sas_data\")\n",
    "#df_spark=spark.read.parquet(\"../output/sas_data\")\n",
    "df_spark.printSchema()\n",
    "df_spark.show(5)\n",
    "df_spark.count()\n"
   ]
  },
  {
   "cell_type": "code",
   "execution_count": 21,
   "metadata": {
    "editable": true
   },
   "outputs": [
    {
     "name": "stdout",
     "output_type": "stream",
     "text": [
      "+---+----------+\n",
      "| id|     state|\n",
      "+---+----------+\n",
      "| AL|   ALABAMA|\n",
      "| AK|    ALASKA|\n",
      "| AZ|   ARIZONA|\n",
      "| AR|  ARKANSAS|\n",
      "| CA|CALIFORNIA|\n",
      "+---+----------+\n",
      "only showing top 5 rows\n",
      "\n"
     ]
    },
    {
     "data": {
      "text/plain": [
       "55"
      ]
     },
     "execution_count": 21,
     "metadata": {},
     "output_type": "execute_result"
    }
   ],
   "source": [
    "schema = StructType([\n",
    "    StructField('id', StringType(), True),\n",
    "    StructField('state', StringType(), True),\n",
    "])\n",
    "df_i94addr=spark.read.csv(i94addrl_file,schema=schema,sep=\";\")\n",
    "df_i94addr.show(5)\n",
    "df_i94addr.count()"
   ]
  },
  {
   "cell_type": "code",
   "execution_count": 22,
   "metadata": {
    "editable": true
   },
   "outputs": [
    {
     "name": "stdout",
     "output_type": "stream",
     "text": [
      "+---+--------------------+\n",
      "| id|                city|\n",
      "+---+--------------------+\n",
      "|582|MEXICO Air Sea, a...|\n",
      "|236|         AFGHANISTAN|\n",
      "|101|             ALBANIA|\n",
      "|316|             ALGERIA|\n",
      "|102|             ANDORRA|\n",
      "+---+--------------------+\n",
      "only showing top 5 rows\n",
      "\n"
     ]
    },
    {
     "data": {
      "text/plain": [
       "289"
      ]
     },
     "execution_count": 22,
     "metadata": {},
     "output_type": "execute_result"
    }
   ],
   "source": [
    "schema = StructType([\n",
    "    StructField('id', IntegerType(), True),\n",
    "    StructField('city', StringType(), True),\n",
    "])\n",
    "df_i94city=spark.read.csv(i94cntyl_file,schema=schema,sep=\";\")\n",
    "df_i94city.show(5)\n",
    "df_i94city.count()"
   ]
  },
  {
   "cell_type": "code",
   "execution_count": 23,
   "metadata": {
    "editable": true
   },
   "outputs": [
    {
     "name": "stdout",
     "output_type": "stream",
     "text": [
      "+---+------------+\n",
      "| id|       model|\n",
      "+---+------------+\n",
      "|  1|         Air|\n",
      "|  2|         Sea|\n",
      "|  3|        Land|\n",
      "|  9|Not reported|\n",
      "+---+------------+\n",
      "\n"
     ]
    },
    {
     "data": {
      "text/plain": [
       "4"
      ]
     },
     "execution_count": 23,
     "metadata": {},
     "output_type": "execute_result"
    }
   ],
   "source": [
    "schema = StructType([\n",
    "    StructField('id', IntegerType(), True),\n",
    "    StructField('model', StringType(), True),\n",
    "])\n",
    "df_i94model=spark.read.csv(i94model_file,schema=schema,sep=\";\")\n",
    "df_i94model.show(5)\n",
    "df_i94model.count()"
   ]
  },
  {
   "cell_type": "code",
   "execution_count": 24,
   "metadata": {
    "editable": true
   },
   "outputs": [
    {
     "name": "stdout",
     "output_type": "stream",
     "text": [
      "+---+--------+\n",
      "| id|    visa|\n",
      "+---+--------+\n",
      "|  1|Business|\n",
      "|  2|Pleasure|\n",
      "|  3| Student|\n",
      "+---+--------+\n",
      "\n"
     ]
    },
    {
     "data": {
      "text/plain": [
       "3"
      ]
     },
     "execution_count": 24,
     "metadata": {},
     "output_type": "execute_result"
    }
   ],
   "source": [
    "schema = StructType([\n",
    "    StructField('id', IntegerType(), True),\n",
    "    StructField('visa', StringType(), True),\n",
    "])\n",
    "df_i94visa=spark.read.csv(i94visa_file,schema=schema)\n",
    "df_i94visa.show(5)\n",
    "df_i94visa.count()"
   ]
  },
  {
   "cell_type": "code",
   "execution_count": 41,
   "metadata": {
    "editable": true
   },
   "outputs": [
    {
     "name": "stdout",
     "output_type": "stream",
     "text": [
      "+---+--------------------+\n",
      "| id|                port|\n",
      "+---+--------------------+\n",
      "|ALC|ALCAN, AK        ...|\n",
      "|ANC|ANCHORAGE, AK    ...|\n",
      "|BAR|BAKER AAF - BAKER...|\n",
      "|DAC|DALTONS CACHE, AK...|\n",
      "|PIZ|DEW STATION PT LA...|\n",
      "+---+--------------------+\n",
      "only showing top 5 rows\n",
      "\n"
     ]
    },
    {
     "data": {
      "text/plain": [
       "659"
      ]
     },
     "execution_count": 41,
     "metadata": {},
     "output_type": "execute_result"
    }
   ],
   "source": [
    "schema = StructType([\n",
    "    StructField('id', StringType(), True),\n",
    "    StructField('port', StringType(), True),\n",
    "])\n",
    "df_i94port_raw=spark.read.csv(i94prtl_file,schema=schema,sep=\";\")\n",
    "df_i94port_raw.show(5)\n",
    "df_i94port_raw.count()"
   ]
  },
  {
   "cell_type": "code",
   "execution_count": 44,
   "metadata": {
    "editable": true
   },
   "outputs": [
    {
     "name": "stdout",
     "output_type": "stream",
     "text": [
      "+---+--------------------+---------------+\n",
      "| id|          state_code|           name|\n",
      "+---+--------------------+---------------+\n",
      "|ALC|               ALCAN|AK             |\n",
      "|ANC|           ANCHORAGE|    AK         |\n",
      "|BAR|BAKER AAF - BAKER...|             AK|\n",
      "|DAC|       DALTONS CACHE|        AK     |\n",
      "|PIZ|DEW STATION PT LA...|             AK|\n",
      "+---+--------------------+---------------+\n",
      "only showing top 5 rows\n",
      "\n",
      "root\n",
      " |-- id: string (nullable = true)\n",
      " |-- state_code: string (nullable = true)\n",
      " |-- name: string (nullable = true)\n",
      "\n"
     ]
    },
    {
     "data": {
      "text/html": [
       "<div>\n",
       "<style scoped>\n",
       "    .dataframe tbody tr th:only-of-type {\n",
       "        vertical-align: middle;\n",
       "    }\n",
       "\n",
       "    .dataframe tbody tr th {\n",
       "        vertical-align: top;\n",
       "    }\n",
       "\n",
       "    .dataframe thead th {\n",
       "        text-align: right;\n",
       "    }\n",
       "</style>\n",
       "<table border=\"1\" class=\"dataframe\">\n",
       "  <thead>\n",
       "    <tr style=\"text-align: right;\">\n",
       "      <th></th>\n",
       "      <th>id</th>\n",
       "      <th>state_code</th>\n",
       "      <th>name</th>\n",
       "    </tr>\n",
       "  </thead>\n",
       "  <tbody>\n",
       "    <tr>\n",
       "      <th>0</th>\n",
       "      <td>ALC</td>\n",
       "      <td>ALCAN</td>\n",
       "      <td>AK</td>\n",
       "    </tr>\n",
       "    <tr>\n",
       "      <th>1</th>\n",
       "      <td>ANC</td>\n",
       "      <td>ANCHORAGE</td>\n",
       "      <td>AK</td>\n",
       "    </tr>\n",
       "    <tr>\n",
       "      <th>2</th>\n",
       "      <td>BAR</td>\n",
       "      <td>BAKER AAF - BAKER ISLAND</td>\n",
       "      <td>AK</td>\n",
       "    </tr>\n",
       "    <tr>\n",
       "      <th>3</th>\n",
       "      <td>DAC</td>\n",
       "      <td>DALTONS CACHE</td>\n",
       "      <td>AK</td>\n",
       "    </tr>\n",
       "    <tr>\n",
       "      <th>4</th>\n",
       "      <td>PIZ</td>\n",
       "      <td>DEW STATION PT LAY DEW</td>\n",
       "      <td>AK</td>\n",
       "    </tr>\n",
       "    <tr>\n",
       "      <th>5</th>\n",
       "      <td>DTH</td>\n",
       "      <td>DUTCH HARBOR</td>\n",
       "      <td>AK</td>\n",
       "    </tr>\n",
       "    <tr>\n",
       "      <th>6</th>\n",
       "      <td>EGL</td>\n",
       "      <td>EAGLE</td>\n",
       "      <td>AK</td>\n",
       "    </tr>\n",
       "    <tr>\n",
       "      <th>7</th>\n",
       "      <td>FRB</td>\n",
       "      <td>FAIRBANKS</td>\n",
       "      <td>AK</td>\n",
       "    </tr>\n",
       "    <tr>\n",
       "      <th>8</th>\n",
       "      <td>HOM</td>\n",
       "      <td>HOMER</td>\n",
       "      <td>AK</td>\n",
       "    </tr>\n",
       "    <tr>\n",
       "      <th>9</th>\n",
       "      <td>HYD</td>\n",
       "      <td>HYDER</td>\n",
       "      <td>AK</td>\n",
       "    </tr>\n",
       "    <tr>\n",
       "      <th>10</th>\n",
       "      <td>JUN</td>\n",
       "      <td>JUNEAU</td>\n",
       "      <td>AK</td>\n",
       "    </tr>\n",
       "    <tr>\n",
       "      <th>11</th>\n",
       "      <td>5KE</td>\n",
       "      <td>KETCHIKAN</td>\n",
       "      <td>AK</td>\n",
       "    </tr>\n",
       "    <tr>\n",
       "      <th>12</th>\n",
       "      <td>KET</td>\n",
       "      <td>KETCHIKAN</td>\n",
       "      <td>AK</td>\n",
       "    </tr>\n",
       "    <tr>\n",
       "      <th>13</th>\n",
       "      <td>MOS</td>\n",
       "      <td>MOSES POINT INTERMEDIATE</td>\n",
       "      <td>AK</td>\n",
       "    </tr>\n",
       "    <tr>\n",
       "      <th>14</th>\n",
       "      <td>NIK</td>\n",
       "      <td>NIKISKI</td>\n",
       "      <td>AK</td>\n",
       "    </tr>\n",
       "    <tr>\n",
       "      <th>15</th>\n",
       "      <td>NOM</td>\n",
       "      <td>NOM</td>\n",
       "      <td>AK</td>\n",
       "    </tr>\n",
       "    <tr>\n",
       "      <th>16</th>\n",
       "      <td>PKC</td>\n",
       "      <td>POKER CREEK</td>\n",
       "      <td>AK</td>\n",
       "    </tr>\n",
       "    <tr>\n",
       "      <th>17</th>\n",
       "      <td>ORI</td>\n",
       "      <td>PORT LIONS SPB</td>\n",
       "      <td>AK</td>\n",
       "    </tr>\n",
       "    <tr>\n",
       "      <th>18</th>\n",
       "      <td>SKA</td>\n",
       "      <td>SKAGWAY</td>\n",
       "      <td>AK</td>\n",
       "    </tr>\n",
       "    <tr>\n",
       "      <th>19</th>\n",
       "      <td>SNP</td>\n",
       "      <td>ST. PAUL ISLAND</td>\n",
       "      <td>AK</td>\n",
       "    </tr>\n",
       "    <tr>\n",
       "      <th>20</th>\n",
       "      <td>TKI</td>\n",
       "      <td>TOKEEN</td>\n",
       "      <td>AK</td>\n",
       "    </tr>\n",
       "    <tr>\n",
       "      <th>21</th>\n",
       "      <td>WRA</td>\n",
       "      <td>WRANGELL</td>\n",
       "      <td>AK</td>\n",
       "    </tr>\n",
       "    <tr>\n",
       "      <th>22</th>\n",
       "      <td>HSV</td>\n",
       "      <td>MADISON COUNTY - HUNTSVILLE</td>\n",
       "      <td>AL</td>\n",
       "    </tr>\n",
       "    <tr>\n",
       "      <th>23</th>\n",
       "      <td>MOB</td>\n",
       "      <td>MOBILE</td>\n",
       "      <td>AL</td>\n",
       "    </tr>\n",
       "    <tr>\n",
       "      <th>24</th>\n",
       "      <td>LIA</td>\n",
       "      <td>LITTLE ROCK</td>\n",
       "      <td>AR (BPS)</td>\n",
       "    </tr>\n",
       "    <tr>\n",
       "      <th>25</th>\n",
       "      <td>ROG</td>\n",
       "      <td>ROGERS ARPT</td>\n",
       "      <td>AR</td>\n",
       "    </tr>\n",
       "    <tr>\n",
       "      <th>26</th>\n",
       "      <td>DOU</td>\n",
       "      <td>DOUGLAS</td>\n",
       "      <td>AZ</td>\n",
       "    </tr>\n",
       "    <tr>\n",
       "      <th>27</th>\n",
       "      <td>LUK</td>\n",
       "      <td>LUKEVILLE</td>\n",
       "      <td>AZ</td>\n",
       "    </tr>\n",
       "    <tr>\n",
       "      <th>28</th>\n",
       "      <td>MAP</td>\n",
       "      <td>MARIPOSA AZ</td>\n",
       "      <td>ARIPOSA AZ</td>\n",
       "    </tr>\n",
       "    <tr>\n",
       "      <th>29</th>\n",
       "      <td>NAC</td>\n",
       "      <td>NACO</td>\n",
       "      <td>AZ</td>\n",
       "    </tr>\n",
       "    <tr>\n",
       "      <th>...</th>\n",
       "      <td>...</td>\n",
       "      <td>...</td>\n",
       "      <td>...</td>\n",
       "    </tr>\n",
       "    <tr>\n",
       "      <th>629</th>\n",
       "      <td>SCH</td>\n",
       "      <td>No PORT Code (SCH</td>\n",
       "      <td>o PORT Code (SCH)</td>\n",
       "    </tr>\n",
       "    <tr>\n",
       "      <th>630</th>\n",
       "      <td>ASI</td>\n",
       "      <td>No PORT Code (ASI</td>\n",
       "      <td>o PORT Code (ASI)</td>\n",
       "    </tr>\n",
       "    <tr>\n",
       "      <th>631</th>\n",
       "      <td>BKF</td>\n",
       "      <td>No PORT Code (BKF</td>\n",
       "      <td>o PORT Code (BKF)</td>\n",
       "    </tr>\n",
       "    <tr>\n",
       "      <th>632</th>\n",
       "      <td>DAY</td>\n",
       "      <td>No PORT Code (DAY</td>\n",
       "      <td>o PORT Code (DAY)</td>\n",
       "    </tr>\n",
       "    <tr>\n",
       "      <th>633</th>\n",
       "      <td>Y62</td>\n",
       "      <td>No PORT Code (Y62</td>\n",
       "      <td>o PORT Code (Y62)</td>\n",
       "    </tr>\n",
       "    <tr>\n",
       "      <th>634</th>\n",
       "      <td>AG</td>\n",
       "      <td>No PORT Code (AG</td>\n",
       "      <td>o PORT Code (AG)</td>\n",
       "    </tr>\n",
       "    <tr>\n",
       "      <th>635</th>\n",
       "      <td>BCM</td>\n",
       "      <td>No PORT Code (BCM</td>\n",
       "      <td>o PORT Code (BCM)</td>\n",
       "    </tr>\n",
       "    <tr>\n",
       "      <th>636</th>\n",
       "      <td>DEC</td>\n",
       "      <td>No PORT Code (DEC</td>\n",
       "      <td>o PORT Code (DEC)</td>\n",
       "    </tr>\n",
       "    <tr>\n",
       "      <th>637</th>\n",
       "      <td>PLB</td>\n",
       "      <td>No PORT Code (PLB</td>\n",
       "      <td>o PORT Code (PLB)</td>\n",
       "    </tr>\n",
       "    <tr>\n",
       "      <th>638</th>\n",
       "      <td>CXO</td>\n",
       "      <td>No PORT Code (CXO</td>\n",
       "      <td>o PORT Code (CXO)</td>\n",
       "    </tr>\n",
       "    <tr>\n",
       "      <th>639</th>\n",
       "      <td>JBQ</td>\n",
       "      <td>No PORT Code (JBQ</td>\n",
       "      <td>o PORT Code (JBQ)</td>\n",
       "    </tr>\n",
       "    <tr>\n",
       "      <th>640</th>\n",
       "      <td>JIG</td>\n",
       "      <td>No PORT Code (JIG</td>\n",
       "      <td>o PORT Code (JIG)</td>\n",
       "    </tr>\n",
       "    <tr>\n",
       "      <th>641</th>\n",
       "      <td>OGS</td>\n",
       "      <td>No PORT Code (OGS</td>\n",
       "      <td>o PORT Code (OGS)</td>\n",
       "    </tr>\n",
       "    <tr>\n",
       "      <th>642</th>\n",
       "      <td>TIW</td>\n",
       "      <td>No PORT Code (TIW</td>\n",
       "      <td>o PORT Code (TIW)</td>\n",
       "    </tr>\n",
       "    <tr>\n",
       "      <th>643</th>\n",
       "      <td>OTS</td>\n",
       "      <td>No PORT Code (OTS</td>\n",
       "      <td>o PORT Code (OTS)</td>\n",
       "    </tr>\n",
       "    <tr>\n",
       "      <th>644</th>\n",
       "      <td>AMT</td>\n",
       "      <td>No PORT Code (AMT</td>\n",
       "      <td>o PORT Code (AMT)</td>\n",
       "    </tr>\n",
       "    <tr>\n",
       "      <th>645</th>\n",
       "      <td>EGE</td>\n",
       "      <td>No PORT Code (EGE</td>\n",
       "      <td>o PORT Code (EGE)</td>\n",
       "    </tr>\n",
       "    <tr>\n",
       "      <th>646</th>\n",
       "      <td>GPI</td>\n",
       "      <td>No PORT Code (GPI</td>\n",
       "      <td>o PORT Code (GPI)</td>\n",
       "    </tr>\n",
       "    <tr>\n",
       "      <th>647</th>\n",
       "      <td>NGL</td>\n",
       "      <td>No PORT Code (NGL</td>\n",
       "      <td>o PORT Code (NGL)</td>\n",
       "    </tr>\n",
       "    <tr>\n",
       "      <th>648</th>\n",
       "      <td>OLM</td>\n",
       "      <td>No PORT Code (OLM</td>\n",
       "      <td>o PORT Code (OLM)</td>\n",
       "    </tr>\n",
       "    <tr>\n",
       "      <th>649</th>\n",
       "      <td>.GA</td>\n",
       "      <td>No PORT Code (.GA</td>\n",
       "      <td>o PORT Code (.GA)</td>\n",
       "    </tr>\n",
       "    <tr>\n",
       "      <th>650</th>\n",
       "      <td>CLX</td>\n",
       "      <td>No PORT Code (CLX</td>\n",
       "      <td>o PORT Code (CLX)</td>\n",
       "    </tr>\n",
       "    <tr>\n",
       "      <th>651</th>\n",
       "      <td>CP</td>\n",
       "      <td>No PORT Code (CP</td>\n",
       "      <td>o PORT Code (CP)</td>\n",
       "    </tr>\n",
       "    <tr>\n",
       "      <th>652</th>\n",
       "      <td>FSC</td>\n",
       "      <td>No PORT Code (FSC</td>\n",
       "      <td>o PORT Code (FSC)</td>\n",
       "    </tr>\n",
       "    <tr>\n",
       "      <th>653</th>\n",
       "      <td>NK</td>\n",
       "      <td>No PORT Code (NK</td>\n",
       "      <td>o PORT Code (NK)</td>\n",
       "    </tr>\n",
       "    <tr>\n",
       "      <th>654</th>\n",
       "      <td>ADU</td>\n",
       "      <td>No PORT Code (ADU</td>\n",
       "      <td>o PORT Code (ADU)</td>\n",
       "    </tr>\n",
       "    <tr>\n",
       "      <th>655</th>\n",
       "      <td>AKT</td>\n",
       "      <td>No PORT Code (AKT</td>\n",
       "      <td>o PORT Code (AKT)</td>\n",
       "    </tr>\n",
       "    <tr>\n",
       "      <th>656</th>\n",
       "      <td>LIT</td>\n",
       "      <td>No PORT Code (LIT</td>\n",
       "      <td>o PORT Code (LIT)</td>\n",
       "    </tr>\n",
       "    <tr>\n",
       "      <th>657</th>\n",
       "      <td>A2A</td>\n",
       "      <td>No PORT Code (A2A</td>\n",
       "      <td>o PORT Code (A2A)</td>\n",
       "    </tr>\n",
       "    <tr>\n",
       "      <th>658</th>\n",
       "      <td>OSN</td>\n",
       "      <td>No PORT Code (OSN</td>\n",
       "      <td>o PORT Code (OSN)</td>\n",
       "    </tr>\n",
       "  </tbody>\n",
       "</table>\n",
       "<p>659 rows × 3 columns</p>\n",
       "</div>"
      ],
      "text/plain": [
       "      id                   state_code                   name\n",
       "0    ALC                        ALCAN        AK             \n",
       "1    ANC                    ANCHORAGE            AK         \n",
       "2    BAR     BAKER AAF - BAKER ISLAND                     AK\n",
       "3    DAC                DALTONS CACHE                AK     \n",
       "4    PIZ       DEW STATION PT LAY DEW                     AK\n",
       "5    DTH                 DUTCH HARBOR               AK      \n",
       "6    EGL                        EAGLE        AK             \n",
       "7    FRB                    FAIRBANKS            AK         \n",
       "8    HOM                        HOMER        AK             \n",
       "9    HYD                        HYDER        AK             \n",
       "10   JUN                       JUNEAU         AK            \n",
       "11   5KE                    KETCHIKAN                     AK\n",
       "12   KET                    KETCHIKAN            AK         \n",
       "13   MOS     MOSES POINT INTERMEDIATE                     AK\n",
       "14   NIK                      NIKISKI          AK           \n",
       "15   NOM                          NOM      AK               \n",
       "16   PKC                  POKER CREEK              AK       \n",
       "17   ORI               PORT LIONS SPB                     AK\n",
       "18   SKA                      SKAGWAY          AK           \n",
       "19   SNP              ST. PAUL ISLAND                     AK\n",
       "20   TKI                       TOKEEN                     AK\n",
       "21   WRA                     WRANGELL           AK          \n",
       "22   HSV  MADISON COUNTY - HUNTSVILLE                     AL\n",
       "23   MOB                       MOBILE         AL            \n",
       "24   LIA                  LITTLE ROCK               AR (BPS)\n",
       "25   ROG                  ROGERS ARPT                     AR\n",
       "26   DOU                      DOUGLAS          AZ           \n",
       "27   LUK                    LUKEVILLE            AZ         \n",
       "28   MAP        MARIPOSA AZ            ARIPOSA AZ           \n",
       "29   NAC                         NACO       AZ              \n",
       "..   ...                          ...                    ...\n",
       "629  SCH            No PORT Code (SCH      o PORT Code (SCH)\n",
       "630  ASI            No PORT Code (ASI      o PORT Code (ASI)\n",
       "631  BKF            No PORT Code (BKF      o PORT Code (BKF)\n",
       "632  DAY            No PORT Code (DAY      o PORT Code (DAY)\n",
       "633  Y62            No PORT Code (Y62      o PORT Code (Y62)\n",
       "634   AG             No PORT Code (AG       o PORT Code (AG)\n",
       "635  BCM            No PORT Code (BCM      o PORT Code (BCM)\n",
       "636  DEC            No PORT Code (DEC      o PORT Code (DEC)\n",
       "637  PLB            No PORT Code (PLB      o PORT Code (PLB)\n",
       "638  CXO            No PORT Code (CXO      o PORT Code (CXO)\n",
       "639  JBQ            No PORT Code (JBQ      o PORT Code (JBQ)\n",
       "640  JIG            No PORT Code (JIG      o PORT Code (JIG)\n",
       "641  OGS            No PORT Code (OGS      o PORT Code (OGS)\n",
       "642  TIW            No PORT Code (TIW      o PORT Code (TIW)\n",
       "643  OTS            No PORT Code (OTS      o PORT Code (OTS)\n",
       "644  AMT            No PORT Code (AMT      o PORT Code (AMT)\n",
       "645  EGE            No PORT Code (EGE      o PORT Code (EGE)\n",
       "646  GPI            No PORT Code (GPI      o PORT Code (GPI)\n",
       "647  NGL            No PORT Code (NGL      o PORT Code (NGL)\n",
       "648  OLM            No PORT Code (OLM      o PORT Code (OLM)\n",
       "649  .GA            No PORT Code (.GA      o PORT Code (.GA)\n",
       "650  CLX            No PORT Code (CLX      o PORT Code (CLX)\n",
       "651  CP              No PORT Code (CP       o PORT Code (CP)\n",
       "652  FSC            No PORT Code (FSC      o PORT Code (FSC)\n",
       "653   NK             No PORT Code (NK       o PORT Code (NK)\n",
       "654  ADU            No PORT Code (ADU      o PORT Code (ADU)\n",
       "655  AKT            No PORT Code (AKT      o PORT Code (AKT)\n",
       "656  LIT            No PORT Code (LIT      o PORT Code (LIT)\n",
       "657  A2A            No PORT Code (A2A      o PORT Code (A2A)\n",
       "658  OSN            No PORT Code (OSN      o PORT Code (OSN)\n",
       "\n",
       "[659 rows x 3 columns]"
      ]
     },
     "execution_count": 44,
     "metadata": {},
     "output_type": "execute_result"
    }
   ],
   "source": [
    "def get_state_code(x):\n",
    "    i=x.rfind(\",\")\n",
    "    return (x[:i])\n",
    "def get_name(x):\n",
    "    i=x.rfind(\",\")\n",
    "    return (x[i+2:])\n",
    "\n",
    "get_state_code_udf = udf(lambda x: get_state_code(x), StringType())\n",
    "get_name_udf = udf(lambda x: get_name(x), StringType())\n",
    "df = df_i94port_raw\n",
    "df = df.withColumn('state_code', get_state_code_udf('port'))\n",
    "df = df.withColumn('name', get_name_udf('port'))\n",
    "df_i94port = df.select([\"id\",\"state_code\",\"name\"])\n",
    "\n",
    "df_i94port.show(5)\n",
    "df_i94port.printSchema()\n",
    "df_i94port.toPandas()"
   ]
  },
  {
   "cell_type": "markdown",
   "metadata": {
    "editable": true
   },
   "source": [
    "### Step 2: Explore and Assess the Data\n",
    "#### Explore the Data \n",
    "\n",
    "[explore_data.ipynb](explore_data.ipynb)\n",
    "\n",
    "* many field in immigration data shoule be int instead of double\n",
    "\n",
    "\n",
    "* many redundancy data\n",
    "\n",
    "  * keep only US related data\n",
    "  \n",
    "  * keep only data in 2016\n",
    "\n",
    "\n",
    "* multiple data in one colomn\n",
    "\n",
    "  * latitude & longitude in temperature data\n",
    "  \n",
    "  * state & city in i94port table\n",
    "  \n",
    "  \n",
    "#### Cleaning Steps\n",
    "\n"
   ]
  },
  {
   "cell_type": "code",
   "execution_count": 47,
   "metadata": {
    "editable": true
   },
   "outputs": [
    {
     "name": "stdout",
     "output_type": "stream",
     "text": [
      "+----+-------------+--------------------+------------+-----+------------+--------+---------+----------+------------------+-----------------+\n",
      "|  id|         type|                name|elevation_ft|state|municipality|gps_code|iata_code|local_code|         longitude|         latitude|\n",
      "+----+-------------+--------------------+------------+-----+------------+--------+---------+----------+------------------+-----------------+\n",
      "| 00A|     heliport|   Total Rf Heliport|          11|   PA|    Bensalem|     00A|     null|       00A|-74.93360137939453|   40.07080078125|\n",
      "|00AA|small_airport|Aero B Ranch Airport|        3435|   KS|       Leoti|    00AA|     null|      00AA|       -101.473911|        38.704022|\n",
      "|00AK|small_airport|        Lowell Field|         450|   AK|Anchor Point|    00AK|     null|      00AK|    -151.695999146|      59.94919968|\n",
      "|00AL|small_airport|        Epps Airpark|         820|   AL|     Harvest|    00AL|     null|      00AL|-86.77030181884766|34.86479949951172|\n",
      "|00AR|       closed|Newport Hospital ...|         237|   AR|     Newport|    null|     null|      null|        -91.254898|          35.6087|\n",
      "+----+-------------+--------------------+------------+-----+------------+--------+---------+----------+------------------+-----------------+\n",
      "only showing top 5 rows\n",
      "\n",
      "root\n",
      " |-- id: string (nullable = true)\n",
      " |-- type: string (nullable = true)\n",
      " |-- name: string (nullable = true)\n",
      " |-- elevation_ft: integer (nullable = true)\n",
      " |-- state: string (nullable = true)\n",
      " |-- municipality: string (nullable = true)\n",
      " |-- gps_code: string (nullable = true)\n",
      " |-- iata_code: string (nullable = true)\n",
      " |-- local_code: string (nullable = true)\n",
      " |-- longitude: double (nullable = true)\n",
      " |-- latitude: double (nullable = true)\n",
      "\n"
     ]
    }
   ],
   "source": [
    "# clean airport\n",
    "\n",
    "def get_longitude(x):\n",
    "    i=x.find(\",\")\n",
    "    return float(x[:i])\n",
    "def get_latitude(x):\n",
    "    i=x.find(\",\")\n",
    "    return float(x[i+2:])\n",
    "\n",
    "get_longitude_udf = udf(lambda x: get_longitude(x), DoubleType())\n",
    "get_latitude_udf = udf(lambda x: get_latitude(x), DoubleType())\n",
    "get_state_udf = udf(lambda x: x[3:], StringType())\n",
    "df = df_airport_raw.filter(col(\"iso_country\")==\"US\")\n",
    "df = df.withColumn('longitude', get_longitude_udf('coordinates'))\n",
    "df = df.withColumn('latitude', get_latitude_udf('coordinates'))\n",
    "df = df.withColumn('state', get_state_udf('iso_region'))\n",
    "df_airport = df.select([\"id\",\"type\",\"name\",\"elevation_ft\",\"state\",\"municipality\",\"gps_code\",\"iata_code\",\"local_code\",\"longitude\",\"latitude\"])\n",
    "\n",
    "df_airport.show(5)\n",
    "df_airport.printSchema()"
   ]
  },
  {
   "cell_type": "code",
   "execution_count": 63,
   "metadata": {
    "editable": true
   },
   "outputs": [
    {
     "name": "stdout",
     "output_type": "stream",
     "text": [
      "+------------+----------+-----------+----------+------+------+------+--------+------------+-----------------+\n",
      "|        city|state_code|      state|median_age|  male|female| total|veterans|foreign_born|average_household|\n",
      "+------------+----------+-----------+----------+------+------+------+--------+------------+-----------------+\n",
      "|   Rockville|        MD|   Maryland|      38.1| 31205| 35793| 66998|    1990|       25047|             2.60|\n",
      "|Delray Beach|        FL|    Florida|      47.9| 32219| 34042| 66261|    4232|       16639|             2.35|\n",
      "| Jersey City|        NJ| New Jersey|      34.3|131765|132512|264277|    4374|      109186|             2.57|\n",
      "|    Gulfport|        MS|Mississippi|      35.1| 33108| 38764| 71872|    6646|        3072|             2.54|\n",
      "|  Cincinnati|        OH|       Ohio|      32.7|143654|154883|298537|   13699|       16896|             2.08|\n",
      "+------------+----------+-----------+----------+------+------+------+--------+------------+-----------------+\n",
      "only showing top 5 rows\n",
      "\n",
      "root\n",
      " |-- city: string (nullable = true)\n",
      " |-- state_code: string (nullable = true)\n",
      " |-- state: string (nullable = true)\n",
      " |-- median_age: decimal(4,1) (nullable = true)\n",
      " |-- male: integer (nullable = true)\n",
      " |-- female: integer (nullable = true)\n",
      " |-- total: integer (nullable = true)\n",
      " |-- veterans: integer (nullable = true)\n",
      " |-- foreign_born: integer (nullable = true)\n",
      " |-- average_household: decimal(4,2) (nullable = true)\n",
      "\n"
     ]
    }
   ],
   "source": [
    "# df = df_city_raw.filter(col(\"city\")==\"Silver Spring\")\n",
    "df = df_city_raw.dropDuplicates([\"city\",\"state\",\"state_code\"])\n",
    "df = df.select([\"city\",\"state_code\",\"state\",\"median_age\",\"male\",\"female\",\"total\",\"veterans\",\"foreign_born\",\"average_household\"])\n",
    "df_city = df\n",
    "df_city.show(5)\n",
    "df_city.printSchema()"
   ]
  },
  {
   "cell_type": "code",
   "execution_count": 39,
   "metadata": {
    "editable": true
   },
   "outputs": [
    {
     "name": "stdout",
     "output_type": "stream",
     "text": [
      "+----+-----+\n",
      "|year|count|\n",
      "+----+-----+\n",
      "|2013|31590|\n",
      "|2012|42120|\n",
      "|2011|42120|\n",
      "|2010|42120|\n",
      "|2009|42120|\n",
      "|2008|42120|\n",
      "|2007|42120|\n",
      "|2006|42120|\n",
      "|2005|42120|\n",
      "|2004|42120|\n",
      "|2003|42120|\n",
      "|2002|42120|\n",
      "|2001|42120|\n",
      "|2000|42120|\n",
      "|1999|42120|\n",
      "|1998|42120|\n",
      "|1997|42120|\n",
      "|1996|42120|\n",
      "|1995|42120|\n",
      "|1994|42120|\n",
      "+----+-----+\n",
      "only showing top 20 rows\n",
      "\n",
      "root\n",
      " |-- year: integer (nullable = true)\n",
      " |-- count: long (nullable = false)\n",
      "\n"
     ]
    }
   ],
   "source": [
    "def get_longitude(x):\n",
    "    if x is None:\n",
    "        return None\n",
    "    l=float(x[0:-1])\n",
    "    if x[-1]==\"W\":\n",
    "        l=-l\n",
    "    return l\n",
    "def get_latitude(x):\n",
    "    return float(x[0:-1])\n",
    "\n",
    "get_longitude_udf = udf(lambda x: get_longitude(x),DoubleType())\n",
    "get_latitude_udf = udf(lambda x: get_latitude(x),DoubleType())\n",
    "df=df_temperature_raw\n",
    "df=df.filter(\n",
    "    (col(\"date\")>=datetime.datetime(2016, 1, 1, 0, 0)) &\n",
    "    (col(\"date\")<datetime.datetime(2017, 1, 1, 0, 0)) &\n",
    "    (col(\"country\")==\"United States\")\n",
    ")\n",
    "df=df.withColumn('longitude', get_longitude_udf('longitude').cast(DecimalType(5,2)))\n",
    "df=df.withColumn('latitude', get_latitude_udf('latitude').cast(DecimalType(5,2)))\n",
    "#df=df.withColumn(\"year\",year(\"date\"))\n",
    "#df=df.groupBy(\"year\").count().orderBy(\"year\",ascending=False)\n",
    "df.show(20)\n",
    "df.printSchema()"
   ]
  },
  {
   "cell_type": "code",
   "execution_count": null,
   "metadata": {
    "editable": true
   },
   "outputs": [],
   "source": [
    "\n",
    "\n",
    "\n"
   ]
  },
  {
   "cell_type": "markdown",
   "metadata": {
    "editable": true
   },
   "source": [
    "### Step 3: Define the Data Model\n",
    "#### 3.1 Conceptual Data Model\n",
    "Map out the conceptual data model and explain why you chose that model\n",
    "\n",
    "#### 3.2 Mapping Out Data Pipelines\n",
    "List the steps necessary to pipeline the data into the chosen data model"
   ]
  },
  {
   "cell_type": "markdown",
   "metadata": {
    "editable": true
   },
   "source": [
    "### Step 4: Run Pipelines to Model the Data \n",
    "#### 4.1 Create the data model\n",
    "Build the data pipelines to create the data model."
   ]
  },
  {
   "cell_type": "code",
   "execution_count": null,
   "metadata": {
    "editable": true
   },
   "outputs": [],
   "source": [
    "# Write code here"
   ]
  },
  {
   "cell_type": "markdown",
   "metadata": {
    "editable": true
   },
   "source": [
    "#### 4.2 Data Quality Checks\n",
    "Explain the data quality checks you'll perform to ensure the pipeline ran as expected. These could include:\n",
    " * Integrity constraints on the relational database (e.g., unique key, data type, etc.)\n",
    " * Unit tests for the scripts to ensure they are doing the right thing\n",
    " * Source/Count checks to ensure completeness\n",
    " \n",
    "Run Quality Checks"
   ]
  },
  {
   "cell_type": "code",
   "execution_count": null,
   "metadata": {
    "editable": true
   },
   "outputs": [],
   "source": [
    "# Perform quality checks here"
   ]
  },
  {
   "cell_type": "markdown",
   "metadata": {
    "editable": true
   },
   "source": [
    "#### 4.3 Data dictionary \n",
    "\n",
    "[data dicationary](data_dicationary.ipynb)"
   ]
  },
  {
   "cell_type": "markdown",
   "metadata": {
    "editable": true
   },
   "source": [
    "#### Step 5: Complete Project Write Up\n",
    "* Clearly state the rationale for the choice of tools and technologies for the project.\n",
    "* Propose how often the data should be updated and why.\n",
    "* Write a description of how you would approach the problem differently under the following scenarios:\n",
    " * The data was increased by 100x.\n",
    " * The data populates a dashboard that must be updated on a daily basis by 7am every day.\n",
    " * The database needed to be accessed by 100+ people."
   ]
  },
  {
   "cell_type": "code",
   "execution_count": null,
   "metadata": {
    "editable": true
   },
   "outputs": [],
   "source": []
  },
  {
   "cell_type": "code",
   "execution_count": null,
   "metadata": {
    "editable": true
   },
   "outputs": [],
   "source": []
  },
  {
   "cell_type": "code",
   "execution_count": null,
   "metadata": {
    "editable": true
   },
   "outputs": [],
   "source": []
  },
  {
   "cell_type": "code",
   "execution_count": null,
   "metadata": {
    "editable": true
   },
   "outputs": [],
   "source": []
  },
  {
   "cell_type": "code",
   "execution_count": null,
   "metadata": {
    "editable": true
   },
   "outputs": [],
   "source": []
  },
  {
   "cell_type": "code",
   "execution_count": null,
   "metadata": {
    "editable": true
   },
   "outputs": [],
   "source": []
  }
 ],
 "metadata": {
  "kernelspec": {
   "display_name": "Python 3",
   "language": "python",
   "name": "python3"
  },
  "language_info": {
   "codemirror_mode": {
    "name": "ipython",
    "version": 3
   },
   "file_extension": ".py",
   "mimetype": "text/x-python",
   "name": "python",
   "nbconvert_exporter": "python",
   "pygments_lexer": "ipython3",
   "version": "3.6.3"
  },
  "pycharm": {
   "stem_cell": {
    "cell_type": "raw",
    "metadata": {
     "collapsed": false
    },
    "source": []
   }
  }
 },
 "nbformat": 4,
 "nbformat_minor": 4
}
