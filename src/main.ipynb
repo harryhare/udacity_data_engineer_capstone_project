{
 "cells": [
  {
   "cell_type": "markdown",
   "metadata": {
    "editable": true
   },
   "source": [
    "# Project Title\n",
    "### Data Engineering Capstone Project\n",
    "\n",
    "#### Project Summary\n",
    "\n",
    "The project uses spark to load and do etl with U.S. immigration data. \n",
    "\n",
    "The project saves the processed result locally with parquet format.\n",
    "\n",
    "The project follows the follow steps:\n",
    "* Step 1: Scope the Project and Gather Data\n",
    "* Step 2: Explore and Assess the Data\n",
    "* Step 3: Define the Data Model\n",
    "* Step 4: Run ETL to Model the Data\n",
    "* Step 5: Complete Project Write Up"
   ]
  },
  {
   "cell_type": "code",
   "execution_count": 84,
   "metadata": {
    "editable": true
   },
   "outputs": [],
   "source": [
    "import pandas as pd\n",
    "import datetime\n",
    "from pyspark.sql import SparkSession\n",
    "from pyspark.sql.functions import udf, col, round\n",
    "from pyspark.sql.functions import year, month, dayofmonth, hour, weekofyear, date_format,dayofweek\n",
    "from pyspark.sql.functions import to_date, upper,monotonically_increasing_id\n",
    "from pyspark.sql.functions import expr\n",
    "from pyspark.sql.functions import unix_timestamp,from_unixtime\n",
    "from pyspark.sql.types import StructType,StructField,StringType,IntegerType,DoubleType,DecimalType,TimestampType,ArrayType,DateType"
   ]
  },
  {
   "cell_type": "code",
   "execution_count": 2,
   "metadata": {
    "editable": true
   },
   "outputs": [],
   "source": [
    "spark = SparkSession.builder.\\\n",
    "config(\"spark.jars.packages\",\"saurfang:spark-sas7bdat:2.0.0-s_2.11\")\\\n",
    ".enableHiveSupport().getOrCreate()"
   ]
  },
  {
   "cell_type": "markdown",
   "metadata": {
    "editable": true
   },
   "source": [
    "### Step 1: Scope the Project and Gather Data\n",
    "\n",
    "#### Scope \n",
    "\n",
    "* goals: processed the date to fact tables and dimesion tables \n",
    "\n",
    "* tools: Spark\n",
    "\n",
    "#### Describe and Gather Data \n",
    "\n",
    "| data | from | local dir | link |   \n",
    "|:---|:---|:---|:---|\n",
    "| I94 Immigration Data | US National Tourism and Trade Office |/data/18-83510-I94-Data-2016/ | https://travel.trade.gov/research/reports/i94/historical/2016.html |\n",
    "| World Temperature Data | Kaggle | /data2/GlobalLandTemperaturesByCity.csv | https://www.kaggle.com/berkeleyearth/climate-change-earth-surface-temperature-data |\n",
    "| U.S. City Demographic Data | OpenSoft| /home/workspace/us-cities-demographics.csv  | https://public.opendatasoft.com/explore/dataset/us-cities-demographics/export/ |\n",
    "| Airport Code Table | datahub.io | /home/workspace/airport-codes_csv.csv  | https://datahub.io/core/airport-codes#data |\n"
   ]
  },
  {
   "cell_type": "code",
   "execution_count": 30,
   "metadata": {
    "editable": true
   },
   "outputs": [],
   "source": [
    "airport_file = \"../data/airport-codes_csv.csv\"\n",
    "city_fiele = \"../data/us-cities-demographics.csv\"\n",
    "temperature_file = \"/data2/GlobalLandTemperaturesByCity.csv\"\n",
    "immigration_dir = \"/data/18-83510-I94-Data-2016/\"\n",
    "immigration_dimesions= \"../data/I94_SAS_Labels_Descriptions.SAS\"\n",
    "immigration_sample =\"../data/immigration_data_sample.csv\"\n",
    "\n",
    "i94addrl_file=\"../output/i94addrl.csv\"\n",
    "i94cntyl_file=\"../output/i94cntyl.csv\"\n",
    "i94model_file=\"../output/i94model.csv\"\n",
    "i94prtl_file=\"../output/i94prtl.csv\"\n",
    "i94visa_file=\"../output/i94visa.csv\""
   ]
  },
  {
   "cell_type": "code",
   "execution_count": 13,
   "metadata": {
    "editable": true
   },
   "outputs": [
    {
     "data": {
      "text/html": [
       "<div>\n",
       "<style scoped>\n",
       "    .dataframe tbody tr th:only-of-type {\n",
       "        vertical-align: middle;\n",
       "    }\n",
       "\n",
       "    .dataframe tbody tr th {\n",
       "        vertical-align: top;\n",
       "    }\n",
       "\n",
       "    .dataframe thead th {\n",
       "        text-align: right;\n",
       "    }\n",
       "</style>\n",
       "<table border=\"1\" class=\"dataframe\">\n",
       "  <thead>\n",
       "    <tr style=\"text-align: right;\">\n",
       "      <th></th>\n",
       "      <th>Unnamed: 0</th>\n",
       "      <th>cicid</th>\n",
       "      <th>i94yr</th>\n",
       "      <th>i94mon</th>\n",
       "      <th>i94cit</th>\n",
       "      <th>i94res</th>\n",
       "      <th>i94port</th>\n",
       "      <th>arrdate</th>\n",
       "      <th>i94mode</th>\n",
       "      <th>i94addr</th>\n",
       "      <th>...</th>\n",
       "      <th>entdepu</th>\n",
       "      <th>matflag</th>\n",
       "      <th>biryear</th>\n",
       "      <th>dtaddto</th>\n",
       "      <th>gender</th>\n",
       "      <th>insnum</th>\n",
       "      <th>airline</th>\n",
       "      <th>admnum</th>\n",
       "      <th>fltno</th>\n",
       "      <th>visatype</th>\n",
       "    </tr>\n",
       "  </thead>\n",
       "  <tbody>\n",
       "    <tr>\n",
       "      <th>0</th>\n",
       "      <td>2027561</td>\n",
       "      <td>4084316.0</td>\n",
       "      <td>2016.0</td>\n",
       "      <td>4.0</td>\n",
       "      <td>209.0</td>\n",
       "      <td>209.0</td>\n",
       "      <td>HHW</td>\n",
       "      <td>20566.0</td>\n",
       "      <td>1.0</td>\n",
       "      <td>HI</td>\n",
       "      <td>...</td>\n",
       "      <td>NaN</td>\n",
       "      <td>M</td>\n",
       "      <td>1955.0</td>\n",
       "      <td>07202016</td>\n",
       "      <td>F</td>\n",
       "      <td>NaN</td>\n",
       "      <td>JL</td>\n",
       "      <td>5.658267e+10</td>\n",
       "      <td>00782</td>\n",
       "      <td>WT</td>\n",
       "    </tr>\n",
       "    <tr>\n",
       "      <th>1</th>\n",
       "      <td>2171295</td>\n",
       "      <td>4422636.0</td>\n",
       "      <td>2016.0</td>\n",
       "      <td>4.0</td>\n",
       "      <td>582.0</td>\n",
       "      <td>582.0</td>\n",
       "      <td>MCA</td>\n",
       "      <td>20567.0</td>\n",
       "      <td>1.0</td>\n",
       "      <td>TX</td>\n",
       "      <td>...</td>\n",
       "      <td>NaN</td>\n",
       "      <td>M</td>\n",
       "      <td>1990.0</td>\n",
       "      <td>10222016</td>\n",
       "      <td>M</td>\n",
       "      <td>NaN</td>\n",
       "      <td>*GA</td>\n",
       "      <td>9.436200e+10</td>\n",
       "      <td>XBLNG</td>\n",
       "      <td>B2</td>\n",
       "    </tr>\n",
       "    <tr>\n",
       "      <th>2</th>\n",
       "      <td>589494</td>\n",
       "      <td>1195600.0</td>\n",
       "      <td>2016.0</td>\n",
       "      <td>4.0</td>\n",
       "      <td>148.0</td>\n",
       "      <td>112.0</td>\n",
       "      <td>OGG</td>\n",
       "      <td>20551.0</td>\n",
       "      <td>1.0</td>\n",
       "      <td>FL</td>\n",
       "      <td>...</td>\n",
       "      <td>NaN</td>\n",
       "      <td>M</td>\n",
       "      <td>1940.0</td>\n",
       "      <td>07052016</td>\n",
       "      <td>M</td>\n",
       "      <td>NaN</td>\n",
       "      <td>LH</td>\n",
       "      <td>5.578047e+10</td>\n",
       "      <td>00464</td>\n",
       "      <td>WT</td>\n",
       "    </tr>\n",
       "    <tr>\n",
       "      <th>3</th>\n",
       "      <td>2631158</td>\n",
       "      <td>5291768.0</td>\n",
       "      <td>2016.0</td>\n",
       "      <td>4.0</td>\n",
       "      <td>297.0</td>\n",
       "      <td>297.0</td>\n",
       "      <td>LOS</td>\n",
       "      <td>20572.0</td>\n",
       "      <td>1.0</td>\n",
       "      <td>CA</td>\n",
       "      <td>...</td>\n",
       "      <td>NaN</td>\n",
       "      <td>M</td>\n",
       "      <td>1991.0</td>\n",
       "      <td>10272016</td>\n",
       "      <td>M</td>\n",
       "      <td>NaN</td>\n",
       "      <td>QR</td>\n",
       "      <td>9.478970e+10</td>\n",
       "      <td>00739</td>\n",
       "      <td>B2</td>\n",
       "    </tr>\n",
       "    <tr>\n",
       "      <th>4</th>\n",
       "      <td>3032257</td>\n",
       "      <td>985523.0</td>\n",
       "      <td>2016.0</td>\n",
       "      <td>4.0</td>\n",
       "      <td>111.0</td>\n",
       "      <td>111.0</td>\n",
       "      <td>CHM</td>\n",
       "      <td>20550.0</td>\n",
       "      <td>3.0</td>\n",
       "      <td>NY</td>\n",
       "      <td>...</td>\n",
       "      <td>NaN</td>\n",
       "      <td>M</td>\n",
       "      <td>1997.0</td>\n",
       "      <td>07042016</td>\n",
       "      <td>F</td>\n",
       "      <td>NaN</td>\n",
       "      <td>NaN</td>\n",
       "      <td>4.232257e+10</td>\n",
       "      <td>LAND</td>\n",
       "      <td>WT</td>\n",
       "    </tr>\n",
       "  </tbody>\n",
       "</table>\n",
       "<p>5 rows × 29 columns</p>\n",
       "</div>"
      ],
      "text/plain": [
       "   Unnamed: 0      cicid   i94yr  i94mon  i94cit  i94res i94port  arrdate  \\\n",
       "0     2027561  4084316.0  2016.0     4.0   209.0   209.0     HHW  20566.0   \n",
       "1     2171295  4422636.0  2016.0     4.0   582.0   582.0     MCA  20567.0   \n",
       "2      589494  1195600.0  2016.0     4.0   148.0   112.0     OGG  20551.0   \n",
       "3     2631158  5291768.0  2016.0     4.0   297.0   297.0     LOS  20572.0   \n",
       "4     3032257   985523.0  2016.0     4.0   111.0   111.0     CHM  20550.0   \n",
       "\n",
       "   i94mode i94addr    ...     entdepu  matflag  biryear   dtaddto  gender  \\\n",
       "0      1.0      HI    ...         NaN        M   1955.0  07202016       F   \n",
       "1      1.0      TX    ...         NaN        M   1990.0  10222016       M   \n",
       "2      1.0      FL    ...         NaN        M   1940.0  07052016       M   \n",
       "3      1.0      CA    ...         NaN        M   1991.0  10272016       M   \n",
       "4      3.0      NY    ...         NaN        M   1997.0  07042016       F   \n",
       "\n",
       "  insnum airline        admnum  fltno  visatype  \n",
       "0    NaN      JL  5.658267e+10  00782        WT  \n",
       "1    NaN     *GA  9.436200e+10  XBLNG        B2  \n",
       "2    NaN      LH  5.578047e+10  00464        WT  \n",
       "3    NaN      QR  9.478970e+10  00739        B2  \n",
       "4    NaN     NaN  4.232257e+10   LAND        WT  \n",
       "\n",
       "[5 rows x 29 columns]"
      ]
     },
     "execution_count": 13,
     "metadata": {},
     "output_type": "execute_result"
    }
   ],
   "source": [
    "pd_immigration=pd.read_csv(immigration_sample)\n",
    "pd_immigration.head()\n"
   ]
  },
  {
   "cell_type": "code",
   "execution_count": 14,
   "metadata": {
    "editable": true
   },
   "outputs": [
    {
     "data": {
      "text/html": [
       "<div>\n",
       "<style scoped>\n",
       "    .dataframe tbody tr th:only-of-type {\n",
       "        vertical-align: middle;\n",
       "    }\n",
       "\n",
       "    .dataframe tbody tr th {\n",
       "        vertical-align: top;\n",
       "    }\n",
       "\n",
       "    .dataframe thead th {\n",
       "        text-align: right;\n",
       "    }\n",
       "</style>\n",
       "<table border=\"1\" class=\"dataframe\">\n",
       "  <thead>\n",
       "    <tr style=\"text-align: right;\">\n",
       "      <th></th>\n",
       "      <th>ident</th>\n",
       "      <th>type</th>\n",
       "      <th>name</th>\n",
       "      <th>elevation_ft</th>\n",
       "      <th>continent</th>\n",
       "      <th>iso_country</th>\n",
       "      <th>iso_region</th>\n",
       "      <th>municipality</th>\n",
       "      <th>gps_code</th>\n",
       "      <th>iata_code</th>\n",
       "      <th>local_code</th>\n",
       "      <th>coordinates</th>\n",
       "    </tr>\n",
       "  </thead>\n",
       "  <tbody>\n",
       "    <tr>\n",
       "      <th>0</th>\n",
       "      <td>00A</td>\n",
       "      <td>heliport</td>\n",
       "      <td>Total Rf Heliport</td>\n",
       "      <td>11.0</td>\n",
       "      <td>NaN</td>\n",
       "      <td>US</td>\n",
       "      <td>US-PA</td>\n",
       "      <td>Bensalem</td>\n",
       "      <td>00A</td>\n",
       "      <td>NaN</td>\n",
       "      <td>00A</td>\n",
       "      <td>-74.93360137939453, 40.07080078125</td>\n",
       "    </tr>\n",
       "    <tr>\n",
       "      <th>1</th>\n",
       "      <td>00AA</td>\n",
       "      <td>small_airport</td>\n",
       "      <td>Aero B Ranch Airport</td>\n",
       "      <td>3435.0</td>\n",
       "      <td>NaN</td>\n",
       "      <td>US</td>\n",
       "      <td>US-KS</td>\n",
       "      <td>Leoti</td>\n",
       "      <td>00AA</td>\n",
       "      <td>NaN</td>\n",
       "      <td>00AA</td>\n",
       "      <td>-101.473911, 38.704022</td>\n",
       "    </tr>\n",
       "    <tr>\n",
       "      <th>2</th>\n",
       "      <td>00AK</td>\n",
       "      <td>small_airport</td>\n",
       "      <td>Lowell Field</td>\n",
       "      <td>450.0</td>\n",
       "      <td>NaN</td>\n",
       "      <td>US</td>\n",
       "      <td>US-AK</td>\n",
       "      <td>Anchor Point</td>\n",
       "      <td>00AK</td>\n",
       "      <td>NaN</td>\n",
       "      <td>00AK</td>\n",
       "      <td>-151.695999146, 59.94919968</td>\n",
       "    </tr>\n",
       "    <tr>\n",
       "      <th>3</th>\n",
       "      <td>00AL</td>\n",
       "      <td>small_airport</td>\n",
       "      <td>Epps Airpark</td>\n",
       "      <td>820.0</td>\n",
       "      <td>NaN</td>\n",
       "      <td>US</td>\n",
       "      <td>US-AL</td>\n",
       "      <td>Harvest</td>\n",
       "      <td>00AL</td>\n",
       "      <td>NaN</td>\n",
       "      <td>00AL</td>\n",
       "      <td>-86.77030181884766, 34.86479949951172</td>\n",
       "    </tr>\n",
       "    <tr>\n",
       "      <th>4</th>\n",
       "      <td>00AR</td>\n",
       "      <td>closed</td>\n",
       "      <td>Newport Hospital &amp; Clinic Heliport</td>\n",
       "      <td>237.0</td>\n",
       "      <td>NaN</td>\n",
       "      <td>US</td>\n",
       "      <td>US-AR</td>\n",
       "      <td>Newport</td>\n",
       "      <td>NaN</td>\n",
       "      <td>NaN</td>\n",
       "      <td>NaN</td>\n",
       "      <td>-91.254898, 35.6087</td>\n",
       "    </tr>\n",
       "  </tbody>\n",
       "</table>\n",
       "</div>"
      ],
      "text/plain": [
       "  ident           type                                name  elevation_ft  \\\n",
       "0   00A       heliport                   Total Rf Heliport          11.0   \n",
       "1  00AA  small_airport                Aero B Ranch Airport        3435.0   \n",
       "2  00AK  small_airport                        Lowell Field         450.0   \n",
       "3  00AL  small_airport                        Epps Airpark         820.0   \n",
       "4  00AR         closed  Newport Hospital & Clinic Heliport         237.0   \n",
       "\n",
       "  continent iso_country iso_region  municipality gps_code iata_code  \\\n",
       "0       NaN          US      US-PA      Bensalem      00A       NaN   \n",
       "1       NaN          US      US-KS         Leoti     00AA       NaN   \n",
       "2       NaN          US      US-AK  Anchor Point     00AK       NaN   \n",
       "3       NaN          US      US-AL       Harvest     00AL       NaN   \n",
       "4       NaN          US      US-AR       Newport      NaN       NaN   \n",
       "\n",
       "  local_code                            coordinates  \n",
       "0        00A     -74.93360137939453, 40.07080078125  \n",
       "1       00AA                 -101.473911, 38.704022  \n",
       "2       00AK            -151.695999146, 59.94919968  \n",
       "3       00AL  -86.77030181884766, 34.86479949951172  \n",
       "4        NaN                    -91.254898, 35.6087  "
      ]
     },
     "execution_count": 14,
     "metadata": {},
     "output_type": "execute_result"
    }
   ],
   "source": [
    "# Read in the data here\n",
    "pd_airport = pd.read_csv(airport_file,header=0)\n",
    "pd_airport.head()\n"
   ]
  },
  {
   "cell_type": "code",
   "execution_count": 31,
   "metadata": {
    "editable": true
   },
   "outputs": [
    {
     "name": "stdout",
     "output_type": "stream",
     "text": [
      "+----+-------------+--------------------+------------+---------+-----------+----------+------------+--------+---------+----------+--------------------+\n",
      "|  id|         type|                name|elevation_ft|continent|iso_country|iso_region|municipality|gps_code|iata_code|local_code|         coordinates|\n",
      "+----+-------------+--------------------+------------+---------+-----------+----------+------------+--------+---------+----------+--------------------+\n",
      "| 00A|     heliport|   Total Rf Heliport|          11|       NA|         US|     US-PA|    Bensalem|     00A|     null|       00A|-74.9336013793945...|\n",
      "|00AA|small_airport|Aero B Ranch Airport|        3435|       NA|         US|     US-KS|       Leoti|    00AA|     null|      00AA|-101.473911, 38.7...|\n",
      "|00AK|small_airport|        Lowell Field|         450|       NA|         US|     US-AK|Anchor Point|    00AK|     null|      00AK|-151.695999146, 5...|\n",
      "|00AL|small_airport|        Epps Airpark|         820|       NA|         US|     US-AL|     Harvest|    00AL|     null|      00AL|-86.7703018188476...|\n",
      "|00AR|       closed|Newport Hospital ...|         237|       NA|         US|     US-AR|     Newport|    null|     null|      null| -91.254898, 35.6087|\n",
      "+----+-------------+--------------------+------------+---------+-----------+----------+------------+--------+---------+----------+--------------------+\n",
      "only showing top 5 rows\n",
      "\n"
     ]
    },
    {
     "data": {
      "text/plain": [
       "55075"
      ]
     },
     "execution_count": 31,
     "metadata": {},
     "output_type": "execute_result"
    }
   ],
   "source": [
    "coordinates = StructType([\n",
    "    StructField('x', StringType(), False),\n",
    "    StructField('y', StringType(), True),\n",
    "])\n",
    "schema = StructType([\n",
    "    StructField('id', StringType(), False),\n",
    "    StructField('type', StringType(), True),\n",
    "    StructField('name', StringType(), True),\n",
    "    StructField('elevation_ft', IntegerType(), True),\n",
    "    StructField('continent', StringType(), True),\n",
    "    StructField('iso_country', StringType(), True),\n",
    "    StructField('iso_region', StringType(), True),\n",
    "    StructField('municipality', StringType(), True),\n",
    "    StructField('gps_code',StringType(), True),\n",
    "    StructField('iata_code', StringType(), True),\n",
    "    StructField('local_code', StringType(), True),\n",
    "    StructField('coordinates', StringType() , True),\n",
    "])\n",
    "df_airport_raw=spark.read.csv(airport_file, header=True, schema=schema)\n",
    "df_airport_raw.show(5)\n",
    "df_airport_raw.count()"
   ]
  },
  {
   "cell_type": "code",
   "execution_count": 32,
   "metadata": {
    "editable": true
   },
   "outputs": [
    {
     "name": "stdout",
     "output_type": "stream",
     "text": [
      "+----------------+-------------+----------+------+------+------+--------+------------+-----------------+----------+--------------------+-----+\n",
      "|            city|        state|median_age|  male|female| total|veterans|foreign_born|average_household|state_code|                race|count|\n",
      "+----------------+-------------+----------+------+------+------+--------+------------+-----------------+----------+--------------------+-----+\n",
      "|   Silver Spring|     Maryland|      33.8| 40601| 41862| 82463|    1562|       30908|             2.60|        MD|  Hispanic or Latino|25924|\n",
      "|          Quincy|Massachusetts|      41.0| 44129| 49500| 93629|    4147|       32935|             2.39|        MA|               White|58723|\n",
      "|          Hoover|      Alabama|      38.5| 38040| 46799| 84839|    4819|        8229|             2.58|        AL|               Asian| 4759|\n",
      "|Rancho Cucamonga|   California|      34.5| 88127| 87105|175232|    5821|       33878|             3.18|        CA|Black or African-...|24437|\n",
      "|          Newark|   New Jersey|      34.6|138040|143873|281913|    5829|       86253|             2.73|        NJ|               White|76402|\n",
      "+----------------+-------------+----------+------+------+------+--------+------------+-----------------+----------+--------------------+-----+\n",
      "only showing top 5 rows\n",
      "\n"
     ]
    },
    {
     "data": {
      "text/plain": [
       "2891"
      ]
     },
     "execution_count": 32,
     "metadata": {},
     "output_type": "execute_result"
    }
   ],
   "source": [
    "schema = StructType([\n",
    "    StructField('city', StringType(), False),\n",
    "    StructField('state', StringType(), True),\n",
    "    StructField('median_age', DecimalType(4,1), True),\n",
    "    StructField('male', IntegerType(), True),\n",
    "    StructField('female', IntegerType(), True),\n",
    "    StructField('total', IntegerType(), True),\n",
    "    StructField('veterans', IntegerType(), True),\n",
    "    StructField('foreign_born', IntegerType(), True),\n",
    "    StructField('average_household',DecimalType(4,2), True),\n",
    "    StructField('state_code', StringType(), True),\n",
    "    StructField('race', StringType(), True),\n",
    "    StructField('count', IntegerType(), True),\n",
    "])\n",
    "#df_city=spark.read.option(\"header\", True).option(\"delimiter\", \";\").csv(city_fiele)\n",
    "df_city_raw=spark.read.csv(city_fiele,header=True,schema=schema,sep=\";\")\n",
    "df_city_raw.show(5)\n",
    "df_city_raw.count()"
   ]
  },
  {
   "cell_type": "code",
   "execution_count": 21,
   "metadata": {
    "editable": true
   },
   "outputs": [],
   "source": []
  },
  {
   "cell_type": "code",
   "execution_count": 33,
   "metadata": {
    "editable": true
   },
   "outputs": [
    {
     "name": "stdout",
     "output_type": "stream",
     "text": [
      "+----------+-----------+------------------+-----+-------+--------+---------+\n",
      "|      date|temperature|       uncertainty| city|country|latitude|longitude|\n",
      "+----------+-----------+------------------+-----+-------+--------+---------+\n",
      "|1743-11-01|      6.068|1.7369999999999999|Århus|Denmark|  57.05N|   10.33E|\n",
      "|1743-12-01|       null|              null|Århus|Denmark|  57.05N|   10.33E|\n",
      "|1744-01-01|       null|              null|Århus|Denmark|  57.05N|   10.33E|\n",
      "|1744-02-01|       null|              null|Århus|Denmark|  57.05N|   10.33E|\n",
      "|1744-03-01|       null|              null|Århus|Denmark|  57.05N|   10.33E|\n",
      "+----------+-----------+------------------+-----+-------+--------+---------+\n",
      "only showing top 5 rows\n",
      "\n"
     ]
    },
    {
     "data": {
      "text/plain": [
       "8599212"
      ]
     },
     "execution_count": 33,
     "metadata": {},
     "output_type": "execute_result"
    }
   ],
   "source": [
    "schema = StructType([\n",
    "    StructField('date', DateType(), True),\n",
    "    StructField('temperature', DoubleType(), True),\n",
    "    StructField('uncertainty', DoubleType(), True),\n",
    "    StructField('city', StringType(), True),\n",
    "    StructField('country', StringType(), True),\n",
    "    StructField('latitude', StringType(), True),\n",
    "    StructField('longitude', StringType(), True),\n",
    "    \n",
    "])\n",
    "df_temperature_raw=spark.read.option(\"header\", True).csv(temperature_file,schema=schema)\n",
    "df_temperature_raw.show(5)\n",
    "df_temperature_raw.count()\n"
   ]
  },
  {
   "cell_type": "code",
   "execution_count": 19,
   "metadata": {
    "editable": true
   },
   "outputs": [],
   "source": [
    "#write to parquet\n",
    "#df_spark =spark.read.format('com.github.saurfang.sas.spark').load('../../data/18-83510-I94-Data-2016/i94_apr16_sub.sas7bdat')\n",
    "#df_spark.write.parquet(\"output/sas_data\")"
   ]
  },
  {
   "cell_type": "code",
   "execution_count": 34,
   "metadata": {
    "editable": true
   },
   "outputs": [
    {
     "name": "stdout",
     "output_type": "stream",
     "text": [
      "root\n",
      " |-- cicid: double (nullable = true)\n",
      " |-- i94yr: double (nullable = true)\n",
      " |-- i94mon: double (nullable = true)\n",
      " |-- i94cit: double (nullable = true)\n",
      " |-- i94res: double (nullable = true)\n",
      " |-- i94port: string (nullable = true)\n",
      " |-- arrdate: double (nullable = true)\n",
      " |-- i94mode: double (nullable = true)\n",
      " |-- i94addr: string (nullable = true)\n",
      " |-- depdate: double (nullable = true)\n",
      " |-- i94bir: double (nullable = true)\n",
      " |-- i94visa: double (nullable = true)\n",
      " |-- count: double (nullable = true)\n",
      " |-- dtadfile: string (nullable = true)\n",
      " |-- visapost: string (nullable = true)\n",
      " |-- occup: string (nullable = true)\n",
      " |-- entdepa: string (nullable = true)\n",
      " |-- entdepd: string (nullable = true)\n",
      " |-- entdepu: string (nullable = true)\n",
      " |-- matflag: string (nullable = true)\n",
      " |-- biryear: double (nullable = true)\n",
      " |-- dtaddto: string (nullable = true)\n",
      " |-- gender: string (nullable = true)\n",
      " |-- insnum: string (nullable = true)\n",
      " |-- airline: string (nullable = true)\n",
      " |-- admnum: double (nullable = true)\n",
      " |-- fltno: string (nullable = true)\n",
      " |-- visatype: string (nullable = true)\n",
      "\n",
      "+---------+------+------+------+------+-------+-------+-------+-------+-------+------+-------+-----+--------+--------+-----+-------+-------+-------+-------+-------+--------+------+------+-------+--------------+-----+--------+\n",
      "|    cicid| i94yr|i94mon|i94cit|i94res|i94port|arrdate|i94mode|i94addr|depdate|i94bir|i94visa|count|dtadfile|visapost|occup|entdepa|entdepd|entdepu|matflag|biryear| dtaddto|gender|insnum|airline|        admnum|fltno|visatype|\n",
      "+---------+------+------+------+------+-------+-------+-------+-------+-------+------+-------+-----+--------+--------+-----+-------+-------+-------+-------+-------+--------+------+------+-------+--------------+-----+--------+\n",
      "|5748517.0|2016.0|   4.0| 245.0| 438.0|    LOS|20574.0|    1.0|     CA|20582.0|  40.0|    1.0|  1.0|20160430|     SYD| null|      G|      O|   null|      M| 1976.0|10292016|     F|  null|     QF|9.495387003E10|00011|      B1|\n",
      "|5748518.0|2016.0|   4.0| 245.0| 438.0|    LOS|20574.0|    1.0|     NV|20591.0|  32.0|    1.0|  1.0|20160430|     SYD| null|      G|      O|   null|      M| 1984.0|10292016|     F|  null|     VA|9.495562283E10|00007|      B1|\n",
      "|5748519.0|2016.0|   4.0| 245.0| 438.0|    LOS|20574.0|    1.0|     WA|20582.0|  29.0|    1.0|  1.0|20160430|     SYD| null|      G|      O|   null|      M| 1987.0|10292016|     M|  null|     DL|9.495640653E10|00040|      B1|\n",
      "|5748520.0|2016.0|   4.0| 245.0| 438.0|    LOS|20574.0|    1.0|     WA|20588.0|  29.0|    1.0|  1.0|20160430|     SYD| null|      G|      O|   null|      M| 1987.0|10292016|     F|  null|     DL|9.495645143E10|00040|      B1|\n",
      "|5748521.0|2016.0|   4.0| 245.0| 438.0|    LOS|20574.0|    1.0|     WA|20588.0|  28.0|    1.0|  1.0|20160430|     SYD| null|      G|      O|   null|      M| 1988.0|10292016|     M|  null|     DL|9.495638813E10|00040|      B1|\n",
      "+---------+------+------+------+------+-------+-------+-------+-------+-------+------+-------+-----+--------+--------+-----+-------+-------+-------+-------+-------+--------+------+------+-------+--------------+-----+--------+\n",
      "only showing top 5 rows\n",
      "\n"
     ]
    },
    {
     "data": {
      "text/plain": [
       "3096313"
      ]
     },
     "execution_count": 34,
     "metadata": {},
     "output_type": "execute_result"
    }
   ],
   "source": [
    "schema = StructType([\n",
    "    StructField('cicid', DoubleType(), False),\n",
    "    StructField('i94yr', DoubleType(), True),\n",
    "    StructField('i94mon', DoubleType(), True),\n",
    "    StructField('i94cit', DoubleType(), True),\n",
    "    StructField('i94res', DoubleType(), True),\n",
    "    StructField('i94port', StringType(), True),\n",
    "    StructField('arrdate', DoubleType(), True),\n",
    "    StructField('i94mode', DoubleType(), True),\n",
    "    StructField('i94addr', StringType(), True),\n",
    "    StructField('depdate', DoubleType(), True),\n",
    "    StructField('i94bir', DoubleType(), True),\n",
    "    StructField('i94visa', DoubleType(), True),\n",
    "    StructField('count', DoubleType(), True),\n",
    "    StructField('dtadfile', StringType(), True),\n",
    "    StructField('visapost', StringType(), True),\n",
    "    StructField('occup', StringType(), True),\n",
    "    StructField('entdepa', StringType(), True),\n",
    "    StructField('entdepd', StringType(), True),\n",
    "    StructField('entdepu', StringType(), True),\n",
    "    StructField('matflag', StringType(), True),\n",
    "    StructField('biryear', DoubleType(), True),\n",
    "    StructField('dtaddto', StringType(), True),\n",
    "    StructField('gender', StringType(), True),\n",
    "    StructField('insnum', StringType(), True),\n",
    "    StructField('airline', StringType(), True),\n",
    "    StructField('admnum', DoubleType(), True),\n",
    "    StructField('fltno', StringType(), True),\n",
    "    StructField('visatype', StringType(), True),\n",
    "])\n",
    "df_immigration_raw=spark.read.schema(schema).parquet(\"../output/sas_data\")\n",
    "#df_spark=spark.read.parquet(\"../output/sas_data\")\n",
    "df_immigration_raw.printSchema()\n",
    "df_immigration_raw.show(5)\n",
    "df_immigration_raw.count()\n"
   ]
  },
  {
   "cell_type": "code",
   "execution_count": 35,
   "metadata": {
    "editable": true
   },
   "outputs": [
    {
     "name": "stdout",
     "output_type": "stream",
     "text": [
      "+---+----------+\n",
      "| id|     state|\n",
      "+---+----------+\n",
      "| AL|   ALABAMA|\n",
      "| AK|    ALASKA|\n",
      "| AZ|   ARIZONA|\n",
      "| AR|  ARKANSAS|\n",
      "| CA|CALIFORNIA|\n",
      "+---+----------+\n",
      "only showing top 5 rows\n",
      "\n"
     ]
    },
    {
     "data": {
      "text/plain": [
       "55"
      ]
     },
     "execution_count": 35,
     "metadata": {},
     "output_type": "execute_result"
    }
   ],
   "source": [
    "schema = StructType([\n",
    "    StructField('id', StringType(), True),\n",
    "    StructField('state', StringType(), True),\n",
    "])\n",
    "df_i94addr=spark.read.csv(i94addrl_file,schema=schema,sep=\";\")\n",
    "df_i94addr.show(5)\n",
    "df_i94addr.count()"
   ]
  },
  {
   "cell_type": "code",
   "execution_count": 132,
   "metadata": {
    "editable": true
   },
   "outputs": [
    {
     "name": "stdout",
     "output_type": "stream",
     "text": [
      "+---+--------------------+\n",
      "| id|             country|\n",
      "+---+--------------------+\n",
      "|582|MEXICO Air Sea, a...|\n",
      "|236|         AFGHANISTAN|\n",
      "|101|             ALBANIA|\n",
      "|316|             ALGERIA|\n",
      "|102|             ANDORRA|\n",
      "+---+--------------------+\n",
      "only showing top 5 rows\n",
      "\n"
     ]
    },
    {
     "data": {
      "text/plain": [
       "289"
      ]
     },
     "execution_count": 132,
     "metadata": {},
     "output_type": "execute_result"
    }
   ],
   "source": [
    "schema = StructType([\n",
    "    StructField('id', IntegerType(), True),\n",
    "    StructField('country', StringType(), True),\n",
    "])\n",
    "df_i94cntyl=spark.read.csv(i94cntyl_file,schema=schema,sep=\";\")\n",
    "df_i94cntyl.show(5)\n",
    "df_i94cntyl.count()"
   ]
  },
  {
   "cell_type": "code",
   "execution_count": 37,
   "metadata": {
    "editable": true
   },
   "outputs": [
    {
     "name": "stdout",
     "output_type": "stream",
     "text": [
      "+---+------------+\n",
      "| id|       model|\n",
      "+---+------------+\n",
      "|  1|         Air|\n",
      "|  2|         Sea|\n",
      "|  3|        Land|\n",
      "|  9|Not reported|\n",
      "+---+------------+\n",
      "\n"
     ]
    },
    {
     "data": {
      "text/plain": [
       "4"
      ]
     },
     "execution_count": 37,
     "metadata": {},
     "output_type": "execute_result"
    }
   ],
   "source": [
    "schema = StructType([\n",
    "    StructField('id', IntegerType(), True),\n",
    "    StructField('model', StringType(), True),\n",
    "])\n",
    "df_i94model=spark.read.csv(i94model_file,schema=schema,sep=\";\")\n",
    "df_i94model.show(5)\n",
    "df_i94model.count()"
   ]
  },
  {
   "cell_type": "code",
   "execution_count": 38,
   "metadata": {
    "editable": true
   },
   "outputs": [
    {
     "name": "stdout",
     "output_type": "stream",
     "text": [
      "+---+--------+\n",
      "| id|    visa|\n",
      "+---+--------+\n",
      "|  1|Business|\n",
      "|  2|Pleasure|\n",
      "|  3| Student|\n",
      "+---+--------+\n",
      "\n"
     ]
    },
    {
     "data": {
      "text/plain": [
       "3"
      ]
     },
     "execution_count": 38,
     "metadata": {},
     "output_type": "execute_result"
    }
   ],
   "source": [
    "schema = StructType([\n",
    "    StructField('id', IntegerType(), True),\n",
    "    StructField('visa', StringType(), True),\n",
    "])\n",
    "df_i94visa=spark.read.csv(i94visa_file,schema=schema)\n",
    "df_i94visa.show(5)\n",
    "df_i94visa.count()"
   ]
  },
  {
   "cell_type": "code",
   "execution_count": 39,
   "metadata": {
    "editable": true
   },
   "outputs": [
    {
     "name": "stdout",
     "output_type": "stream",
     "text": [
      "+---+--------------------+\n",
      "| id|                port|\n",
      "+---+--------------------+\n",
      "|ALC|           ALCAN, AK|\n",
      "|ANC|       ANCHORAGE, AK|\n",
      "|BAR|BAKER AAF - BAKER...|\n",
      "|DAC|   DALTONS CACHE, AK|\n",
      "|PIZ|DEW STATION PT LA...|\n",
      "+---+--------------------+\n",
      "only showing top 5 rows\n",
      "\n"
     ]
    },
    {
     "data": {
      "text/plain": [
       "659"
      ]
     },
     "execution_count": 39,
     "metadata": {},
     "output_type": "execute_result"
    }
   ],
   "source": [
    "schema = StructType([\n",
    "    StructField('id', StringType(), True),\n",
    "    StructField('port', StringType(), True),\n",
    "])\n",
    "df_i94port_raw=spark.read.csv(i94prtl_file,schema=schema,sep=\";\")\n",
    "df_i94port_raw.show(5)\n",
    "df_i94port_raw.count()"
   ]
  },
  {
   "cell_type": "markdown",
   "metadata": {
    "editable": true
   },
   "source": [
    "### Step 2: Explore and Assess the Data\n",
    "#### Explore the Data \n",
    "\n",
    "[explore_data.ipynb](explore_data.ipynb)\n",
    "\n",
    "* many field in immigration data shoule be int instead of double\n",
    "\n",
    "\n",
    "* many redundancy data\n",
    "\n",
    "  * keep only US related data\n",
    "  \n",
    "  * keep only data in 2016\n",
    "\n",
    "\n",
    "* multiple data in one colomn\n",
    "\n",
    "  * split latitude & longitude in temperature data\n",
    "  \n",
    "  * split state & city in i94port table\n",
    "  \n",
    "  \n",
    "#### Cleaning Steps\n",
    "\n"
   ]
  },
  {
   "cell_type": "code",
   "execution_count": 110,
   "metadata": {
    "editable": true
   },
   "outputs": [
    {
     "name": "stdout",
     "output_type": "stream",
     "text": [
      "+-------+-----+------+------+------+-------+-------+-------+-------+-------+-------+-----+----------+--------+-----+-------+-------+-------+-------+-------+----------+------+------+-------+----------+-----+--------+\n",
      "|  cicid|i94yr|i94mon|i94cit|i94res|i94port|arrdate|i94mode|i94addr|depdate|i94visa|count|  dtadfile|visapost|occup|entdepa|entdepd|entdepu|matflag|biryear|   dtaddto|gender|insnum|airline|    admnum|fltno|visatype|\n",
      "+-------+-----+------+------+------+-------+-------+-------+-------+-------+-------+-----+----------+--------+-----+-------+-------+-------+-------+-------+----------+------+------+-------+----------+-----+--------+\n",
      "|5748517| 2016|     4|   245|   438|    LOS|  20574|      1|     CA|  20582|      1|    1|2016-04-30|     SYD| null|      G|      O|   null|      M|   1976|2016-10-29|     F|  null|     QF|2147483647|00011|      B1|\n",
      "|5748518| 2016|     4|   245|   438|    LOS|  20574|      1|     NV|  20591|      1|    1|2016-04-30|     SYD| null|      G|      O|   null|      M|   1984|2016-10-29|     F|  null|     VA|2147483647|00007|      B1|\n",
      "|5748519| 2016|     4|   245|   438|    LOS|  20574|      1|     WA|  20582|      1|    1|2016-04-30|     SYD| null|      G|      O|   null|      M|   1987|2016-10-29|     M|  null|     DL|2147483647|00040|      B1|\n",
      "|5748520| 2016|     4|   245|   438|    LOS|  20574|      1|     WA|  20588|      1|    1|2016-04-30|     SYD| null|      G|      O|   null|      M|   1987|2016-10-29|     F|  null|     DL|2147483647|00040|      B1|\n",
      "|5748521| 2016|     4|   245|   438|    LOS|  20574|      1|     WA|  20588|      1|    1|2016-04-30|     SYD| null|      G|      O|   null|      M|   1988|2016-10-29|     M|  null|     DL|2147483647|00040|      B1|\n",
      "+-------+-----+------+------+------+-------+-------+-------+-------+-------+-------+-----+----------+--------+-----+-------+-------+-------+-------+-------+----------+------+------+-------+----------+-----+--------+\n",
      "only showing top 5 rows\n",
      "\n",
      "root\n",
      " |-- cicid: integer (nullable = true)\n",
      " |-- i94yr: integer (nullable = true)\n",
      " |-- i94mon: integer (nullable = true)\n",
      " |-- i94cit: integer (nullable = true)\n",
      " |-- i94res: integer (nullable = true)\n",
      " |-- i94port: string (nullable = true)\n",
      " |-- arrdate: integer (nullable = true)\n",
      " |-- i94mode: integer (nullable = true)\n",
      " |-- i94addr: string (nullable = true)\n",
      " |-- depdate: integer (nullable = true)\n",
      " |-- i94visa: integer (nullable = true)\n",
      " |-- count: integer (nullable = true)\n",
      " |-- dtadfile: date (nullable = true)\n",
      " |-- visapost: string (nullable = true)\n",
      " |-- occup: string (nullable = true)\n",
      " |-- entdepa: string (nullable = true)\n",
      " |-- entdepd: string (nullable = true)\n",
      " |-- entdepu: string (nullable = true)\n",
      " |-- matflag: string (nullable = true)\n",
      " |-- biryear: integer (nullable = true)\n",
      " |-- dtaddto: date (nullable = true)\n",
      " |-- gender: string (nullable = true)\n",
      " |-- insnum: string (nullable = true)\n",
      " |-- airline: string (nullable = true)\n",
      " |-- admnum: integer (nullable = true)\n",
      " |-- fltno: string (nullable = true)\n",
      " |-- visatype: string (nullable = true)\n",
      "\n"
     ]
    }
   ],
   "source": [
    "df = df_immigration_raw\n",
    "df = df.filter(col(\"i94mode\")==1).select(\n",
    "    col(\"cicid\").cast(IntegerType()),\n",
    "    col(\"i94yr\").cast(IntegerType()),\n",
    "    col(\"i94mon\").cast(IntegerType()),\n",
    "    col(\"i94cit\").cast(IntegerType()),\n",
    "    col(\"i94res\").cast(IntegerType()),\n",
    "    col(\"i94port\").cast(StringType()),\n",
    "    col(\"arrdate\").cast(IntegerType()),\n",
    "    col(\"i94mode\").cast(IntegerType()),\n",
    "    col(\"i94addr\").cast(StringType()),\n",
    "    col(\"depdate\").cast(IntegerType()),\n",
    "    col(\"i94visa\").cast(IntegerType()),\n",
    "    col(\"count\").cast(IntegerType()),\n",
    "    to_date(col(\"dtadfile\").cast(StringType()),\"yyyyMMdd\").alias(\"dtadfile\"),\n",
    "    col(\"visapost\").cast(StringType()),\n",
    "    col(\"occup\").cast(StringType()),\n",
    "    col(\"entdepa\").cast(StringType()),\n",
    "    col(\"entdepd\").cast(StringType()),\n",
    "    col(\"entdepu\").cast(StringType()),\n",
    "    col(\"matflag\").cast(StringType()),\n",
    "    col(\"biryear\").cast(IntegerType()),\n",
    "    to_date(col(\"dtaddto\").cast(StringType()),\"MMddyyyy\").alias(\"dtaddto\"),\n",
    "    col(\"gender\").cast(StringType()),\n",
    "    col(\"insnum\").cast(StringType()),\n",
    "    col(\"airline\").cast(StringType()),\n",
    "    col(\"admnum\").cast(IntegerType()),\n",
    "    col(\"fltno\").cast(StringType()),\n",
    "    col(\"visatype\").cast(StringType()),\n",
    ")\n",
    "df_immigration = df\n",
    "df_immigration.show(5)\n",
    "df_immigration.printSchema()"
   ]
  },
  {
   "cell_type": "code",
   "execution_count": 61,
   "metadata": {
    "editable": true
   },
   "outputs": [
    {
     "name": "stdout",
     "output_type": "stream",
     "text": [
      "+----+-------------+--------------------+------------+----------+------------+--------+---------+----------+------------------+-----------------+\n",
      "|  id|         type|                name|elevation_ft|state_code|municipality|gps_code|iata_code|local_code|         longitude|         latitude|\n",
      "+----+-------------+--------------------+------------+----------+------------+--------+---------+----------+------------------+-----------------+\n",
      "| 00A|     heliport|   TOTAL RF HELIPORT|          11|        PA|    Bensalem|     00A|     null|       00A|-74.93360137939453|   40.07080078125|\n",
      "|00AA|small_airport|AERO B RANCH AIRPORT|        3435|        KS|       Leoti|    00AA|     null|      00AA|       -101.473911|        38.704022|\n",
      "|00AK|small_airport|        LOWELL FIELD|         450|        AK|Anchor Point|    00AK|     null|      00AK|    -151.695999146|      59.94919968|\n",
      "|00AL|small_airport|        EPPS AIRPARK|         820|        AL|     Harvest|    00AL|     null|      00AL|-86.77030181884766|34.86479949951172|\n",
      "|00AR|       closed|NEWPORT HOSPITAL ...|         237|        AR|     Newport|    null|     null|      null|        -91.254898|          35.6087|\n",
      "+----+-------------+--------------------+------------+----------+------------+--------+---------+----------+------------------+-----------------+\n",
      "only showing top 5 rows\n",
      "\n",
      "root\n",
      " |-- id: string (nullable = true)\n",
      " |-- type: string (nullable = true)\n",
      " |-- name: string (nullable = true)\n",
      " |-- elevation_ft: integer (nullable = true)\n",
      " |-- state_code: string (nullable = true)\n",
      " |-- municipality: string (nullable = true)\n",
      " |-- gps_code: string (nullable = true)\n",
      " |-- iata_code: string (nullable = true)\n",
      " |-- local_code: string (nullable = true)\n",
      " |-- longitude: double (nullable = true)\n",
      " |-- latitude: double (nullable = true)\n",
      "\n"
     ]
    }
   ],
   "source": [
    "# clean airport\n",
    "\n",
    "def get_longitude(x):\n",
    "    i=x.find(\",\")\n",
    "    return float(x[:i])\n",
    "def get_latitude(x):\n",
    "    i=x.find(\",\")\n",
    "    return float(x[i+2:])\n",
    "\n",
    "get_longitude_udf = udf(lambda x: get_longitude(x), DoubleType())\n",
    "get_latitude_udf = udf(lambda x: get_latitude(x), DoubleType())\n",
    "get_state_udf = udf(lambda x: x[3:], StringType())\n",
    "df = df_airport_raw.filter(col(\"iso_country\")==\"US\")\n",
    "df = df.withColumn('longitude', get_longitude_udf('coordinates'))\n",
    "df = df.withColumn('latitude', get_latitude_udf('coordinates'))\n",
    "df = df.withColumn('state', get_state_udf('iso_region'))\n",
    "df = df.withColumn('name', upper(col('name')))\n",
    "df_airport = df.select([\"id\",\"type\",\"name\",\"elevation_ft\",col(\"state\").alias(\"state_code\"),\"municipality\",\"gps_code\",\"iata_code\",\"local_code\",\"longitude\",\"latitude\"])\n",
    "\n",
    "df_airport.show(5)\n",
    "df_airport.printSchema()"
   ]
  },
  {
   "cell_type": "code",
   "execution_count": 90,
   "metadata": {
    "editable": true
   },
   "outputs": [
    {
     "name": "stdout",
     "output_type": "stream",
     "text": [
      "+----------+------------+----------+----------+----------+------+------+------+--------+------------+-----------------+\n",
      "|   city_id|        city|state_code|     state|median_age|  male|female| total|veterans|foreign_born|average_household|\n",
      "+----------+------------+----------+----------+----------+------+------+------+--------+------------+-----------------+\n",
      "|         0|Delray Beach|        FL|   Florida|      47.9| 32219| 34042| 66261|    4232|       16639|             2.35|\n",
      "|         1| Jersey City|        NJ|New Jersey|      34.3|131765|132512|264277|    4374|      109186|             2.57|\n",
      "|         2|   Rockville|        MD|  Maryland|      38.1| 31205| 35793| 66998|    1990|       25047|             2.60|\n",
      "|8589934592|    Alhambra|        CA|California|      41.0| 42184| 43388| 85572|    1673|       44441|             2.89|\n",
      "|8589934593|  Cincinnati|        OH|      Ohio|      32.7|143654|154883|298537|   13699|       16896|             2.08|\n",
      "+----------+------------+----------+----------+----------+------+------+------+--------+------------+-----------------+\n",
      "only showing top 5 rows\n",
      "\n",
      "root\n",
      " |-- city_id: long (nullable = false)\n",
      " |-- city: string (nullable = true)\n",
      " |-- state_code: string (nullable = true)\n",
      " |-- state: string (nullable = true)\n",
      " |-- median_age: decimal(4,1) (nullable = true)\n",
      " |-- male: integer (nullable = true)\n",
      " |-- female: integer (nullable = true)\n",
      " |-- total: integer (nullable = true)\n",
      " |-- veterans: integer (nullable = true)\n",
      " |-- foreign_born: integer (nullable = true)\n",
      " |-- average_household: decimal(4,2) (nullable = true)\n",
      "\n"
     ]
    },
    {
     "data": {
      "text/plain": [
       "596"
      ]
     },
     "execution_count": 90,
     "metadata": {},
     "output_type": "execute_result"
    }
   ],
   "source": [
    "# df = df_city_raw.filter(col(\"city\")==\"Silver Spring\")\n",
    "df = df_city_raw.dropDuplicates([\"city\",\"state\",\"state_code\"])\n",
    "df = df.select([monotonically_increasing_id().alias(\"city_id\"),\"city\",\"state_code\",\"state\",\"median_age\",\"male\",\"female\",\"total\",\"veterans\",\"foreign_born\",\"average_household\"])\n",
    "df_city = df\n",
    "df_city.show(5)\n",
    "df_city.printSchema()\n",
    "df_city.count()"
   ]
  },
  {
   "cell_type": "code",
   "execution_count": null,
   "metadata": {
    "editable": true
   },
   "outputs": [],
   "source": [
    "def get_longitude(x):\n",
    "    if x is None:\n",
    "        return None\n",
    "    l=float(x[0:-1])\n",
    "    if x[-1]==\"W\":\n",
    "        l=-l\n",
    "    return l\n",
    "def get_latitude(x):\n",
    "    return float(x[0:-1])\n",
    "\n",
    "get_longitude_udf = udf(lambda x: get_longitude(x),DoubleType())\n",
    "get_latitude_udf = udf(lambda x: get_latitude(x),DoubleType())\n",
    "df=df_temperature_raw\n",
    "df=df.filter(\n",
    "    (col(\"date\")>=datetime.datetime(2016, 1, 1, 0, 0)) &\n",
    "    (col(\"date\")<datetime.datetime(2017, 1, 1, 0, 0)) &\n",
    "    (col(\"country\")==\"United States\")\n",
    ")\n",
    "df=df.withColumn('longitude', get_longitude_udf('longitude').cast(DecimalType(5,2)))\n",
    "df=df.withColumn('latitude', get_latitude_udf('latitude').cast(DecimalType(5,2)))\n",
    "df_temperature = df\n",
    "#df=df.withColumn(\"year\",year(\"date\"))\n",
    "#df=df.groupBy(\"year\").count().orderBy(\"year\",ascending=False)\n",
    "df.show(20)\n",
    "df.printSchema()"
   ]
  },
  {
   "cell_type": "code",
   "execution_count": 43,
   "metadata": {
    "editable": true
   },
   "outputs": [
    {
     "name": "stdout",
     "output_type": "stream",
     "text": [
      "+---+----------+--------------------+\n",
      "| id|state_code|                name|\n",
      "+---+----------+--------------------+\n",
      "|ALC|        AK|               ALCAN|\n",
      "|ANC|        AK|           ANCHORAGE|\n",
      "|BAR|        AK|BAKER AAF - BAKER...|\n",
      "|DAC|        AK|       DALTONS CACHE|\n",
      "|PIZ|        AK|DEW STATION PT LA...|\n",
      "+---+----------+--------------------+\n",
      "only showing top 5 rows\n",
      "\n",
      "root\n",
      " |-- id: string (nullable = true)\n",
      " |-- state_code: string (nullable = true)\n",
      " |-- name: string (nullable = true)\n",
      "\n"
     ]
    }
   ],
   "source": [
    "def get_state_code(x):\n",
    "    i=x.rfind(\",\")\n",
    "    if i==-1:\n",
    "        return \"\"\n",
    "    return (x[i+1:]).strip()\n",
    "def get_name(x):\n",
    "    i=x.rfind(\",\")\n",
    "    if i==-1:\n",
    "        return x\n",
    "    return (x[:i]).strip()\n",
    "\n",
    "get_state_code_udf = udf(lambda x: get_state_code(x), StringType())\n",
    "get_name_udf = udf(lambda x: get_name(x), StringType())\n",
    "df = df_i94port_raw\n",
    "df = df.withColumn('state_code', get_state_code_udf('port'))\n",
    "df = df.withColumn('name', get_name_udf('port'))\n",
    "df_i94port = df.select([\"id\",\"state_code\",\"name\"])\n",
    "\n",
    "df_i94port.show(5)\n",
    "df_i94port.printSchema()"
   ]
  },
  {
   "cell_type": "code",
   "execution_count": null,
   "metadata": {
    "editable": true
   },
   "outputs": [],
   "source": [
    "\n",
    "\n",
    "\n"
   ]
  },
  {
   "cell_type": "markdown",
   "metadata": {
    "editable": true
   },
   "source": [
    "### Step 3: Define the Data Model\n",
    "#### 3.1 Conceptual Data Model\n",
    "Map out the conceptual data model and explain why you chose that model\n",
    "\n",
    "#### 3.2 Mapping Out Data Pipelines\n",
    "List the steps necessary to pipeline the data into the chosen data model"
   ]
  },
  {
   "cell_type": "markdown",
   "metadata": {
    "editable": true
   },
   "source": [
    "### Step 4: Run Pipelines to Model the Data \n",
    "#### 4.1 Create the data model\n"
   ]
  },
  {
   "cell_type": "code",
   "execution_count": 96,
   "metadata": {
    "editable": true
   },
   "outputs": [
    {
     "name": "stdout",
     "output_type": "stream",
     "text": [
      "+----+-------------+--------------------+------------+----------+------------+-------------+--------+---------+----------+-------------------+------------------+\n",
      "|  id|         type|                name|elevation_ft|state_code|municipality|      city_id|gps_code|iata_code|local_code|          longitude|          latitude|\n",
      "+----+-------------+--------------------+------------+----------+------------+-------------+--------+---------+----------+-------------------+------------------+\n",
      "|00FD|     heliport|  RINGHAVER HELIPORT|          25|        FL|   Riverview| 687194767360|    00FD|     null|      00FD| -82.34539794921875|28.846599578857422|\n",
      "|00OI|     heliport|MIAMI VALLEY HOSP...|         905|        OH|      Dayton|1176821039104|    00OI|     null|      00OI|  -84.1874008178711| 39.74530029296875|\n",
      "|00OR|     heliport|STEEL SYSTEMS HEL...|         195|        OR|       Salem|1425929142274|    00OR|     null|      00OR|-123.12999725341797|44.932899475097656|\n",
      "|00SD|small_airport|         HOMAN FIELD|        1590|        SD|        Gary| 609885356035|    00SD|     null|      00SD|         -96.498897|         44.809158|\n",
      "|00TA|     heliport|SW REGION FAA HEL...|         598|        TX|  Fort Worth|1211180777472|    00TA|     null|      00TA| -97.30580139160156|32.826900482177734|\n",
      "+----+-------------+--------------------+------------+----------+------------+-------------+--------+---------+----------+-------------------+------------------+\n",
      "only showing top 5 rows\n",
      "\n",
      "root\n",
      " |-- id: string (nullable = true)\n",
      " |-- type: string (nullable = true)\n",
      " |-- name: string (nullable = true)\n",
      " |-- elevation_ft: integer (nullable = true)\n",
      " |-- state_code: string (nullable = true)\n",
      " |-- municipality: string (nullable = true)\n",
      " |-- city_id: long (nullable = false)\n",
      " |-- gps_code: string (nullable = true)\n",
      " |-- iata_code: string (nullable = true)\n",
      " |-- local_code: string (nullable = true)\n",
      " |-- longitude: double (nullable = true)\n",
      " |-- latitude: double (nullable = true)\n",
      "\n"
     ]
    }
   ],
   "source": [
    "# dim_airport\n",
    "# add city_id colomn to airport\n",
    "df=df_airport.join(df_city,df_airport.municipality==df_city.city).select(\n",
    "    \"id\",\n",
    "    \"type\",\n",
    "    df_airport.name,\n",
    "    \"elevation_ft\",\n",
    "    df_airport.state_code,\n",
    "    \"municipality\",\n",
    "    df_city.city_id,\n",
    "    \"gps_code\",\n",
    "    \"iata_code\",\n",
    "    \"local_code\",\n",
    "    \"longitude\",\n",
    "    \"latitude\"\n",
    ")\n",
    "dim_airport=df\n",
    "dim_airport.show(5)\n",
    "dim_airport.printSchema()\n",
    "\n",
    "dim_airport.write.mode('overwrite').parquet('output/airport/')"
   ]
  },
  {
   "cell_type": "code",
   "execution_count": 105,
   "metadata": {
    "editable": true
   },
   "outputs": [
    {
     "name": "stdout",
     "output_type": "stream",
     "text": [
      "+----------+------------+----------+----------+----------+------+------+------+--------+------------+-----------------+\n",
      "|   city_id|        city|state_code|     state|median_age|  male|female| total|veterans|foreign_born|average_household|\n",
      "+----------+------------+----------+----------+----------+------+------+------+--------+------------+-----------------+\n",
      "|         0|Delray Beach|        FL|   Florida|      47.9| 32219| 34042| 66261|    4232|       16639|             2.35|\n",
      "|         1| Jersey City|        NJ|New Jersey|      34.3|131765|132512|264277|    4374|      109186|             2.57|\n",
      "|         2|   Rockville|        MD|  Maryland|      38.1| 31205| 35793| 66998|    1990|       25047|             2.60|\n",
      "|8589934592|    Alhambra|        CA|California|      41.0| 42184| 43388| 85572|    1673|       44441|             2.89|\n",
      "|8589934593|  Cincinnati|        OH|      Ohio|      32.7|143654|154883|298537|   13699|       16896|             2.08|\n",
      "+----------+------------+----------+----------+----------+------+------+------+--------+------------+-----------------+\n",
      "only showing top 5 rows\n",
      "\n",
      "root\n",
      " |-- city_id: long (nullable = false)\n",
      " |-- city: string (nullable = true)\n",
      " |-- state_code: string (nullable = true)\n",
      " |-- state: string (nullable = true)\n",
      " |-- median_age: decimal(4,1) (nullable = true)\n",
      " |-- male: integer (nullable = true)\n",
      " |-- female: integer (nullable = true)\n",
      " |-- total: integer (nullable = true)\n",
      " |-- veterans: integer (nullable = true)\n",
      " |-- foreign_born: integer (nullable = true)\n",
      " |-- average_household: decimal(4,2) (nullable = true)\n",
      "\n"
     ]
    }
   ],
   "source": [
    "# dim_city\n",
    "\n",
    "dim_city=df_city\n",
    "dim_city.show(5)\n",
    "dim_city.printSchema()\n",
    "\n",
    "dim_city.write.mode('overwrite').parquet('output/city/')"
   ]
  },
  {
   "cell_type": "code",
   "execution_count": 104,
   "metadata": {
    "editable": true
   },
   "outputs": [
    {
     "name": "stdout",
     "output_type": "stream",
     "text": [
      "+----------+----+-----+---+\n",
      "|      date|year|month|day|\n",
      "+----------+----+-----+---+\n",
      "|2016-04-25|2016|    4| 25|\n",
      "|2016-05-03|2016|    5|  3|\n",
      "|2016-08-15|2016|    8| 15|\n",
      "|2016-08-31|2016|    8| 31|\n",
      "|2016-08-23|2016|    8| 23|\n",
      "+----------+----+-----+---+\n",
      "only showing top 5 rows\n",
      "\n",
      "root\n",
      " |-- date: date (nullable = true)\n",
      " |-- year: integer (nullable = true)\n",
      " |-- month: integer (nullable = true)\n",
      " |-- day: integer (nullable = true)\n",
      "\n"
     ]
    }
   ],
   "source": [
    "# dim_date\n",
    "dim_date= df_immigration.select(\"dtadfile\").distinct().select(\n",
    "    col(\"dtadfile\").alias(\"date\"),\n",
    "    year(col(\"dtadfile\")).alias(\"year\"),\n",
    "    month(col(\"dtadfile\")).alias(\"month\"),\n",
    "    dayofmonth(col(\"dtadfile\")).alias(\"day\"),\n",
    ")\n",
    "dim_date.show(5)\n",
    "dim_date.printSchema()\n",
    "dim_date.write.mode('overwrite').parquet('output/date/')"
   ]
  },
  {
   "cell_type": "code",
   "execution_count": 145,
   "metadata": {
    "editable": true
   },
   "outputs": [
    {
     "name": "stdout",
     "output_type": "stream",
     "text": [
      "+---+--------------------+\n",
      "| id|             country|\n",
      "+---+--------------------+\n",
      "|582|MEXICO Air Sea, a...|\n",
      "|236|         AFGHANISTAN|\n",
      "|101|             ALBANIA|\n",
      "|316|             ALGERIA|\n",
      "|102|             ANDORRA|\n",
      "+---+--------------------+\n",
      "only showing top 5 rows\n",
      "\n",
      "root\n",
      " |-- id: integer (nullable = true)\n",
      " |-- country: string (nullable = true)\n",
      "\n"
     ]
    }
   ],
   "source": [
    "dim_country=df_i94cntyl\n",
    "dim_country.show(5)\n",
    "dim_country.printSchema()\n",
    "dim_country.write.mode('overwrite').parquet('output/country/')"
   ]
  },
  {
   "cell_type": "code",
   "execution_count": 154,
   "metadata": {
    "editable": true
   },
   "outputs": [
    {
     "name": "stdout",
     "output_type": "stream",
     "text": [
      "+----+--------+--------------------+------------+----------+------------+-------------+--------+---------+----------+------------------+------------------+\n",
      "|  id|    type|                name|elevation_ft|state_code|municipality|      city_id|gps_code|iata_code|local_code|         longitude|          latitude|\n",
      "+----+--------+--------------------+------------+----------+------------+-------------+--------+---------+----------+------------------+------------------+\n",
      "|00FD|heliport|  RINGHAVER HELIPORT|          25|        FL|   Riverview| 687194767360|    00FD|     null|      00FD|-82.34539794921875|28.846599578857422|\n",
      "|00OI|heliport|MIAMI VALLEY HOSP...|         905|        OH|      Dayton|1176821039104|    00OI|     null|      00OI| -84.1874008178711| 39.74530029296875|\n",
      "+----+--------+--------------------+------------+----------+------------+-------------+--------+---------+----------+------------------+------------------+\n",
      "only showing top 2 rows\n",
      "\n",
      "+-------+-----+------+------+------+-------+-------+-------+-------+-------+--------+-----+----------+--------+-----+-------+-------+-------+-------+-------+----------+------+------+-------+----------+-----+--------+-------------+----------+\n",
      "|  cicid|i94yr|i94mon|i94cit|i94res|i94port|arrdate|i94mode|i94addr|depdate| i94visa|count|  dtadfile|visapost|occup|entdepa|entdepd|entdepu|matflag|biryear|   dtaddto|gender|insnum|airline|    admnum|fltno|visatype|      city_id|airport_id|\n",
      "+-------+-----+------+------+------+-------+-------+-------+-------+-------+--------+-----+----------+--------+-----+-------+-------+-------+-------+-------+----------+------+------+-------+----------+-----+--------+-------------+----------+\n",
      "|5758114| 2016|     4|   262|   262|    FMY|  20574|      1|     MI|  20602|Pleasure|    1|2016-04-30|     BRT| null|      G|      O|   null|      M|   1964|2016-10-29|     F|  null|     QR|2147483647|00727|      B2|1589137899520|      KFMY|\n",
      "|5758115| 2016|     4|   262|   262|    FMY|  20574|      1|     NY|  20577|Pleasure|    1|2016-04-30|     DHR| null|      G|      O|   null|      M|   1969|2016-10-29|     M|  null|     SQ|2147483647|00026|      B2|1589137899520|      KFMY|\n",
      "|5765534| 2016|     4|   438|   438|    FMY|  20574|      1|     NY|  20582|Business|    1|2016-04-30|    null| null|      G|      O|   null|      M|   1963|2016-07-28|     M|  null|     LO|2147483647|00006|      WB|1589137899520|      KFMY|\n",
      "|5765536| 2016|     4|   438|   438|    FMY|  20574|      1|     NY|  20582|Pleasure|    1|2016-04-30|    null| null|      G|      O|   null|      M|   1973|2016-07-28|     F|  null|     CX|2147483647|00840|      WT|1589137899520|      KFMY|\n",
      "|5766209| 2016|     4|   438|   438|    FMY|  20574|      1|     CA|  20587|Pleasure|    1|2016-04-30|    null| null|      G|      O|   null|      M|   1956|2016-07-28|     F|  null|     UA|2147483647|00840|      WT|1589137899520|      KFMY|\n",
      "+-------+-----+------+------+------+-------+-------+-------+-------+-------+--------+-----+----------+--------+-----+-------+-------+-------+-------+-------+----------+------+------+-------+----------+-----+--------+-------------+----------+\n",
      "only showing top 5 rows\n",
      "\n",
      "root\n",
      " |-- cicid: integer (nullable = true)\n",
      " |-- i94yr: integer (nullable = true)\n",
      " |-- i94mon: integer (nullable = true)\n",
      " |-- i94cit: integer (nullable = true)\n",
      " |-- i94res: integer (nullable = true)\n",
      " |-- i94port: string (nullable = true)\n",
      " |-- arrdate: integer (nullable = true)\n",
      " |-- i94mode: integer (nullable = true)\n",
      " |-- i94addr: string (nullable = true)\n",
      " |-- depdate: integer (nullable = true)\n",
      " |-- i94visa: string (nullable = true)\n",
      " |-- count: integer (nullable = true)\n",
      " |-- dtadfile: date (nullable = true)\n",
      " |-- visapost: string (nullable = true)\n",
      " |-- occup: string (nullable = true)\n",
      " |-- entdepa: string (nullable = true)\n",
      " |-- entdepd: string (nullable = true)\n",
      " |-- entdepu: string (nullable = true)\n",
      " |-- matflag: string (nullable = true)\n",
      " |-- biryear: integer (nullable = true)\n",
      " |-- dtaddto: date (nullable = true)\n",
      " |-- gender: string (nullable = true)\n",
      " |-- insnum: string (nullable = true)\n",
      " |-- airline: string (nullable = true)\n",
      " |-- admnum: integer (nullable = true)\n",
      " |-- fltno: string (nullable = true)\n",
      " |-- visatype: string (nullable = true)\n",
      " |-- city_id: long (nullable = false)\n",
      " |-- airport_id: string (nullable = true)\n",
      "\n"
     ]
    }
   ],
   "source": [
    "# fact_immigration\n",
    "# df_immigration.show(2)\n",
    "dim_airport.show(2)\n",
    "df_i94cit=df_i94cntyl\n",
    "df_i94res=df_i94cntyl\n",
    "fact_immigration = df_immigration.join(\n",
    "    df_i94visa,df_immigration.i94visa==df_i94visa.id\n",
    ").withColumn(\"i94visa\", df_i94visa.visa)\n",
    "# fact_immigration = fact_immigration.join(\n",
    "#     df_i94cit,fact_immigration.i94cit==df_i94cit.id\n",
    "# ).withColumn(\"i94cit\", df_i94cit.country)\n",
    "# fact_immigration=fact_immigration.join(\n",
    "#     df_i94res,fact_immigration.i94cit==df_i94res.id\n",
    "# ).withColumn(\"i94res\", df_i94res.country)\n",
    "fact_immigration=fact_immigration.join(\n",
    "    dim_airport,fact_immigration.i94port==dim_airport.local_code\n",
    ").select(\n",
    "    \"cicid\",\n",
    "    \"i94yr\",\n",
    "    \"i94mon\",\n",
    "    \"i94cit\",\n",
    "    \"i94res\",\n",
    "    \"i94port\",\n",
    "    \"arrdate\",\n",
    "    \"i94mode\",\n",
    "    \"i94addr\",\n",
    "    \"depdate\",\n",
    "    \"i94visa\",\n",
    "    \"count\",\n",
    "    \"dtadfile\",\n",
    "    \"visapost\",\n",
    "    \"occup\",\n",
    "    \"entdepa\",\n",
    "    \"entdepd\",\n",
    "    \"entdepu\",\n",
    "    \"matflag\",\n",
    "    \"biryear\",\n",
    "    \"dtaddto\",\n",
    "    \"gender\",\n",
    "    \"insnum\",\n",
    "    \"airline\",\n",
    "    \"admnum\",\n",
    "    \"fltno\",\n",
    "    \"visatype\",\n",
    "    dim_airport.city_id,\n",
    "    dim_airport.id.alias(\"airport_id\"),\n",
    ")\n",
    "fact_immigration.show(5)\n",
    "fact_immigration.printSchema()\n",
    "\n",
    "fact_immigration.write.mode('overwrite').partitionBy(\"i94yr\",\"i94mon\").parquet('output/fact_immigration/')"
   ]
  },
  {
   "cell_type": "markdown",
   "metadata": {
    "editable": true
   },
   "source": [
    "#### 4.2 Data Quality Checks\n",
    "\n",
    "* df is not empty\n",
    "* city_id of dim_city is auto generate, so it's unique\n",
    "* date of dim_date is distincted\n",
    "* id in dim_aiport"
   ]
  },
  {
   "cell_type": "code",
   "execution_count": 148,
   "metadata": {
    "editable": true
   },
   "outputs": [],
   "source": [
    "df_list={\n",
    "    \"dim_country\":dim_country,\n",
    "    \"dim_city\":dim_city,\n",
    "    \"dim_airport\":dim_airport,\n",
    "    \"dim_date\":dim_date,\n",
    "    \"fact_immigration\":fact_immigration,\n",
    "}\n",
    "for k in df_list:\n",
    "    if df_list[k].count()<0:\n",
    "        raise Exception(f\"{k} is empty!\")\n",
    "        \n"
   ]
  },
  {
   "cell_type": "markdown",
   "metadata": {
    "editable": true
   },
   "source": [
    "#### 4.3 Data dictionary \n",
    "\n",
    "[data dicationary](data_dicationary.ipynb)"
   ]
  },
  {
   "cell_type": "markdown",
   "metadata": {
    "editable": true
   },
   "source": [
    "#### Step 5: Complete Project Write Up\n",
    "* Clearly state the rationale for the choice of tools and technologies for the project.\n",
    "* Propose how often the data should be updated and why.\n",
    "* Write a description of how you would approach the problem differently under the following scenarios:\n",
    " * The data was increased by 100x.\n",
    " * The data populates a dashboard that must be updated on a daily basis by 7am every day.\n",
    " * The database needed to be accessed by 100+ people."
   ]
  },
  {
   "cell_type": "code",
   "execution_count": null,
   "metadata": {
    "editable": true
   },
   "outputs": [],
   "source": []
  },
  {
   "cell_type": "code",
   "execution_count": null,
   "metadata": {
    "editable": true
   },
   "outputs": [],
   "source": []
  },
  {
   "cell_type": "code",
   "execution_count": null,
   "metadata": {
    "editable": true
   },
   "outputs": [],
   "source": []
  },
  {
   "cell_type": "code",
   "execution_count": null,
   "metadata": {
    "editable": true
   },
   "outputs": [],
   "source": []
  },
  {
   "cell_type": "code",
   "execution_count": null,
   "metadata": {
    "editable": true
   },
   "outputs": [],
   "source": []
  },
  {
   "cell_type": "code",
   "execution_count": null,
   "metadata": {
    "editable": true
   },
   "outputs": [],
   "source": []
  }
 ],
 "metadata": {
  "kernelspec": {
   "display_name": "Python 3",
   "language": "python",
   "name": "python3"
  },
  "language_info": {
   "codemirror_mode": {
    "name": "ipython",
    "version": 3
   },
   "file_extension": ".py",
   "mimetype": "text/x-python",
   "name": "python",
   "nbconvert_exporter": "python",
   "pygments_lexer": "ipython3",
   "version": "3.6.3"
  },
  "pycharm": {
   "stem_cell": {
    "cell_type": "raw",
    "metadata": {
     "collapsed": false
    },
    "source": []
   }
  }
 },
 "nbformat": 4,
 "nbformat_minor": 4
}
