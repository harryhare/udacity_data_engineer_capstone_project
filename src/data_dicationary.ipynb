{
 "cells": [
  {
   "cell_type": "markdown",
   "metadata": {
    "editable": true
   },
   "source": [
    "fields of immigration data:\n",
    "\n",
    "| column name | description |\n",
    "| :--- | :--- |\n",
    "| cicid | primary key |\n",
    "| i94yr | year |\n",
    "| i94mon | month |\n",
    "| i94cit | country of citizenship |\n",
    "| i94res | country of residency |\n",
    "| i94port | port of arrival |\n",
    "| arrdate | arrival date |\n",
    "| i94mode | transportation mode |\n",
    "| i94addr | state of arrival |\n",
    "| depdate | departure date |\n",
    "| i94bir | age|\n",
    "| i94visa | visa category |\n",
    "| count | number of people |\n",
    "| dtadfile | character date |\n",
    "| visapost | department issuing visa |\n",
    "| occup | occupation |\n",
    "| entdepa | arrival flag |\n",
    "| entdepd | departure flag |\n",
    "| entdepu | update flag |\n",
    "| matflag | match flag |\n",
    "| biryear | year of birth |\n",
    "| dtaddto | character date |\n",
    "| gender | gender |\n",
    "| insnum | ins number |\n",
    "| airline | airline |\n",
    "| admnum | admission number |\n",
    "| fltno | flight number |\n",
    "| visatype | visa type |"
   ]
  }
 ],
 "metadata": {
  "kernelspec": {
   "display_name": "Python 3",
   "language": "python",
   "name": "python3"
  },
  "language_info": {
   "codemirror_mode": {
    "name": "ipython",
    "version": 3
   },
   "file_extension": ".py",
   "mimetype": "text/x-python",
   "name": "python",
   "nbconvert_exporter": "python",
   "pygments_lexer": "ipython3",
   "version": "3.6.3"
  }
 },
 "nbformat": 4,
 "nbformat_minor": 4
}
