{
 "cells": [
  {
   "cell_type": "markdown",
   "metadata": {
    "editable": true,
    "pycharm": {
     "name": "#%% md\n"
    }
   },
   "source": [
    "\n",
    "* dim_airport\n",
    "\n",
    "| column name | description | comment |\n",
    "| :--- | :--- | :--- | \n",
    "| id | airport id |  primary key |\n",
    "| type | airport type |\n",
    "| name | airport full name |\n",
    "| elevation_ft | elevation of airport in foot |\n",
    "| state_code | state code |\n",
    "| municipality | the city where airport is build |\n",
    "| city_id | the city id of municipality | foreign key |\n",
    "| gps_code | gps code |\n",
    "| iata_code | iata code |\n",
    "| local_code | local code |\n",
    "| longitude | longitude of the airport |\n",
    "| latitude | latitude of the airport |\n",
    "\n",
    "* dim_city\n",
    "\n",
    "| column name | description | comment |\n",
    "| :--- | :--- | :--- | \n",
    "| city_id | city id | auto generate, unique, primary key |\n",
    "| city | city name|\n",
    "| state_code | state code |\n",
    "| state | state full name |\n",
    "| median_age | median age |\n",
    "| male | male population |\n",
    "| female | female population |\n",
    "| total | total population|\n",
    "| veterans | veterans population|\n",
    "| foreign_born | foreign born population |\n",
    "| average_household | average household number |\n",
    "\n",
    "* dim_date\n",
    "\n",
    "| column name | description | comment |\n",
    "| :--- | :--- | :--- | \n",
    "| date | date | DateType, primary key, unique\n",
    "| year | year |\n",
    "| month | month |\n",
    "| day | day |\n",
    "\n",
    "\n",
    "* dim_country\n",
    "\n",
    "| column name | description | comment |\n",
    "| :--- | :--- | :--- | \n",
    "| id | id | id, primary key , unique |\n",
    "| country | country full name|\n",
    "\n",
    "\n",
    "* fact_immigration:\n",
    "\n",
    "| column name | description | comment |\n",
    "| :--- | :--- | :--- |\n",
    "| cicid | id | primary key |\n",
    "| i94yr | year |\n",
    "| i94mon | month |\n",
    "| i94cit | country of citizenship | foreign key (dim_county) |\n",
    "| i94res | country of residency | foreign key (dim_county) |\n",
    "| i94port | port of arrival |\n",
    "| arrdate | arrival date |\n",
    "| i94mode | transportation mode |\n",
    "| i94addr | state of arrival |\n",
    "| depdate | departure date |\n",
    "| i94bir | age|\n",
    "| i94visa | visa category |\n",
    "| count | number of people |\n",
    "| dtadfile | character date | foreign key (dim_date)|\n",
    "| visapost | department issuing visa |\n",
    "| occup | occupation |\n",
    "| entdepa | arrival flag |\n",
    "| entdepd | departure flag |\n",
    "| entdepu | update flag |\n",
    "| matflag | match flag |\n",
    "| biryear | year of birth |\n",
    "| dtaddto | character date |\n",
    "| gender | gender |\n",
    "| insnum | ins number |\n",
    "| airline | airline |\n",
    "| admnum | admission number |\n",
    "| fltno | flight number |\n",
    "| visatype | visa type |\n",
    "| city_id | city id | foreign key(dim_city) |\n",
    "| airport_id | airport id | foreigi_key(dim_airport) |\n",
    "\n"
   ]
  }
 ],
 "metadata": {
  "kernelspec": {
   "display_name": "Python 3",
   "language": "python",
   "name": "python3"
  },
  "language_info": {
   "codemirror_mode": {
    "name": "ipython",
    "version": 3
   },
   "file_extension": ".py",
   "mimetype": "text/x-python",
   "name": "python",
   "nbconvert_exporter": "python",
   "pygments_lexer": "ipython3",
   "version": "3.6.3"
  },
  "pycharm": {
   "stem_cell": {
    "cell_type": "raw",
    "source": [],
    "metadata": {
     "collapsed": false
    }
   }
  }
 },
 "nbformat": 4,
 "nbformat_minor": 4
}