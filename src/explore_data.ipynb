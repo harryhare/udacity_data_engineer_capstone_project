{
 "cells": [
  {
   "cell_type": "code",
   "execution_count": 5,
   "metadata": {
    "collapsed": false,
    "editable": true,
    "jupyter": {
     "outputs_hidden": false
    },
    "pycharm": {
     "name": "#%%\n"
    }
   },
   "outputs": [],
   "source": [
    "import pandas as pd\n",
    "from pyspark.sql import SparkSession\n",
    "from pyspark.sql.functions import udf, col\n",
    "from pyspark.sql.functions import year, month, dayofmonth, hour, weekofyear, date_format,dayofweek\n",
    "from pyspark.sql.functions import expr\n",
    "from pyspark.sql.functions import unix_timestamp,from_unixtime\n",
    "from pyspark.sql.types import IntegerType,TimestampType"
   ]
  },
  {
   "cell_type": "code",
   "execution_count": 6,
   "metadata": {
    "collapsed": false,
    "editable": true,
    "jupyter": {
     "outputs_hidden": false
    },
    "pycharm": {
     "name": "#%%\n"
    }
   },
   "outputs": [],
   "source": [
    "spark = SparkSession.builder.\\\n",
    "config(\"spark.jars.packages\",\"saurfang:spark-sas7bdat:2.0.0-s_2.11\")\\\n",
    ".enableHiveSupport().getOrCreate()\n"
   ]
  },
  {
   "cell_type": "code",
   "execution_count": 7,
   "metadata": {
    "collapsed": false,
    "editable": true,
    "jupyter": {
     "outputs_hidden": false
    },
    "pycharm": {
     "name": "#%%\n"
    }
   },
   "outputs": [],
   "source": [
    "df_spark=spark.read.parquet(\"../output/sas_data\")"
   ]
  },
  {
   "cell_type": "code",
   "execution_count": 8,
   "metadata": {
    "collapsed": false,
    "editable": true,
    "jupyter": {
     "outputs_hidden": false
    },
    "pycharm": {
     "name": "#%%\n"
    }
   },
   "outputs": [
    {
     "name": "stdout",
     "output_type": "stream",
     "text": [
      "+---------+------+------+------+------+-------+-------+-------+-------+-------+------+-------+-----+--------+--------+-----+-------+-------+-------+-------+-------+--------+------+------+-------+--------------+-----+--------+\n",
      "|    cicid| i94yr|i94mon|i94cit|i94res|i94port|arrdate|i94mode|i94addr|depdate|i94bir|i94visa|count|dtadfile|visapost|occup|entdepa|entdepd|entdepu|matflag|biryear| dtaddto|gender|insnum|airline|        admnum|fltno|visatype|\n",
      "+---------+------+------+------+------+-------+-------+-------+-------+-------+------+-------+-----+--------+--------+-----+-------+-------+-------+-------+-------+--------+------+------+-------+--------------+-----+--------+\n",
      "|5748517.0|2016.0|   4.0| 245.0| 438.0|    LOS|20574.0|    1.0|     CA|20582.0|  40.0|    1.0|  1.0|20160430|     SYD| null|      G|      O|   null|      M| 1976.0|10292016|     F|  null|     QF|9.495387003E10|00011|      B1|\n",
      "+---------+------+------+------+------+-------+-------+-------+-------+-------+------+-------+-----+--------+--------+-----+-------+-------+-------+-------+-------+--------+------+------+-------+--------------+-----+--------+\n",
      "only showing top 1 row\n",
      "\n"
     ]
    },
    {
     "data": {
      "text/plain": [
       "3096313"
      ]
     },
     "execution_count": 8,
     "metadata": {},
     "output_type": "execute_result"
    }
   ],
   "source": [
    "df_spark.show(1)\n",
    "df_spark.take(1)\n",
    "df_spark.head()\n",
    "df_spark.count()"
   ]
  },
  {
   "cell_type": "code",
   "execution_count": 9,
   "metadata": {
    "editable": true
   },
   "outputs": [
    {
     "data": {
      "text/plain": [
       "3096313"
      ]
     },
     "execution_count": 9,
     "metadata": {},
     "output_type": "execute_result"
    }
   ],
   "source": [
    "df_spark.select(\"cicid\").distinct().count()"
   ]
  },
  {
   "cell_type": "code",
   "execution_count": 10,
   "metadata": {
    "collapsed": false,
    "editable": true,
    "jupyter": {
     "outputs_hidden": false
    },
    "pycharm": {
     "name": "#%%\n"
    }
   },
   "outputs": [
    {
     "name": "stdout",
     "output_type": "stream",
     "text": [
      "+-------+------+\n",
      "|i94port| count|\n",
      "+-------+------+\n",
      "|    NYC|485916|\n",
      "|    MIA|343941|\n",
      "|    LOS|310163|\n",
      "|    SFR|152586|\n",
      "|    ORL|149195|\n",
      "|    HHW|142720|\n",
      "|    NEW|136122|\n",
      "|    CHI|130564|\n",
      "|    HOU|101481|\n",
      "|    FTL| 95977|\n",
      "|    ATL| 92579|\n",
      "|    LVG| 89280|\n",
      "|    AGA| 80919|\n",
      "|    WAS| 74835|\n",
      "|    DAL| 71809|\n",
      "|    BOS| 57354|\n",
      "|    SEA| 47719|\n",
      "|    PHO| 38890|\n",
      "|    DET| 37832|\n",
      "|    TAM| 25632|\n",
      "+-------+------+\n",
      "only showing top 20 rows\n",
      "\n"
     ]
    }
   ],
   "source": [
    "df_spark.groupby(\"i94port\").count().orderBy(col(\"count\"),ascending=False).show()"
   ]
  },
  {
   "cell_type": "code",
   "execution_count": 11,
   "metadata": {
    "collapsed": false,
    "editable": true,
    "jupyter": {
     "outputs_hidden": false
    },
    "pycharm": {
     "name": "#%%\n"
    }
   },
   "outputs": [
    {
     "name": "stdout",
     "output_type": "stream",
     "text": [
      "+--------+-------+\n",
      "|visatype|  count|\n",
      "+--------+-------+\n",
      "|      WT|1309059|\n",
      "|      B2|1117897|\n",
      "|      WB| 282983|\n",
      "|      B1| 212410|\n",
      "|     GMT|  89133|\n",
      "|      F1|  39016|\n",
      "|      E2|  19383|\n",
      "|      CP|  14758|\n",
      "|      E1|   3743|\n",
      "|       I|   3176|\n",
      "|      F2|   2984|\n",
      "|      M1|   1317|\n",
      "|      I1|    234|\n",
      "|     GMB|    150|\n",
      "|      M2|     49|\n",
      "|     SBP|     11|\n",
      "|     CPL|     10|\n",
      "+--------+-------+\n",
      "\n"
     ]
    }
   ],
   "source": [
    "df_spark.groupby(\"visatype\").count().orderBy(col(\"count\"),ascending=False).show()"
   ]
  },
  {
   "cell_type": "code",
   "execution_count": 12,
   "metadata": {
    "collapsed": false,
    "editable": true,
    "jupyter": {
     "outputs_hidden": false
    },
    "pycharm": {
     "name": "#%%\n"
    }
   },
   "outputs": [
    {
     "name": "stdout",
     "output_type": "stream",
     "text": [
      "+-------+-------+\n",
      "|i94mode|  count|\n",
      "+-------+-------+\n",
      "|    1.0|2994505|\n",
      "|    3.0|  66660|\n",
      "|    2.0|  26349|\n",
      "|    9.0|   8560|\n",
      "|   null|    239|\n",
      "+-------+-------+\n",
      "\n"
     ]
    }
   ],
   "source": [
    "df_spark.groupby(\"i94mode\").count().orderBy(col(\"count\"),ascending=False).show()"
   ]
  },
  {
   "cell_type": "code",
   "execution_count": 13,
   "metadata": {
    "collapsed": false,
    "editable": true,
    "jupyter": {
     "outputs_hidden": false
    },
    "pycharm": {
     "name": "#%%\n"
    }
   },
   "outputs": [
    {
     "name": "stdout",
     "output_type": "stream",
     "text": [
      "+--------+-------+\n",
      "|visapost|  count|\n",
      "+--------+-------+\n",
      "|    null|1881250|\n",
      "|     MEX|  84720|\n",
      "|     SPL|  65678|\n",
      "|     BNS|  62032|\n",
      "|     GUZ|  48298|\n",
      "|     BGT|  46074|\n",
      "|     CRS|  37137|\n",
      "|     BEJ|  36703|\n",
      "|     SHG|  35507|\n",
      "|     GDL|  30970|\n",
      "|     RDJ|  29943|\n",
      "|     TLV|  28903|\n",
      "|     BMB|  28108|\n",
      "|     MDR|  26497|\n",
      "|     GYQ|  26231|\n",
      "|     SDO|  20924|\n",
      "|     MNL|  19513|\n",
      "|     MTR|  18105|\n",
      "|     LMA|  17479|\n",
      "|     SNJ|  16717|\n",
      "+--------+-------+\n",
      "only showing top 20 rows\n",
      "\n"
     ]
    }
   ],
   "source": [
    "df_spark.groupby(\"visapost\").count().orderBy(col(\"count\"),ascending=False).show()"
   ]
  },
  {
   "cell_type": "code",
   "execution_count": 14,
   "metadata": {
    "collapsed": false,
    "editable": true,
    "jupyter": {
     "outputs_hidden": false
    },
    "pycharm": {
     "name": "#%%\n"
    }
   },
   "outputs": [
    {
     "name": "stdout",
     "output_type": "stream",
     "text": [
      "+------+-------+\n",
      "|gender|  count|\n",
      "+------+-------+\n",
      "|     M|1377224|\n",
      "|     F|1302743|\n",
      "|  null| 414269|\n",
      "|     X|   1610|\n",
      "|     U|    467|\n",
      "+------+-------+\n",
      "\n"
     ]
    }
   ],
   "source": [
    "df_spark.groupby(\"gender\").count().orderBy(col(\"count\"),ascending=False).show()"
   ]
  },
  {
   "cell_type": "code",
   "execution_count": 15,
   "metadata": {
    "collapsed": false,
    "editable": true,
    "jupyter": {
     "outputs_hidden": false
    },
    "pycharm": {
     "name": "#%%\n"
    }
   },
   "outputs": [
    {
     "name": "stdout",
     "output_type": "stream",
     "text": [
      "+-------+-----+\n",
      "|biryear|count|\n",
      "+-------+-----+\n",
      "|   null|  802|\n",
      "| 1902.0|    1|\n",
      "| 1905.0|    1|\n",
      "| 1906.0|    1|\n",
      "| 1907.0|    2|\n",
      "| 1908.0|    2|\n",
      "| 1909.0|    1|\n",
      "| 1911.0|    2|\n",
      "| 1913.0|    1|\n",
      "| 1914.0|    4|\n",
      "| 1915.0|    2|\n",
      "| 1916.0|   24|\n",
      "| 1917.0|   19|\n",
      "| 1918.0|   26|\n",
      "| 1919.0|   52|\n",
      "| 1920.0|   46|\n",
      "| 1921.0|   88|\n",
      "| 1922.0|  104|\n",
      "| 1923.0|  185|\n",
      "| 1924.0|  241|\n",
      "| 1925.0|  319|\n",
      "| 1926.0|  463|\n",
      "| 1927.0|  638|\n",
      "| 1928.0|  884|\n",
      "| 1929.0| 1204|\n",
      "| 1930.0| 1594|\n",
      "| 1931.0| 1999|\n",
      "| 1932.0| 2500|\n",
      "| 1933.0| 2965|\n",
      "| 1934.0| 3784|\n",
      "| 1935.0| 4629|\n",
      "| 1936.0| 5635|\n",
      "| 1937.0| 6813|\n",
      "| 1938.0| 8019|\n",
      "| 1939.0| 9340|\n",
      "| 1940.0|10897|\n",
      "| 1941.0|12305|\n",
      "| 1942.0|14198|\n",
      "| 1943.0|16238|\n",
      "| 1944.0|18559|\n",
      "| 1945.0|19988|\n",
      "| 1946.0|24891|\n",
      "| 1947.0|28451|\n",
      "| 1948.0|29576|\n",
      "| 1949.0|32063|\n",
      "| 1950.0|33667|\n",
      "| 1951.0|34141|\n",
      "| 1952.0|37002|\n",
      "| 1953.0|38333|\n",
      "| 1954.0|41352|\n",
      "| 1955.0|43914|\n",
      "| 1956.0|45950|\n",
      "| 1957.0|44921|\n",
      "| 1958.0|45853|\n",
      "| 1959.0|47674|\n",
      "| 1960.0|49722|\n",
      "| 1961.0|50288|\n",
      "| 1962.0|53865|\n",
      "| 1963.0|55673|\n",
      "| 1964.0|56579|\n",
      "| 1965.0|57312|\n",
      "| 1966.0|58946|\n",
      "| 1967.0|56041|\n",
      "| 1968.0|57420|\n",
      "| 1969.0|58127|\n",
      "| 1970.0|59730|\n",
      "| 1971.0|62075|\n",
      "| 1972.0|62001|\n",
      "| 1973.0|61430|\n",
      "| 1974.0|62150|\n",
      "| 1975.0|62622|\n",
      "| 1976.0|66568|\n",
      "| 1977.0|63035|\n",
      "| 1978.0|64262|\n",
      "| 1979.0|66494|\n",
      "| 1980.0|67960|\n",
      "| 1981.0|69626|\n",
      "| 1982.0|70251|\n",
      "| 1983.0|70415|\n",
      "| 1984.0|69809|\n",
      "| 1985.0|70409|\n",
      "| 1986.0|71958|\n",
      "| 1987.0|67762|\n",
      "| 1988.0|65566|\n",
      "| 1989.0|60340|\n",
      "| 1990.0|54301|\n",
      "| 1991.0|46335|\n",
      "| 1992.0|39451|\n",
      "| 1993.0|31976|\n",
      "| 1994.0|27102|\n",
      "| 1995.0|23899|\n",
      "| 1996.0|20613|\n",
      "| 1997.0|18865|\n",
      "| 1998.0|19117|\n",
      "| 1999.0|20326|\n",
      "| 2000.0|21153|\n",
      "| 2001.0|19401|\n",
      "| 2002.0|17435|\n",
      "| 2003.0|16490|\n",
      "| 2004.0|16840|\n",
      "+-------+-----+\n",
      "only showing top 100 rows\n",
      "\n"
     ]
    }
   ],
   "source": [
    "df_spark.groupby(\"biryear\").count().orderBy(col(\"biryear\")).show(100)"
   ]
  },
  {
   "cell_type": "code",
   "execution_count": 16,
   "metadata": {
    "collapsed": false,
    "editable": true,
    "jupyter": {
     "outputs_hidden": false
    },
    "pycharm": {
     "name": "#%%\n"
    }
   },
   "outputs": [
    {
     "name": "stdout",
     "output_type": "stream",
     "text": [
      "+-------+------+\n",
      "|airline| count|\n",
      "+-------+------+\n",
      "|     AA|310091|\n",
      "|     UA|264271|\n",
      "|     DL|252526|\n",
      "|     BA|190997|\n",
      "|     LH|120556|\n",
      "|     VS|113384|\n",
      "|   null| 83627|\n",
      "|     AF| 81113|\n",
      "|     KE| 71047|\n",
      "|     JL| 69075|\n",
      "+-------+------+\n",
      "only showing top 10 rows\n",
      "\n"
     ]
    },
    {
     "data": {
      "text/plain": [
       "535"
      ]
     },
     "execution_count": 16,
     "metadata": {},
     "output_type": "execute_result"
    }
   ],
   "source": [
    "df_airline=df_spark.groupby(\"airline\").count().orderBy(col(\"count\"),ascending=False)\n",
    "df_airline.show(10)\n",
    "df_airline.count()"
   ]
  },
  {
   "cell_type": "code",
   "execution_count": null,
   "metadata": {
    "editable": true
   },
   "outputs": [],
   "source": []
  }
 ],
 "metadata": {
  "kernelspec": {
   "display_name": "Python 3",
   "language": "python",
   "name": "python3"
  },
  "language_info": {
   "codemirror_mode": {
    "name": "ipython",
    "version": 3
   },
   "file_extension": ".py",
   "mimetype": "text/x-python",
   "name": "python",
   "nbconvert_exporter": "python",
   "pygments_lexer": "ipython3",
   "version": "3.6.3"
  },
  "pycharm": {
   "stem_cell": {
    "cell_type": "raw",
    "metadata": {
     "collapsed": false
    },
    "source": []
   }
  }
 },
 "nbformat": 4,
 "nbformat_minor": 4
}
